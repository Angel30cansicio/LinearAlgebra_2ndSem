{
  "nbformat": 4,
  "nbformat_minor": 0,
  "metadata": {
    "colab": {
      "name": "Activity 1 - Python Fundamentals ",
      "provenance": [],
      "collapsed_sections": [],
      "authorship_tag": "ABX9TyNvrTkiTwKuTStaHfj+Wr5N",
      "include_colab_link": true
    },
    "kernelspec": {
      "name": "python3",
      "display_name": "Python 3"
    },
    "language_info": {
      "name": "python"
    }
  },
  "cells": [
    {
      "cell_type": "markdown",
      "metadata": {
        "id": "view-in-github",
        "colab_type": "text"
      },
      "source": [
        "<a href=\"https://colab.research.google.com/github/Angel30cansicio/LinearAlgebra_2ndSem/blob/main/Activity_1_Python_Fundamentals.ipynb\" target=\"_parent\"><img src=\"https://colab.research.google.com/assets/colab-badge.svg\" alt=\"Open In Colab\"/></a>"
      ]
    },
    {
      "cell_type": "code",
      "execution_count": null,
      "metadata": {
        "id": "TIMa0WKZrco-"
      },
      "outputs": [],
      "source": [
        ""
      ]
    },
    {
      "cell_type": "markdown",
      "source": [
        "# Welcome to Python Fundamentals\n",
        "In this module, we are going to establish or review our skills in Python programming. In this notebook we are going to cover:\n",
        "* Variables and Data Types \n",
        "* Operations\n",
        "* Input and Output Operations\n",
        "* Logic Control\n",
        "* Iterables\n",
        "* Functions"
      ],
      "metadata": {
        "id": "64aKvmkytKaz"
      }
    },
    {
      "cell_type": "markdown",
      "source": [
        "## Variable and Data Types\n"
      ],
      "metadata": {
        "id": "NEIjwhYltW1R"
      }
    },
    {
      "cell_type": "markdown",
      "source": [
        "A variable's data type means that it limits the number of values it can hold and the operations that it can do on it. It can, for example, include a variety of values and procedures that can carry on it. The processor allocates memory and chooses what can be put in reserved memory based on a variable's data type."
      ],
      "metadata": {
        "id": "Rlnt5oWMl7Bt"
      }
    },
    {
      "cell_type": "markdown",
      "source": [
        ""
      ],
      "metadata": {
        "id": "VrOLgDpJebK-"
      }
    },
    {
      "cell_type": "code",
      "source": [
        "x = 1\n",
        "a,b = 0, -1\n",
        "a"
      ],
      "metadata": {
        "colab": {
          "base_uri": "https://localhost:8080/"
        },
        "id": "G1-tqZpCtlrQ",
        "outputId": "a1082b87-37c3-451e-9235-f99f3ebdda03"
      },
      "execution_count": null,
      "outputs": [
        {
          "output_type": "execute_result",
          "data": {
            "text/plain": [
              "0"
            ]
          },
          "metadata": {},
          "execution_count": 1
        }
      ]
    },
    {
      "cell_type": "code",
      "source": [
        "type (x)\n"
      ],
      "metadata": {
        "colab": {
          "base_uri": "https://localhost:8080/"
        },
        "id": "GXRCm2vSvF9n",
        "outputId": "c9b6af82-a93c-4a0d-ab50-48cef6fef1fc"
      },
      "execution_count": null,
      "outputs": [
        {
          "output_type": "execute_result",
          "data": {
            "text/plain": [
              "int"
            ]
          },
          "metadata": {},
          "execution_count": 3
        }
      ]
    },
    {
      "cell_type": "code",
      "source": [
        "y = 0.1\n",
        "type (y)\n"
      ],
      "metadata": {
        "colab": {
          "base_uri": "https://localhost:8080/"
        },
        "id": "F7HEyuMxwhyy",
        "outputId": "27bba39c-a114-46ec-c3d9-77e48d3270f6"
      },
      "execution_count": null,
      "outputs": [
        {
          "output_type": "execute_result",
          "data": {
            "text/plain": [
              "float"
            ]
          },
          "metadata": {},
          "execution_count": 4
        }
      ]
    },
    {
      "cell_type": "code",
      "source": [
        "x= (x)\n",
        "type (x)\n"
      ],
      "metadata": {
        "colab": {
          "base_uri": "https://localhost:8080/"
        },
        "id": "GpGGWvigwzZU",
        "outputId": "865290c8-7b59-46b6-ff71-b3ee7253be36"
      },
      "execution_count": null,
      "outputs": [
        {
          "output_type": "execute_result",
          "data": {
            "text/plain": [
              "int"
            ]
          },
          "metadata": {},
          "execution_count": 5
        }
      ]
    },
    {
      "cell_type": "code",
      "source": [
        "x= float (x)\n",
        "type (x)"
      ],
      "metadata": {
        "colab": {
          "base_uri": "https://localhost:8080/"
        },
        "id": "j0sxbwfgxBTi",
        "outputId": "f8ec68d9-37e2-41bb-9afa-b0c73d8b1c41"
      },
      "execution_count": null,
      "outputs": [
        {
          "output_type": "execute_result",
          "data": {
            "text/plain": [
              "float"
            ]
          },
          "metadata": {},
          "execution_count": 6
        }
      ]
    },
    {
      "cell_type": "code",
      "source": [
        "s,t,u = \"0\",'1','one'\n",
        "type(s)\n"
      ],
      "metadata": {
        "colab": {
          "base_uri": "https://localhost:8080/"
        },
        "id": "_wbwv1YYxN8_",
        "outputId": "9bd20b4c-51a5-444d-e3e1-18e0446c6153"
      },
      "execution_count": null,
      "outputs": [
        {
          "output_type": "execute_result",
          "data": {
            "text/plain": [
              "str"
            ]
          },
          "metadata": {},
          "execution_count": 7
        }
      ]
    },
    {
      "cell_type": "code",
      "source": [
        "s_int = int (s)\n",
        "s_int"
      ],
      "metadata": {
        "colab": {
          "base_uri": "https://localhost:8080/"
        },
        "id": "rXzpCwhpxb5v",
        "outputId": "3d7128f7-19cf-4125-bce0-e846c3f29fa9"
      },
      "execution_count": null,
      "outputs": [
        {
          "output_type": "execute_result",
          "data": {
            "text/plain": [
              "0"
            ]
          },
          "metadata": {},
          "execution_count": 8
        }
      ]
    },
    {
      "cell_type": "code",
      "source": [
        "t_int = int(t)\n",
        "type(t)\n"
      ],
      "metadata": {
        "colab": {
          "base_uri": "https://localhost:8080/"
        },
        "id": "79_GESRCxkJI",
        "outputId": "5d34f90b-bdaa-4f77-deb0-78a1bad033ba"
      },
      "execution_count": null,
      "outputs": [
        {
          "output_type": "execute_result",
          "data": {
            "text/plain": [
              "str"
            ]
          },
          "metadata": {},
          "execution_count": 9
        }
      ]
    },
    {
      "cell_type": "code",
      "source": [
        "s_int = int (s)\n",
        "s_int"
      ],
      "metadata": {
        "colab": {
          "base_uri": "https://localhost:8080/"
        },
        "id": "6k8c1JbexzVj",
        "outputId": "9b120fb7-f409-4fae-9414-55fe34e14807"
      },
      "execution_count": null,
      "outputs": [
        {
          "output_type": "execute_result",
          "data": {
            "text/plain": [
              "0"
            ]
          },
          "metadata": {},
          "execution_count": 10
        }
      ]
    },
    {
      "cell_type": "markdown",
      "source": [
        "##Operations"
      ],
      "metadata": {
        "id": "pqJT8mPQyYUU"
      }
    },
    {
      "cell_type": "markdown",
      "source": [
        "###Arithmetic"
      ],
      "metadata": {
        "id": "JDJ7sofxyhz-"
      }
    },
    {
      "cell_type": "markdown",
      "source": [
        "The everyday fundamental arithmetic operations are division, subtraction, multiplication, and addition. With two operands, these arithmetic operators  known as binary arithmetic operators. Constants or variables can  used as operands."
      ],
      "metadata": {
        "id": "tozDTTOImAnX"
      }
    },
    {
      "cell_type": "code",
      "source": [
        "a,b,c,d = 2.0, -0.7, 0, -32"
      ],
      "metadata": {
        "id": "Fnn_ggUPyofW"
      },
      "execution_count": null,
      "outputs": []
    },
    {
      "cell_type": "markdown",
      "source": [
        ""
      ],
      "metadata": {
        "id": "JVd-MtCh7sxk"
      }
    },
    {
      "cell_type": "code",
      "source": [
        "from typing import ByteString\n",
        "### Addition\n",
        "S= a+b \n",
        "S"
      ],
      "metadata": {
        "colab": {
          "base_uri": "https://localhost:8080/"
        },
        "id": "1FDopbxSzPxP",
        "outputId": "2a3b5895-e613-4786-a690-50d0dd279425"
      },
      "execution_count": null,
      "outputs": [
        {
          "output_type": "execute_result",
          "data": {
            "text/plain": [
              "1.3"
            ]
          },
          "metadata": {},
          "execution_count": 21
        }
      ]
    },
    {
      "cell_type": "code",
      "source": [
        "###Subtraction\n",
        "D= b-d \n",
        "D"
      ],
      "metadata": {
        "colab": {
          "base_uri": "https://localhost:8080/"
        },
        "id": "alSQqXWfzdsR",
        "outputId": "4f031ac0-dec1-491a-f08f-69b67007545d"
      },
      "execution_count": null,
      "outputs": [
        {
          "output_type": "execute_result",
          "data": {
            "text/plain": [
              "31.3"
            ]
          },
          "metadata": {},
          "execution_count": 22
        }
      ]
    },
    {
      "cell_type": "code",
      "source": [
        "### Multiplication\n",
        "P= a*d \n",
        "P"
      ],
      "metadata": {
        "colab": {
          "base_uri": "https://localhost:8080/"
        },
        "id": "miVJtZGyzsH8",
        "outputId": "c7a44268-3e9f-4ef5-db8f-ab7d273e3edf"
      },
      "execution_count": null,
      "outputs": [
        {
          "output_type": "execute_result",
          "data": {
            "text/plain": [
              "-64.0"
            ]
          },
          "metadata": {},
          "execution_count": 23
        }
      ]
    },
    {
      "cell_type": "code",
      "source": [
        "###Division\n",
        "Q = c/a\n",
        "Q"
      ],
      "metadata": {
        "colab": {
          "base_uri": "https://localhost:8080/"
        },
        "id": "D84sZENBz3m7",
        "outputId": "18d283d5-771e-4d66-8c8b-002c05dbacdb"
      },
      "execution_count": null,
      "outputs": [
        {
          "output_type": "execute_result",
          "data": {
            "text/plain": [
              "0.0"
            ]
          },
          "metadata": {},
          "execution_count": 24
        }
      ]
    },
    {
      "cell_type": "code",
      "source": [
        "### Floor Division\n",
        "Fq= a//b \n",
        "Fq "
      ],
      "metadata": {
        "colab": {
          "base_uri": "https://localhost:8080/"
        },
        "id": "2z0wyScA0CN0",
        "outputId": "6048d9cb-1722-4304-f53a-84e9b88cef58"
      },
      "execution_count": null,
      "outputs": [
        {
          "output_type": "execute_result",
          "data": {
            "text/plain": [
              "-3.0"
            ]
          },
          "metadata": {},
          "execution_count": 25
        }
      ]
    },
    {
      "cell_type": "code",
      "source": [
        "###Exponentiation\n",
        "E=a**b \n",
        "E "
      ],
      "metadata": {
        "colab": {
          "base_uri": "https://localhost:8080/"
        },
        "id": "7PioS6KO0Oe5",
        "outputId": "9b1a1b43-3e7d-4b43-808f-2594a55ddf90"
      },
      "execution_count": null,
      "outputs": [
        {
          "output_type": "execute_result",
          "data": {
            "text/plain": [
              "0.6155722066724582"
            ]
          },
          "metadata": {},
          "execution_count": 26
        }
      ]
    },
    {
      "cell_type": "code",
      "source": [
        "### Modulo\n",
        "mod = d%a \n",
        "mod "
      ],
      "metadata": {
        "colab": {
          "base_uri": "https://localhost:8080/"
        },
        "id": "KhCptSP90dzv",
        "outputId": "60469577-e055-464c-c56b-ea21c59a0ce9"
      },
      "execution_count": null,
      "outputs": [
        {
          "output_type": "execute_result",
          "data": {
            "text/plain": [
              "0.0"
            ]
          },
          "metadata": {},
          "execution_count": 28
        }
      ]
    },
    {
      "cell_type": "markdown",
      "source": [
        "###Assignment Operation"
      ],
      "metadata": {
        "id": "F22GHuRc1oML"
      }
    },
    {
      "cell_type": "markdown",
      "source": [
        "The right-hand operand of the assignment operations is assigned to a variable, a property, or an indexer element supplied by the left-hand operand. The value assigned to the left-hand operand is the outcome of an assignment expression."
      ],
      "metadata": {
        "id": "6uitFB9XmFqp"
      }
    },
    {
      "cell_type": "code",
      "source": [
        "G, H, J, K = 0, 100, 2, 2"
      ],
      "metadata": {
        "id": "6EgoYpMQ1sE6"
      },
      "execution_count": null,
      "outputs": []
    },
    {
      "cell_type": "code",
      "source": [
        "G, H, J, K = 0, 100,2,2\n"
      ],
      "metadata": {
        "id": "Xn3MLT3y2GOi"
      },
      "execution_count": null,
      "outputs": []
    },
    {
      "cell_type": "code",
      "source": [
        "G += a\n",
        "G"
      ],
      "metadata": {
        "colab": {
          "base_uri": "https://localhost:8080/"
        },
        "id": "6htbgfZs2TFH",
        "outputId": "2a039a55-d2ad-414f-94da-ae9e7eae7bff"
      },
      "execution_count": null,
      "outputs": [
        {
          "output_type": "execute_result",
          "data": {
            "text/plain": [
              "2.0"
            ]
          },
          "metadata": {},
          "execution_count": 64
        }
      ]
    },
    {
      "cell_type": "code",
      "source": [
        "H-= d\n",
        "H"
      ],
      "metadata": {
        "colab": {
          "base_uri": "https://localhost:8080/"
        },
        "id": "xXZIZMgt8ocp",
        "outputId": "4f1af333-a75c-4469-efd8-794bde82b260"
      },
      "execution_count": null,
      "outputs": [
        {
          "output_type": "execute_result",
          "data": {
            "text/plain": [
              "132"
            ]
          },
          "metadata": {},
          "execution_count": 65
        }
      ]
    },
    {
      "cell_type": "code",
      "source": [
        "J*= 2\n",
        "J "
      ],
      "metadata": {
        "colab": {
          "base_uri": "https://localhost:8080/"
        },
        "id": "Mzp3n3HJ2Yl5",
        "outputId": "3c490ebc-4265-4d6d-be2e-b3a6f78361a3"
      },
      "execution_count": null,
      "outputs": [
        {
          "output_type": "execute_result",
          "data": {
            "text/plain": [
              "8"
            ]
          },
          "metadata": {},
          "execution_count": 55
        }
      ]
    },
    {
      "cell_type": "code",
      "source": [
        "K**= 2\n",
        "K"
      ],
      "metadata": {
        "colab": {
          "base_uri": "https://localhost:8080/"
        },
        "id": "I-HeKhZc2gOL",
        "outputId": "43aebb43-9cb7-4144-a6e9-6bbf01131483"
      },
      "execution_count": null,
      "outputs": [
        {
          "output_type": "execute_result",
          "data": {
            "text/plain": [
              "4"
            ]
          },
          "metadata": {},
          "execution_count": 44
        }
      ]
    },
    {
      "cell_type": "markdown",
      "source": [
        "##Comparators"
      ],
      "metadata": {
        "id": "HlGuADEf3ToI"
      }
    },
    {
      "cell_type": "markdown",
      "source": [
        "When two values are compared together, they are referred to be comparators. It compares two  values and generates a result. It is most usually associated with numerical numbers, but it may also use for other sorts of data."
      ],
      "metadata": {
        "id": "b_MnjuPznD1b"
      }
    },
    {
      "cell_type": "markdown",
      "source": [
        ""
      ],
      "metadata": {
        "id": "ZShh8AWNmsJi"
      }
    },
    {
      "cell_type": "code",
      "source": [
        "res_1, res_2, res_3 = 1, 2.0, \"1\" \n",
        "true_val = 1.0"
      ],
      "metadata": {
        "id": "U_SdTLqJ3a4H"
      },
      "execution_count": null,
      "outputs": []
    },
    {
      "cell_type": "code",
      "source": [
        "## Equality \n",
        "res_2 == true_val "
      ],
      "metadata": {
        "colab": {
          "base_uri": "https://localhost:8080/"
        },
        "id": "s_bCokqc38q1",
        "outputId": "b1ad4987-fab4-4553-d861-4dfae063d69f"
      },
      "execution_count": null,
      "outputs": [
        {
          "output_type": "execute_result",
          "data": {
            "text/plain": [
              "False"
            ]
          },
          "metadata": {},
          "execution_count": 38
        }
      ]
    },
    {
      "cell_type": "code",
      "source": [
        "## Non-equality \n",
        "res_2 != true_val"
      ],
      "metadata": {
        "colab": {
          "base_uri": "https://localhost:8080/"
        },
        "id": "JQQF1T8b4Gv4",
        "outputId": "5fd3fb2e-32f7-493c-c14a-cde117896b57"
      },
      "execution_count": null,
      "outputs": [
        {
          "output_type": "execute_result",
          "data": {
            "text/plain": [
              "True"
            ]
          },
          "metadata": {},
          "execution_count": 39
        }
      ]
    },
    {
      "cell_type": "code",
      "source": [
        "## Inequality\n",
        "t1= res_1 > res_2 \n",
        "t2= res_1 < res_2/2\n",
        "t3= res_1 >= res_2/2 \n",
        "t4= res_1 <= res_2 \n",
        "t1"
      ],
      "metadata": {
        "colab": {
          "base_uri": "https://localhost:8080/"
        },
        "id": "fCzMXfF54WiT",
        "outputId": "07680790-1b1f-40fd-b7b0-c66ca168a12d"
      },
      "execution_count": null,
      "outputs": [
        {
          "output_type": "execute_result",
          "data": {
            "text/plain": [
              "False"
            ]
          },
          "metadata": {},
          "execution_count": 44
        }
      ]
    },
    {
      "cell_type": "markdown",
      "source": [
        "####Logical\n"
      ],
      "metadata": {
        "id": "cSxwri545p8L"
      }
    },
    {
      "cell_type": "markdown",
      "source": [
        "Logical operators are used to executing logical operations on variables' values. Either true or false is the value. The results of the truth values can use to determine the conditions."
      ],
      "metadata": {
        "id": "sJQZ7AeMmtba"
      }
    },
    {
      "cell_type": "code",
      "source": [
        "res_1 == true_val"
      ],
      "metadata": {
        "colab": {
          "base_uri": "https://localhost:8080/"
        },
        "id": "q-n5drhs5uoq",
        "outputId": "02786973-ad30-43c5-b8b3-608af09a637e"
      },
      "execution_count": null,
      "outputs": [
        {
          "output_type": "execute_result",
          "data": {
            "text/plain": [
              "True"
            ]
          },
          "metadata": {},
          "execution_count": 45
        }
      ]
    },
    {
      "cell_type": "code",
      "source": [
        "res_1 is true_val"
      ],
      "metadata": {
        "colab": {
          "base_uri": "https://localhost:8080/"
        },
        "id": "r0HN5thp6Iy-",
        "outputId": "e47d7497-5040-4336-f1a8-d607d11f00f2"
      },
      "execution_count": null,
      "outputs": [
        {
          "output_type": "execute_result",
          "data": {
            "text/plain": [
              "False"
            ]
          },
          "metadata": {},
          "execution_count": 46
        }
      ]
    },
    {
      "cell_type": "code",
      "source": [
        "res_1 is not true_val"
      ],
      "metadata": {
        "colab": {
          "base_uri": "https://localhost:8080/"
        },
        "id": "or_BCLgg6NJK",
        "outputId": "451ebcdc-4a11-4157-ab23-5d1a05850b6b"
      },
      "execution_count": null,
      "outputs": [
        {
          "output_type": "execute_result",
          "data": {
            "text/plain": [
              "True"
            ]
          },
          "metadata": {},
          "execution_count": 47
        }
      ]
    },
    {
      "cell_type": "code",
      "source": [
        "p,q = True, False\n",
        "e = not(q)\n",
        "e"
      ],
      "metadata": {
        "colab": {
          "base_uri": "https://localhost:8080/"
        },
        "id": "l5-uQ8KO9zOn",
        "outputId": "95e68612-fa72-42b9-e613-a05203f8aee9"
      },
      "execution_count": null,
      "outputs": [
        {
          "output_type": "execute_result",
          "data": {
            "text/plain": [
              "True"
            ]
          },
          "metadata": {},
          "execution_count": 58
        }
      ]
    },
    {
      "cell_type": "code",
      "source": [
        "p,q = True, False\n",
        "xor = (not p and q) or  (p and not q)\n",
        "xor"
      ],
      "metadata": {
        "colab": {
          "base_uri": "https://localhost:8080/"
        },
        "id": "b1T-g6Yy-ARQ",
        "outputId": "7403d81a-5122-4edb-b96a-7fdce2314264"
      },
      "execution_count": null,
      "outputs": [
        {
          "output_type": "execute_result",
          "data": {
            "text/plain": [
              "True"
            ]
          },
          "metadata": {},
          "execution_count": 59
        }
      ]
    },
    {
      "cell_type": "code",
      "source": [
        "p,q = True, False \n",
        "conj = p and q \n",
        "conj "
      ],
      "metadata": {
        "colab": {
          "base_uri": "https://localhost:8080/"
        },
        "id": "3SscrW8Y6Rs_",
        "outputId": "e64b0a11-3a9f-4a6f-b8b6-f43b87474b37"
      },
      "execution_count": null,
      "outputs": [
        {
          "output_type": "execute_result",
          "data": {
            "text/plain": [
              "False"
            ]
          },
          "metadata": {},
          "execution_count": 48
        }
      ]
    },
    {
      "cell_type": "code",
      "source": [
        "p,q = True, False\n",
        "conj = p or q \n",
        "conj"
      ],
      "metadata": {
        "colab": {
          "base_uri": "https://localhost:8080/"
        },
        "id": "xxJc1LNe6dG7",
        "outputId": "479d8403-eb32-46f6-c715-4bfab582439c"
      },
      "execution_count": null,
      "outputs": [
        {
          "output_type": "execute_result",
          "data": {
            "text/plain": [
              "True"
            ]
          },
          "metadata": {},
          "execution_count": 49
        }
      ]
    },
    {
      "cell_type": "markdown",
      "source": [
        "###I/O"
      ],
      "metadata": {
        "id": "EoRtJbLS8FQs"
      }
    },
    {
      "cell_type": "markdown",
      "source": [
        "By evaluating the results, It is an input output code that opens a source code for both adding and reading"
      ],
      "metadata": {
        "id": "YD04c16Dgetn"
      }
    },
    {
      "cell_type": "code",
      "source": [
        "print(\"Hello Mars\")\n"
      ],
      "metadata": {
        "colab": {
          "base_uri": "https://localhost:8080/"
        },
        "id": "6Z82rBXV8LhE",
        "outputId": "b84206c0-f4e9-493f-cbdb-bbe8405ef1f7"
      },
      "execution_count": null,
      "outputs": [
        {
          "output_type": "stream",
          "name": "stdout",
          "text": [
            "Hello Mars\n"
          ]
        }
      ]
    },
    {
      "cell_type": "code",
      "source": [
        "cnt = 1"
      ],
      "metadata": {
        "id": "biQUEFy48jwO"
      },
      "execution_count": null,
      "outputs": []
    },
    {
      "cell_type": "code",
      "source": [
        "string = \"Hello World\"\n",
        "print(string, \", Current run count is:\", cnt)\n",
        "cnt += 4"
      ],
      "metadata": {
        "colab": {
          "base_uri": "https://localhost:8080/"
        },
        "id": "t7NkOkgx8oa5",
        "outputId": "ab82e17e-fd8d-4849-a511-18582d4c3ac9"
      },
      "execution_count": null,
      "outputs": [
        {
          "output_type": "stream",
          "name": "stdout",
          "text": [
            "Hello World , Current run count is: 1\n"
          ]
        }
      ]
    },
    {
      "cell_type": "code",
      "source": [
        "print(f\"{string}, Current count is {cnt}\")"
      ],
      "metadata": {
        "colab": {
          "base_uri": "https://localhost:8080/"
        },
        "id": "LT3PS8RM9dU1",
        "outputId": "a25e1606-0671-46ca-ed07-156e6e2b7a27"
      },
      "execution_count": null,
      "outputs": [
        {
          "output_type": "stream",
          "name": "stdout",
          "text": [
            "Hello World, Current count is 5\n"
          ]
        }
      ]
    },
    {
      "cell_type": "code",
      "source": [
        "sem_grade = 82.2435646557461234 \n",
        "name=\"\"\n",
        "print(\"Hello {}, your semestral grade is {}\".format (name, sem_grade))"
      ],
      "metadata": {
        "colab": {
          "base_uri": "https://localhost:8080/"
        },
        "id": "LJORTasu95Qx",
        "outputId": "9786e279-c3ad-40b1-d3e6-2b31dc7dfa28"
      },
      "execution_count": null,
      "outputs": [
        {
          "output_type": "stream",
          "name": "stdout",
          "text": [
            "Hello , your semestral grade is 82.24356465574613\n"
          ]
        }
      ]
    },
    {
      "cell_type": "code",
      "source": [
        "w_pg, w_mg, w_fg = 0.3, 0.3, 0.4\n",
        "print(\"The weights of your semestral grades are:\\\n",
        "\\n\\t{:.2%} for Prelims\\\n",
        "\\n\\t{:.2%} for Midterms, and\\\n",
        "\\n\\t{:.2%} for Finals.\".format(w_pg, w_mg, w_fg))"
      ],
      "metadata": {
        "colab": {
          "base_uri": "https://localhost:8080/"
        },
        "id": "MdQVFs0ttr7c",
        "outputId": "900e97da-5203-4a2f-e7e1-c50168f978fa"
      },
      "execution_count": null,
      "outputs": [
        {
          "output_type": "stream",
          "name": "stdout",
          "text": [
            "The weights of your semestral grades are:\n",
            "\t30.00% for Prelims\n",
            "\t30.00% for Midterms, and\n",
            "\t40.00% for Finals.\n"
          ]
        }
      ]
    },
    {
      "cell_type": "code",
      "source": [
        "x = input(\"enter a number: \")\n",
        "x"
      ],
      "metadata": {
        "colab": {
          "base_uri": "https://localhost:8080/",
          "height": 53
        },
        "id": "ATEVdREXvwMX",
        "outputId": "7da24c9d-94f7-4e99-c5da-0c2e6aa131c8"
      },
      "execution_count": null,
      "outputs": [
        {
          "name": "stdout",
          "output_type": "stream",
          "text": [
            "enter a number: 28\n"
          ]
        },
        {
          "output_type": "execute_result",
          "data": {
            "application/vnd.google.colaboratory.intrinsic+json": {
              "type": "string"
            },
            "text/plain": [
              "'28'"
            ]
          },
          "metadata": {},
          "execution_count": 13
        }
      ]
    },
    {
      "cell_type": "code",
      "source": [
        "name = input(\"Kimi no nawa: \")\n",
        "pg = input(\"Enter prelim grade: \")\n",
        "mg = input(\"Enter midterm grade: \")\n",
        "fg = input(\"Enter finals grade: \")\n",
        "sem_grade = None\n",
        "print(\"Hello {}, your semestral grade is: {}\".format(name, sem_grade))"
      ],
      "metadata": {
        "colab": {
          "base_uri": "https://localhost:8080/"
        },
        "id": "_QZE5hKdxULD",
        "outputId": "b048bff4-98c2-4ab6-c7e9-07858c3e3f1c"
      },
      "execution_count": null,
      "outputs": [
        {
          "output_type": "stream",
          "name": "stdout",
          "text": [
            "Kimi no nawa: 99\n",
            "Enter prelim grade: 89\n",
            "Enter midterm grade: 100\n",
            "Enter finals grade: 100\n",
            "Hello 99, your semestral grade is: None\n"
          ]
        }
      ]
    },
    {
      "cell_type": "markdown",
      "source": [
        "## Looping Statement\n"
      ],
      "metadata": {
        "id": "VeKHfylGfEgn"
      }
    },
    {
      "cell_type": "markdown",
      "source": [
        "If the specified requirement is met, the loop statement is a series of steps or a sequence of statements that are executed zero times or more."
      ],
      "metadata": {
        "id": "Ve0CR0pmiTrl"
      }
    },
    {
      "cell_type": "markdown",
      "source": [
        "## While"
      ],
      "metadata": {
        "id": "FI8rb-SUfMuK"
      }
    },
    {
      "cell_type": "markdown",
      "source": [
        "Based on the results, The While Loop is used to continuously execute a block of statements until a specific condition is fulfilled"
      ],
      "metadata": {
        "id": "mK0_uYAiiVgt"
      }
    },
    {
      "cell_type": "code",
      "source": [
        "## while loops\n",
        "i, j = 0, 10\n",
        "while(i<=j):\n",
        "  print(f\"{i})\\t|\\t{j}\")\n",
        "  i+=1"
      ],
      "metadata": {
        "colab": {
          "base_uri": "https://localhost:8080/"
        },
        "id": "WGTSDNejxhhw",
        "outputId": "36a45d21-e67c-4e3e-8136-20997e8f4b29"
      },
      "execution_count": null,
      "outputs": [
        {
          "output_type": "stream",
          "name": "stdout",
          "text": [
            "0)\t|\t10\n",
            "1)\t|\t10\n",
            "2)\t|\t10\n",
            "3)\t|\t10\n",
            "4)\t|\t10\n",
            "5)\t|\t10\n",
            "6)\t|\t10\n",
            "7)\t|\t10\n",
            "8)\t|\t10\n",
            "9)\t|\t10\n",
            "10)\t|\t10\n"
          ]
        }
      ]
    },
    {
      "cell_type": "markdown",
      "source": [
        "##For"
      ],
      "metadata": {
        "id": "_6c1HTo4fV7H"
      }
    },
    {
      "cell_type": "markdown",
      "source": [
        "It is shown in the results that when you have a block of code that you want to repeat a certain number of times, \"for\" loops are used based on the code results. The \"for\" statement time steps across a sequence's individuals in order, each time executing the block."
      ],
      "metadata": {
        "id": "wkRErq0Mi5wr"
      }
    },
    {
      "cell_type": "code",
      "source": [
        "# for (int i=0; i<10, i++){\n",
        "#   printf(i)\n",
        "#}\n",
        "i=0\n",
        "for i in range(10):\n",
        "  print(i)"
      ],
      "metadata": {
        "colab": {
          "base_uri": "https://localhost:8080/"
        },
        "id": "p8I45GCMyq1W",
        "outputId": "e99b4f8c-f1cb-443f-c7f8-f0a1e377d9a4"
      },
      "execution_count": null,
      "outputs": [
        {
          "output_type": "stream",
          "name": "stdout",
          "text": [
            "0\n",
            "1\n",
            "2\n",
            "3\n",
            "4\n",
            "5\n",
            "6\n",
            "7\n",
            "8\n",
            "9\n"
          ]
        }
      ]
    },
    {
      "cell_type": "code",
      "source": [
        "playlist = [\"Crazier\",\"Happier\",\"Bahay-Kubo\"]\n",
        "print('Now Playing:\\n')\n",
        "for song in playlist:\n",
        " print(song)"
      ],
      "metadata": {
        "colab": {
          "base_uri": "https://localhost:8080/"
        },
        "id": "eSvOkwyIywZw",
        "outputId": "00f8118b-46db-48c7-aef3-f0b27e5dacc1"
      },
      "execution_count": null,
      "outputs": [
        {
          "output_type": "stream",
          "name": "stdout",
          "text": [
            "Now Playing:\n",
            "\n",
            "Crazier\n",
            "Happier\n",
            "Bahay-Kubo\n"
          ]
        }
      ]
    },
    {
      "cell_type": "markdown",
      "source": [
        "### Flow Control"
      ],
      "metadata": {
        "id": "I475dMasfrfO"
      }
    },
    {
      "cell_type": "markdown",
      "source": [
        "The sequence in which a program's code is executed is known as the control flow."
      ],
      "metadata": {
        "id": "SRgYNXJCkkgN"
      }
    },
    {
      "cell_type": "markdown",
      "source": [
        "##Condition Statement"
      ],
      "metadata": {
        "id": "pMXvN3Jafusd"
      }
    },
    {
      "cell_type": "markdown",
      "source": [
        "If / Else / Else If conditional statements are conditional statements that have more than one condition, this is upon observing the codes."
      ],
      "metadata": {
        "id": "Zf0t0bveklwd"
      }
    },
    {
      "cell_type": "code",
      "source": [
        "numeral1, numeral2 = 13,12\n",
        "if (numeral1 == numeral2):\n",
        "  print(\"Yey\")\n",
        "elif (numeral1>numeral2):\n",
        "  print (\"Hoho\")\n",
        "else:\n",
        "    print (\"Aww\")\n",
        "  #print (\"Hip hip\")"
      ],
      "metadata": {
        "colab": {
          "base_uri": "https://localhost:8080/"
        },
        "id": "AxbI_X6if00L",
        "outputId": "de2f7fe8-16ac-4491-84fe-db2d22de17e3"
      },
      "execution_count": 1,
      "outputs": [
        {
          "output_type": "stream",
          "name": "stdout",
          "text": [
            "Hoho\n"
          ]
        }
      ]
    },
    {
      "cell_type": "markdown",
      "source": [
        "##Functions\n"
      ],
      "metadata": {
        "id": "ISdwgucK11AV"
      }
    },
    {
      "cell_type": "markdown",
      "source": [
        "This code is written to do a certain task. A group of instructions that you want to run again and over again or that, because of their complexity, are best placed in a sub-program and called unless they're necessary is a function."
      ],
      "metadata": {
        "id": "I9WIyybBkwF8"
      }
    },
    {
      "cell_type": "code",
      "source": [
        "# void DeleteUser(int userid){\n",
        "#    delete(userid);\n",
        "# }\n",
        "\n",
        "def delete_user (userid):\n",
        "    print(\"Successfully deleted user: {}\".format(userid))\n",
        "\n",
        "def delete_all_users ():\n",
        "    print(\"Hello people\")"
      ],
      "metadata": {
        "id": "tOQGbF2j13UI"
      },
      "execution_count": null,
      "outputs": []
    },
    {
      "cell_type": "code",
      "source": [
        "userid = \"Angel\"\n",
        "delete_user(\"Angel\")\n",
        "delete_all_users()"
      ],
      "metadata": {
        "colab": {
          "base_uri": "https://localhost:8080/"
        },
        "id": "hEQvuG4Q3kyg",
        "outputId": "11eb3194-f261-4888-d66e-9aef0bd97707"
      },
      "execution_count": null,
      "outputs": [
        {
          "output_type": "stream",
          "name": "stdout",
          "text": [
            "Successfully deleted user: Angel\n",
            "Hello people\n"
          ]
        }
      ]
    },
    {
      "cell_type": "code",
      "source": [
        "def add(addend1, addend2):\n",
        "    return addend1 + addend2\n",
        "\n",
        "def power_of_base2(exponent):\n",
        "    return 2**exponent"
      ],
      "metadata": {
        "id": "SMJkuQPO37us"
      },
      "execution_count": null,
      "outputs": []
    },
    {
      "cell_type": "code",
      "source": [
        "addend1, addend2 = 24, 25\n",
        "add(addend1, addend2)\n",
        "\n",
        "exponent = 9\n",
        "power_of_base2(exponent)"
      ],
      "metadata": {
        "colab": {
          "base_uri": "https://localhost:8080/"
        },
        "id": "n05ymNXI4smd",
        "outputId": "e26b35ee-fcd6-4e5b-884a-64bc66b9b448"
      },
      "execution_count": null,
      "outputs": [
        {
          "output_type": "execute_result",
          "data": {
            "text/plain": [
              "512"
            ]
          },
          "metadata": {},
          "execution_count": 31
        }
      ]
    },
    {
      "cell_type": "markdown",
      "source": [
        "###lambda"
      ],
      "metadata": {
        "id": "7HRAo2gpmOtN"
      }
    },
    {
      "cell_type": "markdown",
      "source": [
        "Lambda supports Python runtimes that allow you to analyze events with your code."
      ],
      "metadata": {
        "id": "B2CoXXLUn0Kk"
      }
    },
    {
      "cell_type": "markdown",
      "source": [
        ""
      ],
      "metadata": {
        "id": "IkepCkrFmWya"
      }
    },
    {
      "cell_type": "code",
      "source": [
        "w_pg, w_mg, w_fg = 0.3, 0.3, 0.4\n",
        "name = input(\"Enter your name: \")\n",
        "course = input(\"Enter your course: \")\n",
        "pg = float(input(\"Enter prelim grade: \"))\n",
        "mg = float(input(\"Enter midterm grade: \"))\n",
        "fg = float(input(\"Enter finals grade: \"))\n",
        "sem_grade = (pg*w_pg)+(mg*w_mg)+(fg*w_fg)\n",
        "print(\"Hello {} from {}, your semestral grade is: {}\".format(name, course, round(sem_grade, 2))) \n",
        "if(sem_grade > 70.00):\n",
        "      print(\"\\U0001F600\")\n",
        "elif(sem_grade == 70.00):\n",
        "      print(\"\\U0001F606\")\n",
        "else:\n",
        "      print(\"\\U0001F62D\")"
      ],
      "metadata": {
        "colab": {
          "base_uri": "https://localhost:8080/"
        },
        "id": "QQvSoWHFncUM",
        "outputId": "7afd5d63-2a58-4eff-affa-3091eb04ad1e"
      },
      "execution_count": 2,
      "outputs": [
        {
          "output_type": "stream",
          "name": "stdout",
          "text": [
            "Enter your name: AngelKathy\n",
            "Enter your course: Chemical Engineering\n",
            "Enter prelim grade: 99\n",
            "Enter midterm grade: 100\n",
            "Enter finals grade: 99.9\n",
            "Hello AngelKathy from Chemical Engineering, your semestral grade is: 99.66\n",
            "😀\n"
          ]
        }
      ]
    }
  ]
}