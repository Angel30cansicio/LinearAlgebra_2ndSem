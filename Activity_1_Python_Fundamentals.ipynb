{
  "nbformat": 4,
  "nbformat_minor": 0,
  "metadata": {
    "colab": {
      "name": "Activity 1 - Python Fundamentals ",
      "provenance": [],
      "collapsed_sections": [],
      "authorship_tag": "ABX9TyNXMYjHG4FR5JThhQgqx3Pq",
      "include_colab_link": true
    },
    "kernelspec": {
      "name": "python3",
      "display_name": "Python 3"
    },
    "language_info": {
      "name": "python"
    }
  },
  "cells": [
    {
      "cell_type": "markdown",
      "metadata": {
        "id": "view-in-github",
        "colab_type": "text"
      },
      "source": [
        "<a href=\"https://colab.research.google.com/github/Angel30cansicio/LinearAlgebra_2ndSem/blob/main/Activity_1_Python_Fundamentals.ipynb\" target=\"_parent\"><img src=\"https://colab.research.google.com/assets/colab-badge.svg\" alt=\"Open In Colab\"/></a>"
      ]
    },
    {
      "cell_type": "code",
      "execution_count": null,
      "metadata": {
        "id": "TIMa0WKZrco-"
      },
      "outputs": [],
      "source": [
        ""
      ]
    },
    {
      "cell_type": "markdown",
      "source": [
        "# Welcome to Python Fundamentals\n",
        "In this module, we are going to establish or review our skills in Python programming. In this notebook we are going to cover:\n",
        "* Variables and Data Types \n",
        "* Operations\n",
        "* Input and Output Operations\n",
        "* Logic Control\n",
        "* Iterables\n",
        "* Functions"
      ],
      "metadata": {
        "id": "64aKvmkytKaz"
      }
    },
    {
      "cell_type": "markdown",
      "source": [
        "## Variable and Data Types\n"
      ],
      "metadata": {
        "id": "NEIjwhYltW1R"
      }
    },
    {
      "cell_type": "markdown",
      "source": [
        "A variable's data type means that it limits the number of values it can hold and the operations that it can do on it. It can, for example, include a variety of values and procedures that can carry on it. The processor allocates memory and chooses what can be put in reserved memory based on a variable's data type."
      ],
      "metadata": {
        "id": "Rlnt5oWMl7Bt"
      }
    },
    {
      "cell_type": "markdown",
      "source": [
        ""
      ],
      "metadata": {
        "id": "VrOLgDpJebK-"
      }
    },
    {
      "cell_type": "code",
      "source": [
        "x = 1\n",
        "a,b = 0, -1\n",
        "a"
      ],
      "metadata": {
        "colab": {
          "base_uri": "https://localhost:8080/",
          "height": 0
        },
        "id": "G1-tqZpCtlrQ",
        "outputId": "4f777a99-0de6-4680-d75c-16b0af2e0ebe"
      },
      "execution_count": 1,
      "outputs": [
        {
          "output_type": "execute_result",
          "data": {
            "text/plain": [
              "0"
            ]
          },
          "metadata": {},
          "execution_count": 1
        }
      ]
    },
    {
      "cell_type": "code",
      "source": [
        "type (x)\n"
      ],
      "metadata": {
        "colab": {
          "base_uri": "https://localhost:8080/",
          "height": 0
        },
        "id": "GXRCm2vSvF9n",
        "outputId": "004d597f-3c58-4327-dc17-1f05c85f7358"
      },
      "execution_count": 2,
      "outputs": [
        {
          "output_type": "execute_result",
          "data": {
            "text/plain": [
              "int"
            ]
          },
          "metadata": {},
          "execution_count": 2
        }
      ]
    },
    {
      "cell_type": "code",
      "source": [
        "y = 0.1\n",
        "type (y)\n"
      ],
      "metadata": {
        "colab": {
          "base_uri": "https://localhost:8080/",
          "height": 0
        },
        "id": "F7HEyuMxwhyy",
        "outputId": "21504462-f7e1-4931-da09-c0129cc1a8d4"
      },
      "execution_count": 3,
      "outputs": [
        {
          "output_type": "execute_result",
          "data": {
            "text/plain": [
              "float"
            ]
          },
          "metadata": {},
          "execution_count": 3
        }
      ]
    },
    {
      "cell_type": "code",
      "source": [
        "x= (x)\n",
        "type (x)\n"
      ],
      "metadata": {
        "colab": {
          "base_uri": "https://localhost:8080/",
          "height": 0
        },
        "id": "GpGGWvigwzZU",
        "outputId": "9b718942-68f0-4623-abbf-45cd3aae3f6d"
      },
      "execution_count": 4,
      "outputs": [
        {
          "output_type": "execute_result",
          "data": {
            "text/plain": [
              "int"
            ]
          },
          "metadata": {},
          "execution_count": 4
        }
      ]
    },
    {
      "cell_type": "code",
      "source": [
        "x= float (x)\n",
        "type (x)"
      ],
      "metadata": {
        "colab": {
          "base_uri": "https://localhost:8080/",
          "height": 0
        },
        "id": "j0sxbwfgxBTi",
        "outputId": "08e45665-a38d-4dde-88fb-c13c1596f3e0"
      },
      "execution_count": 5,
      "outputs": [
        {
          "output_type": "execute_result",
          "data": {
            "text/plain": [
              "float"
            ]
          },
          "metadata": {},
          "execution_count": 5
        }
      ]
    },
    {
      "cell_type": "code",
      "source": [
        "s,t,u = \"0\",'1','one'\n",
        "type(s)\n"
      ],
      "metadata": {
        "colab": {
          "base_uri": "https://localhost:8080/",
          "height": 0
        },
        "id": "_wbwv1YYxN8_",
        "outputId": "2a97c721-17fb-41af-f63b-1717385b6fbf"
      },
      "execution_count": 6,
      "outputs": [
        {
          "output_type": "execute_result",
          "data": {
            "text/plain": [
              "str"
            ]
          },
          "metadata": {},
          "execution_count": 6
        }
      ]
    },
    {
      "cell_type": "code",
      "source": [
        "s_int = int (s)\n",
        "s_int"
      ],
      "metadata": {
        "colab": {
          "base_uri": "https://localhost:8080/",
          "height": 0
        },
        "id": "rXzpCwhpxb5v",
        "outputId": "1ee11e16-a592-4a17-c940-ba1bbc0fe8f5"
      },
      "execution_count": 7,
      "outputs": [
        {
          "output_type": "execute_result",
          "data": {
            "text/plain": [
              "0"
            ]
          },
          "metadata": {},
          "execution_count": 7
        }
      ]
    },
    {
      "cell_type": "code",
      "source": [
        "t_int = int(t)\n",
        "type(t)\n"
      ],
      "metadata": {
        "colab": {
          "base_uri": "https://localhost:8080/",
          "height": 0
        },
        "id": "79_GESRCxkJI",
        "outputId": "59f34760-855b-44e1-fd26-1deb08ad7ea3"
      },
      "execution_count": 8,
      "outputs": [
        {
          "output_type": "execute_result",
          "data": {
            "text/plain": [
              "str"
            ]
          },
          "metadata": {},
          "execution_count": 8
        }
      ]
    },
    {
      "cell_type": "code",
      "source": [
        "s_int = int (s)\n",
        "s_int"
      ],
      "metadata": {
        "colab": {
          "base_uri": "https://localhost:8080/",
          "height": 0
        },
        "id": "6k8c1JbexzVj",
        "outputId": "08fa7a28-8349-43ca-fc6b-bb6eeef34297"
      },
      "execution_count": 9,
      "outputs": [
        {
          "output_type": "execute_result",
          "data": {
            "text/plain": [
              "0"
            ]
          },
          "metadata": {},
          "execution_count": 9
        }
      ]
    },
    {
      "cell_type": "markdown",
      "source": [
        "##Operations"
      ],
      "metadata": {
        "id": "pqJT8mPQyYUU"
      }
    },
    {
      "cell_type": "markdown",
      "source": [
        "###Arithmetic"
      ],
      "metadata": {
        "id": "JDJ7sofxyhz-"
      }
    },
    {
      "cell_type": "markdown",
      "source": [
        "The everyday fundamental arithmetic operations are division, subtraction, multiplication, and addition. With two operands, these arithmetic operators  known as binary arithmetic operators. Constants or variables can  used as operands."
      ],
      "metadata": {
        "id": "tozDTTOImAnX"
      }
    },
    {
      "cell_type": "code",
      "source": [
        "a,b,c,d = 2.0, -0.7, 0, -32"
      ],
      "metadata": {
        "id": "Fnn_ggUPyofW"
      },
      "execution_count": 10,
      "outputs": []
    },
    {
      "cell_type": "markdown",
      "source": [
        ""
      ],
      "metadata": {
        "id": "JVd-MtCh7sxk"
      }
    },
    {
      "cell_type": "code",
      "source": [
        "from typing import ByteString\n",
        "### Addition\n",
        "S= a+b \n",
        "S"
      ],
      "metadata": {
        "colab": {
          "base_uri": "https://localhost:8080/",
          "height": 0
        },
        "id": "1FDopbxSzPxP",
        "outputId": "2511ab49-7f6e-4ad1-f822-76b28d586d78"
      },
      "execution_count": 11,
      "outputs": [
        {
          "output_type": "execute_result",
          "data": {
            "text/plain": [
              "1.3"
            ]
          },
          "metadata": {},
          "execution_count": 11
        }
      ]
    },
    {
      "cell_type": "code",
      "source": [
        "###Subtraction\n",
        "D= b-d \n",
        "D"
      ],
      "metadata": {
        "colab": {
          "base_uri": "https://localhost:8080/",
          "height": 0
        },
        "id": "alSQqXWfzdsR",
        "outputId": "0abaeb3e-9abd-4847-fa74-02c390cda0ca"
      },
      "execution_count": 12,
      "outputs": [
        {
          "output_type": "execute_result",
          "data": {
            "text/plain": [
              "31.3"
            ]
          },
          "metadata": {},
          "execution_count": 12
        }
      ]
    },
    {
      "cell_type": "code",
      "source": [
        "### Multiplication\n",
        "P= a*d \n",
        "P"
      ],
      "metadata": {
        "colab": {
          "base_uri": "https://localhost:8080/",
          "height": 0
        },
        "id": "miVJtZGyzsH8",
        "outputId": "15ca0dcb-a6fd-4db7-d99e-892b9cca1aea"
      },
      "execution_count": 13,
      "outputs": [
        {
          "output_type": "execute_result",
          "data": {
            "text/plain": [
              "-64.0"
            ]
          },
          "metadata": {},
          "execution_count": 13
        }
      ]
    },
    {
      "cell_type": "code",
      "source": [
        "###Division\n",
        "Q = c/a\n",
        "Q"
      ],
      "metadata": {
        "colab": {
          "base_uri": "https://localhost:8080/",
          "height": 0
        },
        "id": "D84sZENBz3m7",
        "outputId": "38f1dc48-b5a4-481a-baf3-88a132cfff48"
      },
      "execution_count": 14,
      "outputs": [
        {
          "output_type": "execute_result",
          "data": {
            "text/plain": [
              "0.0"
            ]
          },
          "metadata": {},
          "execution_count": 14
        }
      ]
    },
    {
      "cell_type": "code",
      "source": [
        "### Floor Division\n",
        "Fq= a//b \n",
        "Fq "
      ],
      "metadata": {
        "colab": {
          "base_uri": "https://localhost:8080/",
          "height": 0
        },
        "id": "2z0wyScA0CN0",
        "outputId": "35de61cf-65df-4161-e24f-ea6359b71e34"
      },
      "execution_count": 15,
      "outputs": [
        {
          "output_type": "execute_result",
          "data": {
            "text/plain": [
              "-3.0"
            ]
          },
          "metadata": {},
          "execution_count": 15
        }
      ]
    },
    {
      "cell_type": "code",
      "source": [
        "###Exponentiation\n",
        "E=a**b \n",
        "E "
      ],
      "metadata": {
        "colab": {
          "base_uri": "https://localhost:8080/",
          "height": 0
        },
        "id": "7PioS6KO0Oe5",
        "outputId": "4bec017f-d269-4a9b-a0df-e7671af5621e"
      },
      "execution_count": 16,
      "outputs": [
        {
          "output_type": "execute_result",
          "data": {
            "text/plain": [
              "0.6155722066724582"
            ]
          },
          "metadata": {},
          "execution_count": 16
        }
      ]
    },
    {
      "cell_type": "code",
      "source": [
        "### Modulo\n",
        "mod = d%a \n",
        "mod "
      ],
      "metadata": {
        "colab": {
          "base_uri": "https://localhost:8080/",
          "height": 0
        },
        "id": "KhCptSP90dzv",
        "outputId": "f38c89fb-828f-4994-99c0-90f534ed566a"
      },
      "execution_count": 17,
      "outputs": [
        {
          "output_type": "execute_result",
          "data": {
            "text/plain": [
              "0.0"
            ]
          },
          "metadata": {},
          "execution_count": 17
        }
      ]
    },
    {
      "cell_type": "markdown",
      "source": [
        "###Assignment Operation"
      ],
      "metadata": {
        "id": "F22GHuRc1oML"
      }
    },
    {
      "cell_type": "markdown",
      "source": [
        "The right-hand operand of the assignment operations is assigned to a variable, a property, or an indexer element supplied by the left-hand operand. The value assigned to the left-hand operand is the outcome of an assignment expression."
      ],
      "metadata": {
        "id": "6uitFB9XmFqp"
      }
    },
    {
      "cell_type": "code",
      "source": [
        "G, H, J, K = 0, 100, 2, 2"
      ],
      "metadata": {
        "id": "6EgoYpMQ1sE6"
      },
      "execution_count": 18,
      "outputs": []
    },
    {
      "cell_type": "code",
      "source": [
        "G, H, J, K = 0, 100,2,2\n"
      ],
      "metadata": {
        "id": "Xn3MLT3y2GOi"
      },
      "execution_count": 19,
      "outputs": []
    },
    {
      "cell_type": "code",
      "source": [
        "G += a\n",
        "G"
      ],
      "metadata": {
        "colab": {
          "base_uri": "https://localhost:8080/",
          "height": 0
        },
        "id": "6htbgfZs2TFH",
        "outputId": "2f23d3be-9d99-4192-9f4a-8e36b2d06452"
      },
      "execution_count": 20,
      "outputs": [
        {
          "output_type": "execute_result",
          "data": {
            "text/plain": [
              "2.0"
            ]
          },
          "metadata": {},
          "execution_count": 20
        }
      ]
    },
    {
      "cell_type": "code",
      "source": [
        "H-= d\n",
        "H"
      ],
      "metadata": {
        "colab": {
          "base_uri": "https://localhost:8080/",
          "height": 0
        },
        "id": "xXZIZMgt8ocp",
        "outputId": "06272cda-8fe2-46a6-c873-62de3dfe7330"
      },
      "execution_count": 21,
      "outputs": [
        {
          "output_type": "execute_result",
          "data": {
            "text/plain": [
              "132"
            ]
          },
          "metadata": {},
          "execution_count": 21
        }
      ]
    },
    {
      "cell_type": "code",
      "source": [
        "J*= 2\n",
        "J "
      ],
      "metadata": {
        "colab": {
          "base_uri": "https://localhost:8080/",
          "height": 0
        },
        "id": "Mzp3n3HJ2Yl5",
        "outputId": "5167bef7-98a8-4208-e78a-5618e01831c8"
      },
      "execution_count": 22,
      "outputs": [
        {
          "output_type": "execute_result",
          "data": {
            "text/plain": [
              "4"
            ]
          },
          "metadata": {},
          "execution_count": 22
        }
      ]
    },
    {
      "cell_type": "code",
      "source": [
        "K**= 2\n",
        "K"
      ],
      "metadata": {
        "colab": {
          "base_uri": "https://localhost:8080/",
          "height": 0
        },
        "id": "I-HeKhZc2gOL",
        "outputId": "bc039566-37d8-455b-fd05-eb7688a707e9"
      },
      "execution_count": 23,
      "outputs": [
        {
          "output_type": "execute_result",
          "data": {
            "text/plain": [
              "4"
            ]
          },
          "metadata": {},
          "execution_count": 23
        }
      ]
    },
    {
      "cell_type": "markdown",
      "source": [
        "##Comparators"
      ],
      "metadata": {
        "id": "HlGuADEf3ToI"
      }
    },
    {
      "cell_type": "markdown",
      "source": [
        "When two values are compared together, they are referred to be comparators. It compares two  values and generates a result. It is most usually associated with numerical numbers, but it may also use for other sorts of data."
      ],
      "metadata": {
        "id": "b_MnjuPznD1b"
      }
    },
    {
      "cell_type": "markdown",
      "source": [
        ""
      ],
      "metadata": {
        "id": "ZShh8AWNmsJi"
      }
    },
    {
      "cell_type": "code",
      "source": [
        "res_1, res_2, res_3 = 1, 2.0, \"1\" \n",
        "true_val = 1.0"
      ],
      "metadata": {
        "id": "U_SdTLqJ3a4H"
      },
      "execution_count": 24,
      "outputs": []
    },
    {
      "cell_type": "code",
      "source": [
        "## Equality \n",
        "res_2 == true_val "
      ],
      "metadata": {
        "colab": {
          "base_uri": "https://localhost:8080/",
          "height": 0
        },
        "id": "s_bCokqc38q1",
        "outputId": "5729e24c-c6d2-40f7-80e6-058d2102992d"
      },
      "execution_count": 25,
      "outputs": [
        {
          "output_type": "execute_result",
          "data": {
            "text/plain": [
              "False"
            ]
          },
          "metadata": {},
          "execution_count": 25
        }
      ]
    },
    {
      "cell_type": "code",
      "source": [
        "## Non-equality \n",
        "res_2 != true_val"
      ],
      "metadata": {
        "colab": {
          "base_uri": "https://localhost:8080/",
          "height": 0
        },
        "id": "JQQF1T8b4Gv4",
        "outputId": "53e802b5-ab02-4ba6-a41c-f64230f82df6"
      },
      "execution_count": 26,
      "outputs": [
        {
          "output_type": "execute_result",
          "data": {
            "text/plain": [
              "True"
            ]
          },
          "metadata": {},
          "execution_count": 26
        }
      ]
    },
    {
      "cell_type": "code",
      "source": [
        "## Inequality\n",
        "t1= res_1 > res_2 \n",
        "t2= res_1 < res_2/2\n",
        "t3= res_1 >= res_2/2 \n",
        "t4= res_1 <= res_2 \n",
        "t1"
      ],
      "metadata": {
        "colab": {
          "base_uri": "https://localhost:8080/",
          "height": 0
        },
        "id": "fCzMXfF54WiT",
        "outputId": "fd2fc999-a564-47b7-a302-4af81b4ea09d"
      },
      "execution_count": 27,
      "outputs": [
        {
          "output_type": "execute_result",
          "data": {
            "text/plain": [
              "False"
            ]
          },
          "metadata": {},
          "execution_count": 27
        }
      ]
    },
    {
      "cell_type": "markdown",
      "source": [
        "####Logical\n"
      ],
      "metadata": {
        "id": "cSxwri545p8L"
      }
    },
    {
      "cell_type": "markdown",
      "source": [
        "Logical operators are used to executing logical operations on variables' values. Either true or false is the value. The results of the truth values can use to determine the conditions."
      ],
      "metadata": {
        "id": "sJQZ7AeMmtba"
      }
    },
    {
      "cell_type": "code",
      "source": [
        "res_1 == true_val"
      ],
      "metadata": {
        "colab": {
          "base_uri": "https://localhost:8080/",
          "height": 0
        },
        "id": "q-n5drhs5uoq",
        "outputId": "d2d3f85c-dc98-48d4-e1b4-931c3b870048"
      },
      "execution_count": 28,
      "outputs": [
        {
          "output_type": "execute_result",
          "data": {
            "text/plain": [
              "True"
            ]
          },
          "metadata": {},
          "execution_count": 28
        }
      ]
    },
    {
      "cell_type": "code",
      "source": [
        "res_1 is true_val"
      ],
      "metadata": {
        "colab": {
          "base_uri": "https://localhost:8080/",
          "height": 0
        },
        "id": "r0HN5thp6Iy-",
        "outputId": "e9995357-6c82-455f-e025-3b20324f21ed"
      },
      "execution_count": 29,
      "outputs": [
        {
          "output_type": "execute_result",
          "data": {
            "text/plain": [
              "False"
            ]
          },
          "metadata": {},
          "execution_count": 29
        }
      ]
    },
    {
      "cell_type": "code",
      "source": [
        "res_1 is not true_val"
      ],
      "metadata": {
        "colab": {
          "base_uri": "https://localhost:8080/",
          "height": 0
        },
        "id": "or_BCLgg6NJK",
        "outputId": "ef5349be-907a-4bc5-94e6-cdab9960b481"
      },
      "execution_count": 30,
      "outputs": [
        {
          "output_type": "execute_result",
          "data": {
            "text/plain": [
              "True"
            ]
          },
          "metadata": {},
          "execution_count": 30
        }
      ]
    },
    {
      "cell_type": "code",
      "source": [
        "p,q = True, False\n",
        "e = not(q)\n",
        "e"
      ],
      "metadata": {
        "colab": {
          "base_uri": "https://localhost:8080/",
          "height": 0
        },
        "id": "l5-uQ8KO9zOn",
        "outputId": "cad7e12c-7d5e-4706-e499-5cbeb501a668"
      },
      "execution_count": 31,
      "outputs": [
        {
          "output_type": "execute_result",
          "data": {
            "text/plain": [
              "True"
            ]
          },
          "metadata": {},
          "execution_count": 31
        }
      ]
    },
    {
      "cell_type": "code",
      "source": [
        "p,q = True, False\n",
        "xor = (not p and q) or  (p and not q)\n",
        "xor"
      ],
      "metadata": {
        "colab": {
          "base_uri": "https://localhost:8080/",
          "height": 0
        },
        "id": "b1T-g6Yy-ARQ",
        "outputId": "8ba4faef-29b6-4725-ffae-9fbc4035bbbe"
      },
      "execution_count": 32,
      "outputs": [
        {
          "output_type": "execute_result",
          "data": {
            "text/plain": [
              "True"
            ]
          },
          "metadata": {},
          "execution_count": 32
        }
      ]
    },
    {
      "cell_type": "code",
      "source": [
        "p,q = True, False \n",
        "conj = p and q \n",
        "conj "
      ],
      "metadata": {
        "colab": {
          "base_uri": "https://localhost:8080/",
          "height": 0
        },
        "id": "3SscrW8Y6Rs_",
        "outputId": "8656d542-6610-4a94-e59e-008fd840bff4"
      },
      "execution_count": 33,
      "outputs": [
        {
          "output_type": "execute_result",
          "data": {
            "text/plain": [
              "False"
            ]
          },
          "metadata": {},
          "execution_count": 33
        }
      ]
    },
    {
      "cell_type": "code",
      "source": [
        "p,q = True, False\n",
        "conj = p or q \n",
        "conj"
      ],
      "metadata": {
        "colab": {
          "base_uri": "https://localhost:8080/",
          "height": 0
        },
        "id": "xxJc1LNe6dG7",
        "outputId": "0aaf42ec-f9dd-4f04-fb95-0e921be3b178"
      },
      "execution_count": 34,
      "outputs": [
        {
          "output_type": "execute_result",
          "data": {
            "text/plain": [
              "True"
            ]
          },
          "metadata": {},
          "execution_count": 34
        }
      ]
    },
    {
      "cell_type": "markdown",
      "source": [
        "###I/O"
      ],
      "metadata": {
        "id": "EoRtJbLS8FQs"
      }
    },
    {
      "cell_type": "markdown",
      "source": [
        "By evaluating the results, It is an input output code that opens a source code for both adding and reading"
      ],
      "metadata": {
        "id": "YD04c16Dgetn"
      }
    },
    {
      "cell_type": "code",
      "source": [
        "print(\"Hello Mars\")\n"
      ],
      "metadata": {
        "colab": {
          "base_uri": "https://localhost:8080/",
          "height": 0
        },
        "id": "6Z82rBXV8LhE",
        "outputId": "21cd9cd6-05aa-4192-b685-fde19c36e33e"
      },
      "execution_count": 35,
      "outputs": [
        {
          "output_type": "stream",
          "name": "stdout",
          "text": [
            "Hello Mars\n"
          ]
        }
      ]
    },
    {
      "cell_type": "code",
      "source": [
        "cnt = 1"
      ],
      "metadata": {
        "id": "biQUEFy48jwO"
      },
      "execution_count": 40,
      "outputs": []
    },
    {
      "cell_type": "code",
      "source": [
        "string = \"Hello World\"\n",
        "print(string, \", Current run count is:\", cnt)\n",
        "cnt += 4"
      ],
      "metadata": {
        "colab": {
          "base_uri": "https://localhost:8080/",
          "height": 0
        },
        "id": "t7NkOkgx8oa5",
        "outputId": "15044ccf-d43b-4076-de19-ad106071c37e"
      },
      "execution_count": 41,
      "outputs": [
        {
          "output_type": "stream",
          "name": "stdout",
          "text": [
            "Hello World , Current run count is: 1\n"
          ]
        }
      ]
    },
    {
      "cell_type": "code",
      "source": [
        "print(f\"{string}, Current count is {cnt}\")"
      ],
      "metadata": {
        "colab": {
          "base_uri": "https://localhost:8080/",
          "height": 0
        },
        "id": "LT3PS8RM9dU1",
        "outputId": "db11ef24-a93c-4fe3-b10a-c52fb4e6a3da"
      },
      "execution_count": 42,
      "outputs": [
        {
          "output_type": "stream",
          "name": "stdout",
          "text": [
            "Hello World, Current count is 5\n"
          ]
        }
      ]
    },
    {
      "cell_type": "code",
      "source": [
        "sem_grade = 82.2435646557461234 \n",
        "name=\"\"\n",
        "print(\"Hello {}, your semestral grade is {}\".format (name, sem_grade))"
      ],
      "metadata": {
        "colab": {
          "base_uri": "https://localhost:8080/",
          "height": 0
        },
        "id": "LJORTasu95Qx",
        "outputId": "940e15fd-ab9f-4aca-95fa-c0749bb992c5"
      },
      "execution_count": 43,
      "outputs": [
        {
          "output_type": "stream",
          "name": "stdout",
          "text": [
            "Hello , your semestral grade is 82.24356465574613\n"
          ]
        }
      ]
    },
    {
      "cell_type": "code",
      "source": [
        "w_pg, w_mg, w_fg = 0.3, 0.3, 0.4\n",
        "print(\"The weights of your semestral grades are:\\\n",
        "\\n\\t{:.2%} for Prelims\\\n",
        "\\n\\t{:.2%} for Midterms, and\\\n",
        "\\n\\t{:.2%} for Finals.\".format(w_pg, w_mg, w_fg))"
      ],
      "metadata": {
        "colab": {
          "base_uri": "https://localhost:8080/",
          "height": 0
        },
        "id": "MdQVFs0ttr7c",
        "outputId": "583cae7e-6b34-4519-9a17-0298011de9f8"
      },
      "execution_count": 44,
      "outputs": [
        {
          "output_type": "stream",
          "name": "stdout",
          "text": [
            "The weights of your semestral grades are:\n",
            "\t30.00% for Prelims\n",
            "\t30.00% for Midterms, and\n",
            "\t40.00% for Finals.\n"
          ]
        }
      ]
    },
    {
      "cell_type": "code",
      "source": [
        "x = input(\"enter a number: \")\n",
        "x"
      ],
      "metadata": {
        "colab": {
          "base_uri": "https://localhost:8080/",
          "height": 53
        },
        "id": "ATEVdREXvwMX",
        "outputId": "61b879e7-d7d7-41e2-9e3d-5f0605b75661"
      },
      "execution_count": 45,
      "outputs": [
        {
          "name": "stdout",
          "output_type": "stream",
          "text": [
            "enter a number: 69\n"
          ]
        },
        {
          "output_type": "execute_result",
          "data": {
            "application/vnd.google.colaboratory.intrinsic+json": {
              "type": "string"
            },
            "text/plain": [
              "'69'"
            ]
          },
          "metadata": {},
          "execution_count": 45
        }
      ]
    },
    {
      "cell_type": "code",
      "source": [
        "name = input(\"Kimi no nawa: \")\n",
        "pg = input(\"Enter prelim grade: \")\n",
        "mg = input(\"Enter midterm grade: \")\n",
        "fg = input(\"Enter finals grade: \")\n",
        "sem_grade = 99895\n",
        "print(\"Hello {}, your semestral grade is: {}\".format(name, sem_grade))"
      ],
      "metadata": {
        "colab": {
          "base_uri": "https://localhost:8080/",
          "height": 0
        },
        "id": "_QZE5hKdxULD",
        "outputId": "035f0142-3aaa-4169-8471-16b58fec9486"
      },
      "execution_count": 49,
      "outputs": [
        {
          "output_type": "stream",
          "name": "stdout",
          "text": [
            "Kimi no nawa: 99\n",
            "Enter prelim grade: 89\n",
            "Enter midterm grade: 5\n",
            "Enter finals grade: \n",
            "Hello 99, your semestral grade is: 99\n"
          ]
        }
      ]
    },
    {
      "cell_type": "markdown",
      "source": [
        "## Looping Statement\n"
      ],
      "metadata": {
        "id": "VeKHfylGfEgn"
      }
    },
    {
      "cell_type": "markdown",
      "source": [
        "If the specified requirement is met, the loop statement is a series of steps or a sequence of statements that are executed zero times or more."
      ],
      "metadata": {
        "id": "Ve0CR0pmiTrl"
      }
    },
    {
      "cell_type": "markdown",
      "source": [
        "## While"
      ],
      "metadata": {
        "id": "FI8rb-SUfMuK"
      }
    },
    {
      "cell_type": "markdown",
      "source": [
        "Based on the results, The While Loop is used to continuously execute a block of statements until a specific condition is fulfilled"
      ],
      "metadata": {
        "id": "mK0_uYAiiVgt"
      }
    },
    {
      "cell_type": "code",
      "source": [
        "## while loops\n",
        "i, j = 0, 10\n",
        "while(i<=j):\n",
        "  print(f\"{i})\\t|\\t{j}\")\n",
        "  i+=1"
      ],
      "metadata": {
        "colab": {
          "base_uri": "https://localhost:8080/",
          "height": 0
        },
        "id": "WGTSDNejxhhw",
        "outputId": "e8347ead-6219-480f-b442-3a1cdc92e78d"
      },
      "execution_count": 50,
      "outputs": [
        {
          "output_type": "stream",
          "name": "stdout",
          "text": [
            "0)\t|\t10\n",
            "1)\t|\t10\n",
            "2)\t|\t10\n",
            "3)\t|\t10\n",
            "4)\t|\t10\n",
            "5)\t|\t10\n",
            "6)\t|\t10\n",
            "7)\t|\t10\n",
            "8)\t|\t10\n",
            "9)\t|\t10\n",
            "10)\t|\t10\n"
          ]
        }
      ]
    },
    {
      "cell_type": "markdown",
      "source": [
        "##For"
      ],
      "metadata": {
        "id": "_6c1HTo4fV7H"
      }
    },
    {
      "cell_type": "markdown",
      "source": [
        "It is shown in the results that when you have a block of code that you want to repeat a certain number of times, \"for\" loops are used based on the code results. The \"for\" statement time steps across a sequence's individuals in order, each time executing the block."
      ],
      "metadata": {
        "id": "wkRErq0Mi5wr"
      }
    },
    {
      "cell_type": "code",
      "source": [
        "# for (int i=0; i<10, i++){\n",
        "#   printf(i)\n",
        "#}\n",
        "i=0\n",
        "for i in range(10):\n",
        "  print(i)"
      ],
      "metadata": {
        "colab": {
          "base_uri": "https://localhost:8080/",
          "height": 0
        },
        "id": "p8I45GCMyq1W",
        "outputId": "da9392e6-b7f4-4369-c4b0-19a58fedc277"
      },
      "execution_count": 51,
      "outputs": [
        {
          "output_type": "stream",
          "name": "stdout",
          "text": [
            "0\n",
            "1\n",
            "2\n",
            "3\n",
            "4\n",
            "5\n",
            "6\n",
            "7\n",
            "8\n",
            "9\n"
          ]
        }
      ]
    },
    {
      "cell_type": "code",
      "source": [
        "playlist = [\"Crazier\",\"Happier\",\"Bahay-Kubo\"]\n",
        "print('Now Playing:\\n')\n",
        "for song in playlist:\n",
        " print(song)"
      ],
      "metadata": {
        "colab": {
          "base_uri": "https://localhost:8080/",
          "height": 0
        },
        "id": "eSvOkwyIywZw",
        "outputId": "120d024a-2211-40f5-8112-6eba0f3b9390"
      },
      "execution_count": 52,
      "outputs": [
        {
          "output_type": "stream",
          "name": "stdout",
          "text": [
            "Now Playing:\n",
            "\n",
            "Crazier\n",
            "Happier\n",
            "Bahay-Kubo\n"
          ]
        }
      ]
    },
    {
      "cell_type": "markdown",
      "source": [
        "### Flow Control"
      ],
      "metadata": {
        "id": "I475dMasfrfO"
      }
    },
    {
      "cell_type": "markdown",
      "source": [
        "The sequence in which a program's code is executed is known as the control flow."
      ],
      "metadata": {
        "id": "SRgYNXJCkkgN"
      }
    },
    {
      "cell_type": "markdown",
      "source": [
        "##Condition Statement"
      ],
      "metadata": {
        "id": "pMXvN3Jafusd"
      }
    },
    {
      "cell_type": "markdown",
      "source": [
        "If / Else / Else If conditional statements are conditional statements that have more than one condition, this is upon observing the codes."
      ],
      "metadata": {
        "id": "Zf0t0bveklwd"
      }
    },
    {
      "cell_type": "code",
      "source": [
        "numeral1, numeral2 = 13,12\n",
        "if (numeral1 == numeral2):\n",
        "  print(\"Yey\")\n",
        "elif (numeral1>numeral2):\n",
        "  print (\"Hoho\")\n",
        "else:\n",
        "    print (\"Aww\")\n",
        "  #print (\"Hip hip\")"
      ],
      "metadata": {
        "colab": {
          "base_uri": "https://localhost:8080/",
          "height": 0
        },
        "id": "AxbI_X6if00L",
        "outputId": "da92d7f7-40e0-40c3-97da-4f2cbbc0fe28"
      },
      "execution_count": 53,
      "outputs": [
        {
          "output_type": "stream",
          "name": "stdout",
          "text": [
            "Hoho\n"
          ]
        }
      ]
    },
    {
      "cell_type": "markdown",
      "source": [
        "##Functions\n"
      ],
      "metadata": {
        "id": "ISdwgucK11AV"
      }
    },
    {
      "cell_type": "markdown",
      "source": [
        "This code is written to do a certain task. A group of instructions that you want to run again and over again or that, because of their complexity, are best placed in a sub-program and called unless they're necessary is a function."
      ],
      "metadata": {
        "id": "I9WIyybBkwF8"
      }
    },
    {
      "cell_type": "code",
      "source": [
        "# void DeleteUser(int userid){\n",
        "#    delete(userid);\n",
        "# }\n",
        "\n",
        "def delete_user (userid):\n",
        "    print(\"Successfully deleted user: {}\".format(userid))\n",
        "\n",
        "def delete_all_users ():\n",
        "    print(\"Hello people\")"
      ],
      "metadata": {
        "id": "tOQGbF2j13UI"
      },
      "execution_count": 54,
      "outputs": []
    },
    {
      "cell_type": "code",
      "source": [
        "userid = \"Angel\"\n",
        "delete_user(\"Angel\")\n",
        "delete_all_users()"
      ],
      "metadata": {
        "colab": {
          "base_uri": "https://localhost:8080/",
          "height": 0
        },
        "id": "hEQvuG4Q3kyg",
        "outputId": "65efb8aa-09f0-470d-ead2-6d2f623934c0"
      },
      "execution_count": 55,
      "outputs": [
        {
          "output_type": "stream",
          "name": "stdout",
          "text": [
            "Successfully deleted user: Angel\n",
            "Hello people\n"
          ]
        }
      ]
    },
    {
      "cell_type": "code",
      "source": [
        "def add(addend1, addend2):\n",
        "    return addend1 + addend2\n",
        "\n",
        "def power_of_base2(exponent):\n",
        "    return 2**exponent"
      ],
      "metadata": {
        "id": "SMJkuQPO37us"
      },
      "execution_count": 56,
      "outputs": []
    },
    {
      "cell_type": "code",
      "source": [
        "addend1, addend2 = 24, 25\n",
        "add(addend1, addend2)\n",
        "\n",
        "exponent = 9\n",
        "power_of_base2(exponent)"
      ],
      "metadata": {
        "colab": {
          "base_uri": "https://localhost:8080/",
          "height": 0
        },
        "id": "n05ymNXI4smd",
        "outputId": "90488afb-0973-4d6e-85a0-d2b2d699e433"
      },
      "execution_count": 57,
      "outputs": [
        {
          "output_type": "execute_result",
          "data": {
            "text/plain": [
              "512"
            ]
          },
          "metadata": {},
          "execution_count": 57
        }
      ]
    },
    {
      "cell_type": "markdown",
      "source": [
        "###lambda"
      ],
      "metadata": {
        "id": "7HRAo2gpmOtN"
      }
    },
    {
      "cell_type": "markdown",
      "source": [
        "Lambda supports Python runtimes that allow you to analyze events with your code."
      ],
      "metadata": {
        "id": "B2CoXXLUn0Kk"
      }
    },
    {
      "cell_type": "markdown",
      "source": [
        ""
      ],
      "metadata": {
        "id": "IkepCkrFmWya"
      }
    },
    {
      "cell_type": "code",
      "source": [
        "w_pg, w_mg, w_fg = 0.3, 0.3, 0.4\n",
        "name = input(\"Enter your name: \")\n",
        "course = input(\"Enter your course: \")\n",
        "pg = float(input(\"Enter prelim grade: \"))\n",
        "mg = float(input(\"Enter midterm grade: \"))\n",
        "fg = float(input(\"Enter finals grade: \"))\n",
        "sem_grade = (pg*w_pg)+(mg*w_mg)+(fg*w_fg)\n",
        "print(\"Hello {} from {}, your semestral grade is: {}\".format(name, course, round(sem_grade, 2))) \n",
        "if(sem_grade > 70.00):\n",
        "      print(\"\\U0001F600\")\n",
        "elif(sem_grade == 70.00):\n",
        "      print(\"\\U0001F606\")\n",
        "else:\n",
        "      print(\"\\U0001F62D\")"
      ],
      "metadata": {
        "colab": {
          "base_uri": "https://localhost:8080/",
          "height": 0
        },
        "id": "QQvSoWHFncUM",
        "outputId": "28af3c0a-0f31-4ec6-f2e0-6527a5f867aa"
      },
      "execution_count": 58,
      "outputs": [
        {
          "output_type": "stream",
          "name": "stdout",
          "text": [
            "Enter your name: angelkathy\n",
            "Enter your course: Chemical Engineering Major in Chismisan\n",
            "Enter prelim grade: 99\n",
            "Enter midterm grade: 99.9\n",
            "Enter finals grade: 100\n",
            "Hello angelkathy from Chemical Engineering Major in Chismisan, your semestral grade is: 99.67\n",
            "😀\n"
          ]
        }
      ]
    }
  ]
}