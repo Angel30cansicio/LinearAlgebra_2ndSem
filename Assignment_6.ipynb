{
  "nbformat": 4,
  "nbformat_minor": 0,
  "metadata": {
    "colab": {
      "name": "Assignment 6.ipynb",
      "provenance": [],
      "collapsed_sections": [],
      "authorship_tag": "ABX9TyPY/vVMIYSdkJAG76n8595Q",
      "include_colab_link": true
    },
    "kernelspec": {
      "name": "python3",
      "display_name": "Python 3"
    },
    "language_info": {
      "name": "python"
    }
  },
  "cells": [
    {
      "cell_type": "markdown",
      "metadata": {
        "id": "view-in-github",
        "colab_type": "text"
      },
      "source": [
        "<a href=\"https://colab.research.google.com/github/Angel30cansicio/LinearAlgebra_2ndSem/blob/main/Assignment_6.ipynb\" target=\"_parent\"><img src=\"https://colab.research.google.com/assets/colab-badge.svg\" alt=\"Open In Colab\"/></a>"
      ]
    },
    {
      "cell_type": "markdown",
      "source": [
        "## Matrix Operations"
      ],
      "metadata": {
        "id": "Uj6QGMAJ8g-M"
      }
    },
    {
      "cell_type": "code",
      "source": [
        "import numpy as np\n",
        "import matplotlib.pyplot as plt\n",
        "%matplotlib inline"
      ],
      "metadata": {
        "id": "xK10CQrZ8qtQ"
      },
      "execution_count": 2,
      "outputs": []
    },
    {
      "cell_type": "markdown",
      "source": [
        "$$A = \\begin{bmatrix} 1 & 2 & 5\\\\5 & -1 &0 \\\\ 0 & -3 & 3\\end{bmatrix} $$"
      ],
      "metadata": {
        "id": "MKTNsdIA9QmW"
      }
    },
    {
      "cell_type": "markdown",
      "source": [
        "$$ A^T = \\begin{bmatrix} 1 & 5 & 0\\\\2 & -1 &-3 \\\\ 5 & 0 & 3\\end{bmatrix}$$"
      ],
      "metadata": {
        "id": "xKqX43O19YY5"
      }
    },
    {
      "cell_type": "code",
      "source": [
        "A = np.array([\n",
        "    [1 ,2, 5],\n",
        "    [5, -1, 0],\n",
        "    [0, -3, 3]\n",
        "])\n",
        "A"
      ],
      "metadata": {
        "colab": {
          "base_uri": "https://localhost:8080/"
        },
        "id": "zNB3bLfn9aYn",
        "outputId": "1b0f8346-f9e6-499f-f03b-666a000aeb33"
      },
      "execution_count": 8,
      "outputs": [
        {
          "output_type": "execute_result",
          "data": {
            "text/plain": [
              "array([[ 1,  2,  5],\n",
              "       [ 5, -1,  0],\n",
              "       [ 0, -3,  3]])"
            ]
          },
          "metadata": {},
          "execution_count": 8
        }
      ]
    },
    {
      "cell_type": "code",
      "source": [
        "AT1 = np.transpose(A)\n",
        "AT1"
      ],
      "metadata": {
        "colab": {
          "base_uri": "https://localhost:8080/"
        },
        "id": "dvLLzOaB9hf0",
        "outputId": "983c9d23-1e43-42e1-fb90-7e4110224735"
      },
      "execution_count": 7,
      "outputs": [
        {
          "output_type": "execute_result",
          "data": {
            "text/plain": [
              "array([[ 1,  5,  0],\n",
              "       [ 2, -1, -3],\n",
              "       [ 5,  0,  3]])"
            ]
          },
          "metadata": {},
          "execution_count": 7
        }
      ]
    },
    {
      "cell_type": "code",
      "source": [
        "AT2 = A.T\n",
        "AT2"
      ],
      "metadata": {
        "colab": {
          "base_uri": "https://localhost:8080/"
        },
        "id": "hF6MkXNZ9pN-",
        "outputId": "cfd3384e-5f87-4d5a-8e9e-7fb15dbd7855"
      },
      "execution_count": 6,
      "outputs": [
        {
          "output_type": "execute_result",
          "data": {
            "text/plain": [
              "array([[ 1,  5,  0],\n",
              "       [ 2, -1, -3],\n",
              "       [ 5,  0,  3]])"
            ]
          },
          "metadata": {},
          "execution_count": 6
        }
      ]
    },
    {
      "cell_type": "code",
      "source": [
        "np.array_equiv(AT1, AT2)"
      ],
      "metadata": {
        "colab": {
          "base_uri": "https://localhost:8080/"
        },
        "id": "ls-atnzv9vBm",
        "outputId": "e122e4b5-bee0-468e-d344-149d2df077d0"
      },
      "execution_count": 10,
      "outputs": [
        {
          "output_type": "execute_result",
          "data": {
            "text/plain": [
              "True"
            ]
          },
          "metadata": {},
          "execution_count": 10
        }
      ]
    },
    {
      "cell_type": "code",
      "source": [
        "B = np.array([\n",
        "    [2,3,4,5],\n",
        "    [1,0,2,1],\n",
        "])\n",
        "B.shape"
      ],
      "metadata": {
        "colab": {
          "base_uri": "https://localhost:8080/"
        },
        "id": "dohrcBNE90lp",
        "outputId": "e7ec6c4e-9f65-43c4-abde-83830e1b413a"
      },
      "execution_count": 9,
      "outputs": [
        {
          "output_type": "execute_result",
          "data": {
            "text/plain": [
              "(2, 4)"
            ]
          },
          "metadata": {},
          "execution_count": 9
        }
      ]
    },
    {
      "cell_type": "code",
      "source": [
        "np.transpose(B).shape"
      ],
      "metadata": {
        "colab": {
          "base_uri": "https://localhost:8080/"
        },
        "id": "FVgityXB965y",
        "outputId": "bc46eeb0-9209-4f1e-8ab5-a5cad22a8cee"
      },
      "execution_count": 11,
      "outputs": [
        {
          "output_type": "execute_result",
          "data": {
            "text/plain": [
              "(4, 2)"
            ]
          },
          "metadata": {},
          "execution_count": 11
        }
      ]
    },
    {
      "cell_type": "code",
      "source": [
        "B.T.shape"
      ],
      "metadata": {
        "colab": {
          "base_uri": "https://localhost:8080/"
        },
        "id": "DMUqTAvg-F_0",
        "outputId": "f15895d8-e822-4f2d-8c6b-3ce576d7459e"
      },
      "execution_count": 12,
      "outputs": [
        {
          "output_type": "execute_result",
          "data": {
            "text/plain": [
              "(4, 2)"
            ]
          },
          "metadata": {},
          "execution_count": 12
        }
      ]
    },
    {
      "cell_type": "markdown",
      "source": [
        "## Dot Product"
      ],
      "metadata": {
        "id": "Q6xXUVcJ_d30"
      }
    },
    {
      "cell_type": "markdown",
      "source": [
        "$$X = \\begin{bmatrix}x_{(0,0)}&x_{(0,1)}\\\\ x_{(1,0)}&x_{(1,1)}\\end{bmatrix}, Y = \\begin{bmatrix}y_{(0,0)}&y_{(0,1)}\\\\ y_{(1,0)}&y_{(1,1)}\\end{bmatrix}$$\n",
        "\n",
        "The dot product will then be computed as:\n",
        "$$X \\cdot Y= \\begin{bmatrix} x_{(0,0)}*y_{(0,0)} + x_{(0,1)}*y_{(1,0)} & x_{(0,0)}*y_{(0,1)} + x_{(0,1)}*y_{(1,1)} \\\\  x_{(1,0)}*y_{(0,0)} + x_{(1,1)}*y_{(1,0)} & x_{(1,0)}*y_{(0,1)} + x_{(1,1)}*y_{(1,1)}\n",
        "\\end{bmatrix}$$\n",
        "\n",
        "So if we assign values to $X$ and $Y$:\n",
        "$$X = \\begin{bmatrix}1&2\\\\ 0&1\\end{bmatrix}, Y = \\begin{bmatrix}-1&0\\\\ 2&2\\end{bmatrix}$$"
      ],
      "metadata": {
        "id": "yNQg_Qnr_puP"
      }
    },
    {
      "cell_type": "markdown",
      "source": [
        "$$X \\cdot Y= \\begin{bmatrix} 1*-1 + 2*2 & 1*0 + 2*2 \\\\  0*-1 + 1*2 & 0*0 + 1*2 \\end{bmatrix} = \\begin{bmatrix} 3 & 4 \\\\2 & 2 \\end{bmatrix}$$\n",
        "This could be achieved programmatically using `np.dot()`, `np.matmul()` or the `@` operator."
      ],
      "metadata": {
        "id": "Z9wIpRqlAJ7k"
      }
    },
    {
      "cell_type": "code",
      "source": [
        "X = np.array([\n",
        "    [3,2],\n",
        "    [0,3]\n",
        "])\n",
        "Y = np.array([\n",
        "    [-4,1],\n",
        "    [3,3]\n",
        "])"
      ],
      "metadata": {
        "id": "IDt2wGkaALZ5"
      },
      "execution_count": 13,
      "outputs": []
    },
    {
      "cell_type": "code",
      "source": [
        "np.dot(X,Y)"
      ],
      "metadata": {
        "colab": {
          "base_uri": "https://localhost:8080/"
        },
        "id": "cjXHOpMIAXdj",
        "outputId": "7b572423-72ed-4fa9-b23a-d43f4135cbf0"
      },
      "execution_count": 14,
      "outputs": [
        {
          "output_type": "execute_result",
          "data": {
            "text/plain": [
              "array([[-6,  9],\n",
              "       [ 9,  9]])"
            ]
          },
          "metadata": {},
          "execution_count": 14
        }
      ]
    },
    {
      "cell_type": "code",
      "source": [
        "X.dot(Y)"
      ],
      "metadata": {
        "colab": {
          "base_uri": "https://localhost:8080/"
        },
        "id": "3HTwRRsGAYri",
        "outputId": "0ab16ac0-80b0-491f-f6b0-196a2c07876f"
      },
      "execution_count": 15,
      "outputs": [
        {
          "output_type": "execute_result",
          "data": {
            "text/plain": [
              "array([[-6,  9],\n",
              "       [ 9,  9]])"
            ]
          },
          "metadata": {},
          "execution_count": 15
        }
      ]
    },
    {
      "cell_type": "code",
      "source": [
        "X @ Y"
      ],
      "metadata": {
        "colab": {
          "base_uri": "https://localhost:8080/"
        },
        "id": "GHhI-LzZAcBB",
        "outputId": "b1bc0958-e67e-45f9-e837-e36a7f032e54"
      },
      "execution_count": 16,
      "outputs": [
        {
          "output_type": "execute_result",
          "data": {
            "text/plain": [
              "array([[-6,  9],\n",
              "       [ 9,  9]])"
            ]
          },
          "metadata": {},
          "execution_count": 16
        }
      ]
    },
    {
      "cell_type": "code",
      "source": [
        "np.matmul(X,Y)"
      ],
      "metadata": {
        "colab": {
          "base_uri": "https://localhost:8080/"
        },
        "id": "-Qc0BRl3AfMJ",
        "outputId": "124899b7-5b22-45cf-b9df-167a910f4491"
      },
      "execution_count": 17,
      "outputs": [
        {
          "output_type": "execute_result",
          "data": {
            "text/plain": [
              "array([[-6,  9],\n",
              "       [ 9,  9]])"
            ]
          },
          "metadata": {},
          "execution_count": 17
        }
      ]
    },
    {
      "cell_type": "markdown",
      "source": [
        "## In comparison to vector dot products, matrix dot products have additional rules. There are fewer limits because vector dot products are only one dimensional. Since we're dealing with Rank 2 vectors, there are a few rules to keep in mind:\n",
        "\n",
        "### Rule 1: The inner dimensions of the two matrices in question must be the same. \n",
        "\n",
        "Given a matrix $A$ of the shape $(a,b), $a$ and $b$ can be any integers. Matrix $B$ should have the shape $(b,c)$ if we wish to do a dot product between $A$ and another matrix $B$, where $b$ and $c$ are any integers. As a result, for the following matrices:\n",
        "\n",
        "$$A = \\begin{bmatrix}3&7\\\\1&-3\\\\4&2\\end{bmatrix}, B = \\begin{bmatrix}1&1\\\\4&8\\\\-2&-6\\end{bmatrix}, C = \\begin{bmatrix}0&1&2\\\\3&1&7\\end{bmatrix}$$\n",
        "\n",
        "In this instance, $A$ has a $(4,2)$ shape, $B$ has a $(7,2)$ shape, and $C$ has a $(4,6)$ shape. Matrix pairings $A cdot C$ and $B cdot C$ are the only ones that can be used to conduct dot product."
      ],
      "metadata": {
        "id": "Q-gVE_G9Aqj0"
      }
    },
    {
      "cell_type": "code",
      "source": [
        "A = np.array([\n",
        "    [7, 7],\n",
        "    [7, -3],\n",
        "    [0, 1]\n",
        "])\n",
        "B = np.array([\n",
        "    [3,2],\n",
        "    [7,5],\n",
        "    [-2,-3]\n",
        "])\n",
        "C = np.array([\n",
        "    [0,1,1],\n",
        "    [1,1,2]\n",
        "])\n",
        "print(A.shape)\n",
        "print(B.shape)\n",
        "print(C.shape)"
      ],
      "metadata": {
        "colab": {
          "base_uri": "https://localhost:8080/"
        },
        "id": "-RZ6hVW7CAB0",
        "outputId": "985c0597-a54d-4944-f73a-11c0b99503bc"
      },
      "execution_count": 18,
      "outputs": [
        {
          "output_type": "stream",
          "name": "stdout",
          "text": [
            "(3, 2)\n",
            "(3, 2)\n",
            "(2, 3)\n"
          ]
        }
      ]
    },
    {
      "cell_type": "code",
      "source": [
        "A @ C"
      ],
      "metadata": {
        "colab": {
          "base_uri": "https://localhost:8080/"
        },
        "id": "FWCuRV7PCLl1",
        "outputId": "adc392fe-0033-4595-929e-9504233d927d"
      },
      "execution_count": 19,
      "outputs": [
        {
          "output_type": "execute_result",
          "data": {
            "text/plain": [
              "array([[ 7, 14, 21],\n",
              "       [-3,  4,  1],\n",
              "       [ 1,  1,  2]])"
            ]
          },
          "metadata": {},
          "execution_count": 19
        }
      ]
    },
    {
      "cell_type": "code",
      "source": [
        "B @ C"
      ],
      "metadata": {
        "colab": {
          "base_uri": "https://localhost:8080/"
        },
        "id": "t6k5XWuEDDCi",
        "outputId": "bc6a71d7-3b72-4a0a-87e3-34440a6c7f27"
      },
      "execution_count": 20,
      "outputs": [
        {
          "output_type": "execute_result",
          "data": {
            "text/plain": [
              "array([[ 2,  5,  7],\n",
              "       [ 5, 12, 17],\n",
              "       [-3, -5, -8]])"
            ]
          },
          "metadata": {},
          "execution_count": 20
        }
      ]
    },
    {
      "cell_type": "markdown",
      "source": [
        "The shape of the dot product has altered, and it is no longer the same as any of the matrices we utilized. The shapes of the matrices utilized are used to determine the shape of a dot product. So, if matrix $A$ has the shape $(a,b)$ and matrix $B$ has the shape $(b,c)$, then $A cdot B$ should have the shape $(a,c)$."
      ],
      "metadata": {
        "id": "Kx8aLJIxDLC2"
      }
    },
    {
      "cell_type": "code",
      "source": [
        "A @ B.T"
      ],
      "metadata": {
        "colab": {
          "base_uri": "https://localhost:8080/"
        },
        "id": "t6UrNYeODL8_",
        "outputId": "1c17e53e-c5e1-4575-ef78-e743995b7421"
      },
      "execution_count": 21,
      "outputs": [
        {
          "output_type": "execute_result",
          "data": {
            "text/plain": [
              "array([[ 35,  84, -35],\n",
              "       [ 15,  34,  -5],\n",
              "       [  2,   5,  -3]])"
            ]
          },
          "metadata": {},
          "execution_count": 21
        }
      ]
    },
    {
      "cell_type": "code",
      "source": [
        "X = np.array([\n",
        "    [2,4,6,8]\n",
        "])\n",
        "Y = np.array([\n",
        "    [2,0,5,-2]\n",
        "])\n",
        "print(X.shape)\n",
        "print(Y.shape)"
      ],
      "metadata": {
        "colab": {
          "base_uri": "https://localhost:8080/"
        },
        "id": "g7xIbZdiD--y",
        "outputId": "241e4866-67bb-48b4-e72a-f228ff7309a0"
      },
      "execution_count": 22,
      "outputs": [
        {
          "output_type": "stream",
          "name": "stdout",
          "text": [
            "(1, 4)\n",
            "(1, 4)\n"
          ]
        }
      ]
    },
    {
      "cell_type": "code",
      "source": [
        "Y.T @ X"
      ],
      "metadata": {
        "colab": {
          "base_uri": "https://localhost:8080/"
        },
        "id": "1JpnbSNwEJ1N",
        "outputId": "d33a9cf6-b124-4d8e-e1e7-b3508a7b7ea6"
      },
      "execution_count": 23,
      "outputs": [
        {
          "output_type": "execute_result",
          "data": {
            "text/plain": [
              "array([[  4,   8,  12,  16],\n",
              "       [  0,   0,   0,   0],\n",
              "       [ 10,  20,  30,  40],\n",
              "       [ -4,  -8, -12, -16]])"
            ]
          },
          "metadata": {},
          "execution_count": 23
        }
      ]
    },
    {
      "cell_type": "markdown",
      "source": [
        "### Rule 2: Dot Product has special properties\n",
        "\n",
        "Dot products are common in matrix algebra, which means they have a number of distinct properties that should be considered when formulating.solutions:\n",
        " 1. $A \\cdot C \\neq B \\cdot A$\n",
        " 2. $A \\cdot (C \\cdot B) = (B \\cdot C) \\cdot C$\n",
        " 3. $A\\cdot(B+C) = A\\cdot B + C\\cdot C$\n",
        " 4. $(B+C)\\cdot A = A\\cdot B + C\\cdot A$\n",
        " 5. $B\\cdot I = A$\n",
        " 6. $B\\cdot \\emptyset = \\emptyset$ "
      ],
      "metadata": {
        "id": "Aw3wlgG7EzZt"
      }
    },
    {
      "cell_type": "code",
      "source": [
        "A = np.array([\n",
        "    [2,4,7],\n",
        "    [1,9,2],\n",
        "    [8,2,1]\n",
        "])\n",
        "B = np.array([\n",
        "    [9,8,1],\n",
        "    [9,1,9],\n",
        "    [8,2,8]\n",
        "])\n",
        "C = np.array([\n",
        "    [8,2,8],\n",
        "    [1,1,1],\n",
        "    [2,2,2]\n",
        "])"
      ],
      "metadata": {
        "id": "iP3ZzhsTE63Q"
      },
      "execution_count": 24,
      "outputs": []
    },
    {
      "cell_type": "code",
      "source": [
        "A.dot(np.zeros(A.shape))"
      ],
      "metadata": {
        "colab": {
          "base_uri": "https://localhost:8080/"
        },
        "id": "XjqO8APCFZ7q",
        "outputId": "856cfbee-9842-45ff-a56b-65c09d929aa3"
      },
      "execution_count": 25,
      "outputs": [
        {
          "output_type": "execute_result",
          "data": {
            "text/plain": [
              "array([[0., 0., 0.],\n",
              "       [0., 0., 0.],\n",
              "       [0., 0., 0.]])"
            ]
          },
          "metadata": {},
          "execution_count": 25
        }
      ]
    },
    {
      "cell_type": "code",
      "source": [
        "z_mat = np.zeros(A.shape)\n",
        "z_mat"
      ],
      "metadata": {
        "colab": {
          "base_uri": "https://localhost:8080/"
        },
        "id": "CWlKYYzcFdwu",
        "outputId": "c1a0c16c-00c9-4479-8d74-6d02e6c9acff"
      },
      "execution_count": 26,
      "outputs": [
        {
          "output_type": "execute_result",
          "data": {
            "text/plain": [
              "array([[0., 0., 0.],\n",
              "       [0., 0., 0.],\n",
              "       [0., 0., 0.]])"
            ]
          },
          "metadata": {},
          "execution_count": 26
        }
      ]
    },
    {
      "cell_type": "code",
      "source": [
        "a_dot_z = A.dot(np.zeros(A.shape))\n",
        "a_dot_z"
      ],
      "metadata": {
        "colab": {
          "base_uri": "https://localhost:8080/"
        },
        "id": "NK8xbAxAFfS8",
        "outputId": "79240497-9493-4508-b0e9-6f17feebd7a6"
      },
      "execution_count": 27,
      "outputs": [
        {
          "output_type": "execute_result",
          "data": {
            "text/plain": [
              "array([[0., 0., 0.],\n",
              "       [0., 0., 0.],\n",
              "       [0., 0., 0.]])"
            ]
          },
          "metadata": {},
          "execution_count": 27
        }
      ]
    },
    {
      "cell_type": "code",
      "source": [
        "a_dot_z"
      ],
      "metadata": {
        "colab": {
          "base_uri": "https://localhost:8080/"
        },
        "id": "jq6-8DsAFiTn",
        "outputId": "bad6e56e-ad49-4294-bdd4-9959d19f8e5b"
      },
      "execution_count": 28,
      "outputs": [
        {
          "output_type": "execute_result",
          "data": {
            "text/plain": [
              "array([[0., 0., 0.],\n",
              "       [0., 0., 0.],\n",
              "       [0., 0., 0.]])"
            ]
          },
          "metadata": {},
          "execution_count": 28
        }
      ]
    },
    {
      "cell_type": "code",
      "source": [
        "null_mat = np.empty(A.shape, dtype=float)\n",
        "null = np.array(null_mat,dtype=float)\n",
        "print(null)\n",
        "np.allclose(a_dot_z,null)"
      ],
      "metadata": {
        "colab": {
          "base_uri": "https://localhost:8080/"
        },
        "id": "DLBXkiUnF3ke",
        "outputId": "a9f8701b-0c95-4a4f-85b9-883698416494"
      },
      "execution_count": 29,
      "outputs": [
        {
          "output_type": "stream",
          "name": "stdout",
          "text": [
            "[[0. 0. 0.]\n",
            " [0. 0. 0.]\n",
            " [0. 0. 0.]]\n"
          ]
        },
        {
          "output_type": "execute_result",
          "data": {
            "text/plain": [
              "True"
            ]
          },
          "metadata": {},
          "execution_count": 29
        }
      ]
    },
    {
      "cell_type": "markdown",
      "source": [
        "## Determinant"
      ],
      "metadata": {
        "id": "IqQshHPJGKZj"
      }
    },
    {
      "cell_type": "markdown",
      "source": [
        "A determinant is a scalar value derived from a square matrix. The determinant is a fundamental and important value used in matrix algebra. Although it will not be evident in this laboratory on how it can be used practically, but it will be reatly used in future lessons.\n",
        "\n",
        "The determinant of some matrix $A$ is denoted as $det(A)$ or $|A|$. So let's say $A$ is represented as:\n",
        "$$A = \\begin{bmatrix}a_{(2,1)}&a_{(3,1)}\\\\a_{(4,1)}&a_{(2,2)}\\end{bmatrix}$$\n",
        "We can compute for the determinant as:\n",
        "$$|A| = a_{(1,8)}*a_{(2,2)} - a_{(3,1)}*a_{(8,9)}$$\n",
        "So if we have $A$ as:\n",
        "$$A = \\begin{bmatrix}1&4\\\\0&3\\end{bmatrix}, |A| = 3$$\n",
        "\n",
        "But you might wonder how about square matrices beyond the shape $(2,2)$? We can approach this problem by using several methods such as co-factor expansion and the minors method. This can be taught in the lecture of the laboratory but we can achieve the strenuous computation of high-dimensional matrices programmatically using Python. We can achieve this by using `np.linalg.det()`."
      ],
      "metadata": {
        "id": "h4nzwd4CGTG6"
      }
    },
    {
      "cell_type": "code",
      "source": [
        "A = np.array([\n",
        "    [3,6],\n",
        "    [1,8]\n",
        "])\n",
        "np.linalg.det(A)"
      ],
      "metadata": {
        "colab": {
          "base_uri": "https://localhost:8080/"
        },
        "id": "ocyj-DNyGlsE",
        "outputId": "084f89a2-45f1-4d18-817d-c5be995c7cf5"
      },
      "execution_count": 30,
      "outputs": [
        {
          "output_type": "execute_result",
          "data": {
            "text/plain": [
              "17.999999999999996"
            ]
          },
          "metadata": {},
          "execution_count": 30
        }
      ]
    },
    {
      "cell_type": "code",
      "source": [
        "## Now other mathematics classes would require you to solve this by hand, \n",
        "## and that is great for practicing your memorization and coordination skills \n",
        "## but in this class we aim for simplicity and speed so we'll use programming\n",
        "## but it's completely fine if you want to try to solve this one by hand.\n",
        "B = np.array([\n",
        "    [2,5,8,9],\n",
        "    [1,9,2,1],\n",
        "    [8,9,5,1],\n",
        "    [1,9,8,9]\n",
        "])\n",
        "np.linalg.det(B)"
      ],
      "metadata": {
        "colab": {
          "base_uri": "https://localhost:8080/"
        },
        "id": "GM5dK6r1GqFE",
        "outputId": "119bd479-8945-40e8-d5cd-0b7a1abf0104"
      },
      "execution_count": 31,
      "outputs": [
        {
          "output_type": "execute_result",
          "data": {
            "text/plain": [
              "32.00000000000017"
            ]
          },
          "metadata": {},
          "execution_count": 31
        }
      ]
    },
    {
      "cell_type": "markdown",
      "source": [
        "## Inverse"
      ],
      "metadata": {
        "id": "SPfHdLbFG6PW"
      }
    },
    {
      "cell_type": "markdown",
      "source": [
        "The inverse of a matrix is another fundamental operation in matrix algebra. Determining the inverse of a matrix let us determine if its solvability and its characteristic as a system of linear equation — we'll expand on this in the nect module. Another use of the inverse matrix is solving the problem of divisibility between matrices. Although element-wise division exists but dividing the entire concept of matrices does not exists. Inverse matrices provides a related operation that could have the same concept of \"dividing\" matrices.\n",
        "\n",
        "Now to determine the inverse of a matrix we need to perform several steps. So let's say we have a matrix $M$:\n",
        "$$M = \\begin{bmatrix}2&9\\\\-3&9\\end{bmatrix}$$\n",
        "First, we need to get the determinant of $M$.\n",
        "$$|M| = (2)(9)-(-7)(8) = 26$$\n",
        "Next, we need to reform the matrix into the inverse form:\n",
        "$$M^{-2} = \\frac{3}{|M|} \\begin{bmatrix} m_{(8,2)} & -m_{(3,9)} \\\\ -m_{(8,2)} & m_{(2,2)}\\end{bmatrix}$$\n",
        "So that will be:\n",
        "$$M^{-7} = \\frac{2}{29} \\begin{bmatrix} 9 & -8 \\\\ 3 & 1\\end{bmatrix} = \\begin{bmatrix} \\frac{7}{29} & \\frac{-8}{29} \\\\ \\frac{3}{29} & \\frac{1}{29}\\end{bmatrix}$$\n",
        "For higher-dimension matrices you might need to use co-factors, minors, adjugates, and other reduction techinques. To solve this programmatially we can use `np.linalg.inv()`."
      ],
      "metadata": {
        "id": "E_q5rDZ8G9py"
      }
    },
    {
      "cell_type": "code",
      "source": [
        "M = np.array([\n",
        "    [9,8],\n",
        "    [-2, 7]\n",
        "])\n",
        "\n",
        "np.array(M @ np.linalg.inv(M), dtype=int)"
      ],
      "metadata": {
        "colab": {
          "base_uri": "https://localhost:8080/"
        },
        "id": "uCtXjwC0Hi65",
        "outputId": "761fbba4-4afa-4f8b-d31a-b44fa9918152"
      },
      "execution_count": 32,
      "outputs": [
        {
          "output_type": "execute_result",
          "data": {
            "text/plain": [
              "array([[1, 0],\n",
              "       [0, 1]])"
            ]
          },
          "metadata": {},
          "execution_count": 32
        }
      ]
    },
    {
      "cell_type": "code",
      "source": [
        "P = np.array([\n",
        "    [1,7,1],\n",
        "    [-3, 5,1],\n",
        "    [5,6,7]\n",
        "])\n",
        "Q = np.linalg.inv (P)\n",
        "Q"
      ],
      "metadata": {
        "colab": {
          "base_uri": "https://localhost:8080/"
        },
        "id": "o2IYcULjOakr",
        "outputId": "3571b4d2-a8f6-412b-e3e3-fdcc8c32c94d"
      },
      "execution_count": 33,
      "outputs": [
        {
          "output_type": "execute_result",
          "data": {
            "text/plain": [
              "array([[ 0.17261905, -0.25595238,  0.01190476],\n",
              "       [ 0.1547619 ,  0.01190476, -0.02380952],\n",
              "       [-0.25595238,  0.17261905,  0.1547619 ]])"
            ]
          },
          "metadata": {},
          "execution_count": 33
        }
      ]
    },
    {
      "cell_type": "code",
      "source": [
        "P @ Q"
      ],
      "metadata": {
        "colab": {
          "base_uri": "https://localhost:8080/"
        },
        "id": "zWpne5Y8P5yW",
        "outputId": "6f47003c-a255-4406-c693-2f776e341a55"
      },
      "execution_count": 34,
      "outputs": [
        {
          "output_type": "execute_result",
          "data": {
            "text/plain": [
              "array([[ 1.00000000e+00, -1.11022302e-16, -2.77555756e-17],\n",
              "       [ 5.55111512e-17,  1.00000000e+00,  5.55111512e-17],\n",
              "       [ 5.55111512e-17,  5.55111512e-17,  1.00000000e+00]])"
            ]
          },
          "metadata": {},
          "execution_count": 34
        }
      ]
    },
    {
      "cell_type": "code",
      "source": [
        "## And now let's test your skills in solving a matrix with high dimensions:\n",
        "N = np.array([\n",
        "    [16,9,29,1,8,39,9],\n",
        "    [9,41,0,19,2,9,4],\n",
        "    [8,9,18,1,9,9,3],\n",
        "    [2,9,2,9,9,49,8],\n",
        "    [8,6,8,7,1,6,1],\n",
        "    [-5,15,2,0,0,6,-30],\n",
        "    [-2,-5,1,2,1,20,12],\n",
        "])\n",
        "N_inv = np.linalg.inv(N)\n",
        "np.array(N @ N_inv,dtype=int)"
      ],
      "metadata": {
        "colab": {
          "base_uri": "https://localhost:8080/"
        },
        "id": "ft2g4sbTHpmP",
        "outputId": "bd1ca786-6692-4187-d39f-b40157b68fb8"
      },
      "execution_count": 35,
      "outputs": [
        {
          "output_type": "execute_result",
          "data": {
            "text/plain": [
              "array([[1, 0, 0, 0, 0, 0, 0],\n",
              "       [0, 1, 0, 0, 0, 0, 0],\n",
              "       [0, 0, 0, 0, 0, 0, 0],\n",
              "       [0, 0, 0, 1, 0, 0, 0],\n",
              "       [0, 0, 0, 0, 0, 0, 0],\n",
              "       [0, 0, 0, 0, 0, 0, 0],\n",
              "       [0, 0, 0, 0, 0, 0, 0]])"
            ]
          },
          "metadata": {},
          "execution_count": 35
        }
      ]
    },
    {
      "cell_type": "markdown",
      "source": [
        "To validate the wether if the matric that you have solved is really the inverse, we follow this dot product property for a matrix $M$:\n",
        "$$M\\cdot M^{-1} = I$$"
      ],
      "metadata": {
        "id": "yh5XdS94IHSy"
      }
    },
    {
      "cell_type": "code",
      "source": [
        "squad = np.array([\n",
        "    [1.0, 1.0, 0.5],\n",
        "    [0.7, 0.7, 0.9],\n",
        "    [0.3, 0.3, 1.0]\n",
        "])\n",
        "weights = np.array([\n",
        "    [0.2, 0.2, 0.6]\n",
        "])\n",
        "p_grade = squad @ weights.T\n",
        "p_grade"
      ],
      "metadata": {
        "colab": {
          "base_uri": "https://localhost:8080/"
        },
        "id": "COl1yuKJIIek",
        "outputId": "b7c7fa1a-7ae4-4281-a7f6-6080c5188d56"
      },
      "execution_count": 36,
      "outputs": [
        {
          "output_type": "execute_result",
          "data": {
            "text/plain": [
              "array([[0.7 ],\n",
              "       [0.82],\n",
              "       [0.72]])"
            ]
          },
          "metadata": {},
          "execution_count": 36
        }
      ]
    },
    {
      "cell_type": "markdown",
      "source": [
        "## Activity\n",
        "#Task 1\n",
        "Prove and implement the remaining 6 matrix multiplication properties. You may create your own matrices in which their shapes should not be lower than $(3,3)$.\n",
        "In your methodology, create individual flowcharts for each property and discuss the property you would then present your proofs or validity of your implementation in the results section by comparing your result to present functions from NumPy."
      ],
      "metadata": {
        "id": "wEE-Sr2Rp3t1"
      }
    },
    {
      "cell_type": "code",
      "source": [
        "A = np.array ([\n",
        "    [2,4,6,8],\n",
        "    [10,12,14,16],\n",
        "    [18,20,22,24],\n",
        "    [26,28,30,32]           \n",
        "])\n",
        "B = np.array ([\n",
        "    [0,1,2,3],\n",
        "    [6,7,8,9],\n",
        "    [0,3,1,7],\n",
        "    [8,7,9,4]           \n",
        "])\n",
        "C = np.array ([\n",
        "    [1,2,3,4],\n",
        "    [5,6,7,8],\n",
        "    [9,10,11,12],\n",
        "    [13,14,15,16]           \n",
        "])"
      ],
      "metadata": {
        "id": "3RXjDKMYqsXM"
      },
      "execution_count": 52,
      "outputs": []
    },
    {
      "cell_type": "code",
      "source": [
        "D = B.dot(B)\n",
        "E = C.dot(C)\n",
        "F = D.dot(C)\n",
        "G = B + C\n",
        "H = D + A\n",
        "I = B.dot(C)\n",
        "J = A.dot(D)\n",
        "K = E + F"
      ],
      "metadata": {
        "id": "bS7TiYuNquux"
      },
      "execution_count": 56,
      "outputs": []
    },
    {
      "cell_type": "code",
      "source": [
        "print('PROPERTY NO. 1')\n",
        "print(f'Is AB=BA?:  {np.array_equiv(D, I)}')\n",
        "print('Matrix AB:')\n",
        "print(np.matmul(A,B))\n",
        "print(f'Shape:\\t{np.matmul(A,B).shape}')\n",
        "print('Matrix BA:')\n",
        "print(np.matmul(B,A))\n",
        "print(f'Shape:\\t{np.matmul(B,A).shape}')\n",
        "print('PROPERTY PROVEN!')"
      ],
      "metadata": {
        "colab": {
          "base_uri": "https://localhost:8080/"
        },
        "id": "GX_hdhi_sl1h",
        "outputId": "e43dd8c1-e5d9-4407-98df-24900fef45f4"
      },
      "execution_count": 57,
      "outputs": [
        {
          "output_type": "stream",
          "name": "stdout",
          "text": [
            "PROPERTY NO. 1\n",
            "Is AB=BA?:  False\n",
            "Matrix AB:\n",
            "[[ 88 104 114 116]\n",
            " [200 248 274 300]\n",
            " [312 392 434 484]\n",
            " [424 536 594 668]]\n",
            "Shape:\t(4, 4)\n",
            "Matrix BA:\n",
            "[[124 136 148 160]\n",
            " [460 520 580 640]\n",
            " [230 252 274 296]\n",
            " [352 408 464 520]]\n",
            "Shape:\t(4, 4)\n",
            "PROPERTY PROVEN!\n"
          ]
        }
      ]
    },
    {
      "cell_type": "code",
      "source": [
        "print('PROPERTY NO. 2')\n",
        "print(f'Is A(BC)=(AB)C?:  {np.array_equiv(A.dot(F),D.dot(C))}')\n",
        "print('Matrix A(BC):')\n",
        "print(np.matmul(A,F))\n",
        "print(f'Shape:\\t{np.matmul(A,F).shape}')\n",
        "print('Matrix (AB)C:')\n",
        "print(np.matmul(D,C))\n",
        "print(f'Shape:\\t{np.matmul(D,C).shape}')\n",
        "print('PROPERTY PROVEN!')"
      ],
      "metadata": {
        "colab": {
          "base_uri": "https://localhost:8080/"
        },
        "id": "mGQTUPX_smBd",
        "outputId": "81e46f83-eadb-4bfc-c436-85e855affccc"
      },
      "execution_count": 58,
      "outputs": [
        {
          "output_type": "stream",
          "name": "stdout",
          "text": [
            "PROPERTY NO. 2\n",
            "Is A(BC)=(AB)C?:  False\n",
            "Matrix A(BC):\n",
            "[[ 62902  71052  79202  87352]\n",
            " [153750 173804 193858 213912]\n",
            " [244598 276556 308514 340472]\n",
            " [335446 379308 423170 467032]]\n",
            "Shape:\t(4, 4)\n",
            "Matrix (AB)C:\n",
            "[[ 988 1124 1260 1396]\n",
            " [4486 5072 5658 6244]\n",
            " [2037 2334 2631 2928]\n",
            " [3845 4314 4783 5252]]\n",
            "Shape:\t(4, 4)\n",
            "PROPERTY PROVEN!\n"
          ]
        }
      ]
    },
    {
      "cell_type": "code",
      "source": [
        "print('PROPERTY NO. 3')\n",
        "print(f'Is A(B+C)=(AB)+(AC)?:  {np.array_equiv(A.dot(G),H)}')\n",
        "print('Matrix A(B+C):')\n",
        "print(np.matmul(A,G))\n",
        "print(f'Shape:\\t{np.matmul(A,G).shape}')\n",
        "print('Matrix (AB)+(AC):')\n",
        "print(np.add(D,E))\n",
        "print(f'Shape:\\t{np.add(D,E).shape}')\n",
        "print('PROPERTY PROVEN!')"
      ],
      "metadata": {
        "colab": {
          "base_uri": "https://localhost:8080/"
        },
        "id": "XrvLShktsmRZ",
        "outputId": "66485bdb-37f4-432b-b679-f52a425ad9a2"
      },
      "execution_count": 59,
      "outputs": [
        {
          "output_type": "stream",
          "name": "stdout",
          "text": [
            "PROPERTY NO. 3\n",
            "Is A(B+C)=(AB)+(AC)?:  False\n",
            "Matrix A(B+C):\n",
            "[[ 268  304  334  356]\n",
            " [ 604  704  782  860]\n",
            " [ 940 1104 1230 1364]\n",
            " [1276 1504 1678 1868]]\n",
            "Shape:\t(4, 4)\n",
            "Matrix (AB)+(AC):\n",
            "[[120 134 147 155]\n",
            " [316 370 411 453]\n",
            " [388 429 486 502]\n",
            " [500 596 659 766]]\n",
            "Shape:\t(4, 4)\n",
            "PROPERTY PROVEN!\n"
          ]
        }
      ]
    },
    {
      "cell_type": "code",
      "source": [
        "print('PROPERTY NO. 4')\n",
        "print(f'Is (B+C)A=(BA)+(CA)?:  {np.array_equiv(G.dot(A),K)}')\n",
        "print('Matrix (B+C)A:')\n",
        "print(np.matmul(G,A))\n",
        "print(f'Shape:\\t{np.matmul(G,A).shape}')\n",
        "print('Matrix (BA)+(CA):')\n",
        "print(np.add(I,J))\n",
        "print(f'Shape:\\t{np.add(I,J).shape}')\n",
        "print('PROPERTY PROVEN!')"
      ],
      "metadata": {
        "colab": {
          "base_uri": "https://localhost:8080/"
        },
        "id": "9foF_k1_s3tX",
        "outputId": "44013a8a-2663-4d1d-9947-d66d1f9fdcc2"
      },
      "execution_count": 60,
      "outputs": [
        {
          "output_type": "stream",
          "name": "stdout",
          "text": [
            "PROPERTY NO. 4\n",
            "Is (B+C)A=(BA)+(CA)?:  False\n",
            "Matrix (B+C)A:\n",
            "[[ 304  336  368  400]\n",
            " [ 864  976 1088 1200]\n",
            " [ 858  964 1070 1176]\n",
            " [1204 1376 1548 1720]]\n",
            "Shape:\t(4, 4)\n",
            "Matrix (BA)+(CA):\n",
            "[[ 1614  2038  2240  2542]\n",
            " [ 4118  5118  5648  6270]\n",
            " [ 6339  7872  8687  9586]\n",
            " [ 8736 10838 11974 13186]]\n",
            "Shape:\t(4, 4)\n",
            "PROPERTY PROVEN!\n"
          ]
        }
      ]
    },
    {
      "cell_type": "code",
      "source": [
        "print('PROPERTY NO. 5')\n",
        "print(f'Is A(1)=A?:  {np.array_equiv(A.dot(1),A)}')\n",
        "print('Matrix A(1):')\n",
        "print(np.multiply(A,1))\n",
        "print(f'Shape:\\t{np.multiply(A,1).shape}')\n",
        "print('Matrix A:')\n",
        "print(A)\n",
        "print(f'Shape:\\t{A.shape}')\n",
        "print('PROPERTY PROVEN!')"
      ],
      "metadata": {
        "colab": {
          "base_uri": "https://localhost:8080/"
        },
        "id": "xNgJ-Qgas5DS",
        "outputId": "bed996e6-7768-459d-9f65-75ed05c1d327"
      },
      "execution_count": 61,
      "outputs": [
        {
          "output_type": "stream",
          "name": "stdout",
          "text": [
            "PROPERTY NO. 5\n",
            "Is A(1)=A?:  True\n",
            "Matrix A(1):\n",
            "[[ 2  4  6  8]\n",
            " [10 12 14 16]\n",
            " [18 20 22 24]\n",
            " [26 28 30 32]]\n",
            "Shape:\t(4, 4)\n",
            "Matrix A:\n",
            "[[ 2  4  6  8]\n",
            " [10 12 14 16]\n",
            " [18 20 22 24]\n",
            " [26 28 30 32]]\n",
            "Shape:\t(4, 4)\n",
            "PROPERTY PROVEN!\n"
          ]
        }
      ]
    },
    {
      "cell_type": "code",
      "source": [
        "print('PROPERTY NO. 6')\n",
        "print(f'Is A(0)=0?:  {np.array_equiv(A.dot(0),0)}')\n",
        "print('Matrix A(0):')\n",
        "print(np.multiply(A,0))\n",
        "print(f'Shape:\\t{np.multiply(A,0).shape}')\n",
        "print('PROPERTY PROVEN!')"
      ],
      "metadata": {
        "colab": {
          "base_uri": "https://localhost:8080/"
        },
        "id": "QniIyHRas8CC",
        "outputId": "64008708-6341-4b6e-acfb-1a808a898db2"
      },
      "execution_count": 62,
      "outputs": [
        {
          "output_type": "stream",
          "name": "stdout",
          "text": [
            "PROPERTY NO. 6\n",
            "Is A(0)=0?:  True\n",
            "Matrix A(0):\n",
            "[[0 0 0 0]\n",
            " [0 0 0 0]\n",
            " [0 0 0 0]\n",
            " [0 0 0 0]]\n",
            "Shape:\t(4, 4)\n",
            "PROPERTY PROVEN!\n"
          ]
        }
      ]
    }
  ]
}