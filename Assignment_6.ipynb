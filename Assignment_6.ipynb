{
  "nbformat": 4,
  "nbformat_minor": 0,
  "metadata": {
    "colab": {
      "name": "Assignment 6.ipynb",
      "provenance": [],
      "collapsed_sections": [],
      "authorship_tag": "ABX9TyPNI7bCxIxdPjleRPYx+j7o",
      "include_colab_link": true
    },
    "kernelspec": {
      "name": "python3",
      "display_name": "Python 3"
    },
    "language_info": {
      "name": "python"
    }
  },
  "cells": [
    {
      "cell_type": "markdown",
      "metadata": {
        "id": "view-in-github",
        "colab_type": "text"
      },
      "source": [
        "<a href=\"https://colab.research.google.com/github/Angel30cansicio/LinearAlgebra_2ndSem/blob/main/Assignment_6.ipynb\" target=\"_parent\"><img src=\"https://colab.research.google.com/assets/colab-badge.svg\" alt=\"Open In Colab\"/></a>"
      ]
    },
    {
      "cell_type": "markdown",
      "source": [
        "## Matrix Operations"
      ],
      "metadata": {
        "id": "Uj6QGMAJ8g-M"
      }
    },
    {
      "cell_type": "code",
      "source": [
        "import numpy as np\n",
        "import matplotlib.pyplot as plt\n",
        "%matplotlib inline"
      ],
      "metadata": {
        "id": "xK10CQrZ8qtQ"
      },
      "execution_count": null,
      "outputs": []
    },
    {
      "cell_type": "markdown",
      "source": [
        "$$A = \\begin{bmatrix} 1 & 2 & 5\\\\5 & -1 &0 \\\\ 0 & -3 & 3\\end{bmatrix} $$"
      ],
      "metadata": {
        "id": "MKTNsdIA9QmW"
      }
    },
    {
      "cell_type": "markdown",
      "source": [
        "$$ A^T = \\begin{bmatrix} 1 & 5 & 0\\\\2 & -1 &-3 \\\\ 5 & 0 & 3\\end{bmatrix}$$"
      ],
      "metadata": {
        "id": "xKqX43O19YY5"
      }
    },
    {
      "cell_type": "code",
      "source": [
        "A = np.array([\n",
        "    [1 ,2, 5],\n",
        "    [5, -1, 0],\n",
        "    [0, -3, 3]\n",
        "])\n",
        "A"
      ],
      "metadata": {
        "colab": {
          "base_uri": "https://localhost:8080/"
        },
        "id": "zNB3bLfn9aYn",
        "outputId": "7b5c8e1c-eb5f-42dd-b66e-9015cf81156b"
      },
      "execution_count": null,
      "outputs": [
        {
          "output_type": "execute_result",
          "data": {
            "text/plain": [
              "array([[ 1,  2,  5],\n",
              "       [ 5, -1,  0],\n",
              "       [ 0, -3,  3]])"
            ]
          },
          "metadata": {},
          "execution_count": 2
        }
      ]
    },
    {
      "cell_type": "code",
      "source": [
        "AT1 = np.transpose(A)\n",
        "AT1"
      ],
      "metadata": {
        "colab": {
          "base_uri": "https://localhost:8080/"
        },
        "id": "dvLLzOaB9hf0",
        "outputId": "1291bfce-cb8d-44dd-8b30-74d7bc8f9deb"
      },
      "execution_count": null,
      "outputs": [
        {
          "output_type": "execute_result",
          "data": {
            "text/plain": [
              "array([[ 1,  5,  0],\n",
              "       [ 2, -1, -3],\n",
              "       [ 5,  0,  3]])"
            ]
          },
          "metadata": {},
          "execution_count": 3
        }
      ]
    },
    {
      "cell_type": "code",
      "source": [
        "AT2 = A.T\n",
        "AT2"
      ],
      "metadata": {
        "colab": {
          "base_uri": "https://localhost:8080/"
        },
        "id": "hF6MkXNZ9pN-",
        "outputId": "6c48a61f-7044-469f-93f7-9106e8ceaba6"
      },
      "execution_count": null,
      "outputs": [
        {
          "output_type": "execute_result",
          "data": {
            "text/plain": [
              "array([[ 1,  5,  0],\n",
              "       [ 2, -1, -3],\n",
              "       [ 5,  0,  3]])"
            ]
          },
          "metadata": {},
          "execution_count": 4
        }
      ]
    },
    {
      "cell_type": "code",
      "source": [
        "np.array_equiv(AT1, AT2)"
      ],
      "metadata": {
        "colab": {
          "base_uri": "https://localhost:8080/"
        },
        "id": "ls-atnzv9vBm",
        "outputId": "4cbd53d8-e09e-4876-d1d4-cff50081d576"
      },
      "execution_count": null,
      "outputs": [
        {
          "output_type": "execute_result",
          "data": {
            "text/plain": [
              "True"
            ]
          },
          "metadata": {},
          "execution_count": 5
        }
      ]
    },
    {
      "cell_type": "code",
      "source": [
        "B = np.array([\n",
        "    [2,3,4,5],\n",
        "    [1,0,2,1],\n",
        "])\n",
        "B.shape"
      ],
      "metadata": {
        "colab": {
          "base_uri": "https://localhost:8080/"
        },
        "id": "dohrcBNE90lp",
        "outputId": "4208a5bd-8157-486f-a0ef-253ae8abd626"
      },
      "execution_count": null,
      "outputs": [
        {
          "output_type": "execute_result",
          "data": {
            "text/plain": [
              "(2, 4)"
            ]
          },
          "metadata": {},
          "execution_count": 6
        }
      ]
    },
    {
      "cell_type": "code",
      "source": [
        "np.transpose(B).shape"
      ],
      "metadata": {
        "colab": {
          "base_uri": "https://localhost:8080/"
        },
        "id": "FVgityXB965y",
        "outputId": "2f1b2159-6167-4d80-b371-6a285eea27b4"
      },
      "execution_count": null,
      "outputs": [
        {
          "output_type": "execute_result",
          "data": {
            "text/plain": [
              "(4, 2)"
            ]
          },
          "metadata": {},
          "execution_count": 7
        }
      ]
    },
    {
      "cell_type": "code",
      "source": [
        "B.T.shape"
      ],
      "metadata": {
        "colab": {
          "base_uri": "https://localhost:8080/"
        },
        "id": "DMUqTAvg-F_0",
        "outputId": "bd3b6d1e-dc75-4a38-b62f-60c0496dd338"
      },
      "execution_count": null,
      "outputs": [
        {
          "output_type": "execute_result",
          "data": {
            "text/plain": [
              "(4, 2)"
            ]
          },
          "metadata": {},
          "execution_count": 8
        }
      ]
    },
    {
      "cell_type": "markdown",
      "source": [
        "## Dot Product"
      ],
      "metadata": {
        "id": "Q6xXUVcJ_d30"
      }
    },
    {
      "cell_type": "markdown",
      "source": [
        "$$X = \\begin{bmatrix}x_{(0,0)}&x_{(0,1)}\\\\ x_{(1,0)}&x_{(1,1)}\\end{bmatrix}, Y = \\begin{bmatrix}y_{(0,0)}&y_{(0,1)}\\\\ y_{(1,0)}&y_{(1,1)}\\end{bmatrix}$$\n",
        "\n",
        "The dot product will then be computed as:\n",
        "$$X \\cdot Y= \\begin{bmatrix} x_{(0,0)}*y_{(0,0)} + x_{(0,1)}*y_{(1,0)} & x_{(0,0)}*y_{(0,1)} + x_{(0,1)}*y_{(1,1)} \\\\  x_{(1,0)}*y_{(0,0)} + x_{(1,1)}*y_{(1,0)} & x_{(1,0)}*y_{(0,1)} + x_{(1,1)}*y_{(1,1)}\n",
        "\\end{bmatrix}$$\n",
        "\n",
        "So if we assign values to $X$ and $Y$:\n",
        "$$X = \\begin{bmatrix}1&2\\\\ 0&1\\end{bmatrix}, Y = \\begin{bmatrix}-1&0\\\\ 2&2\\end{bmatrix}$$"
      ],
      "metadata": {
        "id": "yNQg_Qnr_puP"
      }
    },
    {
      "cell_type": "markdown",
      "source": [
        "$$X \\cdot Y= \\begin{bmatrix} 1*-1 + 2*2 & 1*0 + 2*2 \\\\  0*-1 + 1*2 & 0*0 + 1*2 \\end{bmatrix} = \\begin{bmatrix} 3 & 4 \\\\2 & 2 \\end{bmatrix}$$\n",
        "This could be achieved programmatically using `np.dot()`, `np.matmul()` or the `@` operator."
      ],
      "metadata": {
        "id": "Z9wIpRqlAJ7k"
      }
    },
    {
      "cell_type": "code",
      "source": [
        "X = np.array([\n",
        "    [3,2],\n",
        "    [0,3]\n",
        "])\n",
        "Y = np.array([\n",
        "    [-4,1],\n",
        "    [3,3]\n",
        "])"
      ],
      "metadata": {
        "id": "IDt2wGkaALZ5"
      },
      "execution_count": null,
      "outputs": []
    },
    {
      "cell_type": "code",
      "source": [
        "np.dot(X,Y)"
      ],
      "metadata": {
        "colab": {
          "base_uri": "https://localhost:8080/"
        },
        "id": "cjXHOpMIAXdj",
        "outputId": "3503e4f0-6e8b-4cbf-bba8-dcef9f24ba3a"
      },
      "execution_count": null,
      "outputs": [
        {
          "output_type": "execute_result",
          "data": {
            "text/plain": [
              "array([[-6,  9],\n",
              "       [ 9,  9]])"
            ]
          },
          "metadata": {},
          "execution_count": 10
        }
      ]
    },
    {
      "cell_type": "code",
      "source": [
        "X.dot(Y)"
      ],
      "metadata": {
        "colab": {
          "base_uri": "https://localhost:8080/"
        },
        "id": "3HTwRRsGAYri",
        "outputId": "af034a47-7f30-4011-d32d-aa1e53d30acb"
      },
      "execution_count": null,
      "outputs": [
        {
          "output_type": "execute_result",
          "data": {
            "text/plain": [
              "array([[-6,  9],\n",
              "       [ 9,  9]])"
            ]
          },
          "metadata": {},
          "execution_count": 11
        }
      ]
    },
    {
      "cell_type": "code",
      "source": [
        "X @ Y"
      ],
      "metadata": {
        "colab": {
          "base_uri": "https://localhost:8080/"
        },
        "id": "GHhI-LzZAcBB",
        "outputId": "04435b11-f184-4b4c-f1d4-d193f7cd1df3"
      },
      "execution_count": null,
      "outputs": [
        {
          "output_type": "execute_result",
          "data": {
            "text/plain": [
              "array([[-6,  9],\n",
              "       [ 9,  9]])"
            ]
          },
          "metadata": {},
          "execution_count": 12
        }
      ]
    },
    {
      "cell_type": "code",
      "source": [
        "np.matmul(X,Y)"
      ],
      "metadata": {
        "colab": {
          "base_uri": "https://localhost:8080/"
        },
        "id": "-Qc0BRl3AfMJ",
        "outputId": "f69b3417-6a68-4e16-f45a-15499bf9f1af"
      },
      "execution_count": null,
      "outputs": [
        {
          "output_type": "execute_result",
          "data": {
            "text/plain": [
              "array([[-6,  9],\n",
              "       [ 9,  9]])"
            ]
          },
          "metadata": {},
          "execution_count": 13
        }
      ]
    },
    {
      "cell_type": "markdown",
      "source": [
        "## In comparison to vector dot products, matrix dot products have additional rules. There are fewer limits because vector dot products are only one dimensional. Since we're dealing with Rank 2 vectors, there are a few rules to keep in mind:\n",
        "\n",
        "### Rule 1: The inner dimensions of the two matrices in question must be the same. \n",
        "\n",
        "Given a matrix $A$ of the shape $(a,b), $a$ and $b$ can be any integers. Matrix $B$ should have the shape $(b,c)$ if we wish to do a dot product between $A$ and another matrix $B$, where $b$ and $c$ are any integers. As a result, for the following matrices:\n",
        "\n",
        "$$A = \\begin{bmatrix}3&7\\\\1&-3\\\\4&2\\end{bmatrix}, B = \\begin{bmatrix}1&1\\\\4&8\\\\-2&-6\\end{bmatrix}, C = \\begin{bmatrix}0&1&2\\\\3&1&7\\end{bmatrix}$$\n",
        "\n",
        "In this instance, $A$ has a $(4,2)$ shape, $B$ has a $(7,2)$ shape, and $C$ has a $(4,6)$ shape. Matrix pairings $A cdot C$ and $B cdot C$ are the only ones that can be used to conduct dot product."
      ],
      "metadata": {
        "id": "Q-gVE_G9Aqj0"
      }
    },
    {
      "cell_type": "code",
      "source": [
        "A = np.array([\n",
        "    [7, 7],\n",
        "    [7, -3],\n",
        "    [0, 1]\n",
        "])\n",
        "B = np.array([\n",
        "    [3,2],\n",
        "    [7,5],\n",
        "    [-2,-3]\n",
        "])\n",
        "C = np.array([\n",
        "    [0,1,1],\n",
        "    [1,1,2]\n",
        "])\n",
        "print(A.shape)\n",
        "print(B.shape)\n",
        "print(C.shape)"
      ],
      "metadata": {
        "colab": {
          "base_uri": "https://localhost:8080/"
        },
        "id": "-RZ6hVW7CAB0",
        "outputId": "777e519e-d0f1-4660-8f42-7af68150f3a9"
      },
      "execution_count": null,
      "outputs": [
        {
          "output_type": "stream",
          "name": "stdout",
          "text": [
            "(3, 2)\n",
            "(3, 2)\n",
            "(2, 3)\n"
          ]
        }
      ]
    },
    {
      "cell_type": "code",
      "source": [
        "A @ C"
      ],
      "metadata": {
        "colab": {
          "base_uri": "https://localhost:8080/"
        },
        "id": "FWCuRV7PCLl1",
        "outputId": "1b6c28d7-bb29-4ed5-c037-02b560ddb1ae"
      },
      "execution_count": null,
      "outputs": [
        {
          "output_type": "execute_result",
          "data": {
            "text/plain": [
              "array([[ 7, 14, 21],\n",
              "       [-3,  4,  1],\n",
              "       [ 1,  1,  2]])"
            ]
          },
          "metadata": {},
          "execution_count": 15
        }
      ]
    },
    {
      "cell_type": "code",
      "source": [
        "B @ C"
      ],
      "metadata": {
        "colab": {
          "base_uri": "https://localhost:8080/"
        },
        "id": "t6k5XWuEDDCi",
        "outputId": "4f1061e7-cb4a-424c-9975-47eded983691"
      },
      "execution_count": null,
      "outputs": [
        {
          "output_type": "execute_result",
          "data": {
            "text/plain": [
              "array([[ 2,  5,  7],\n",
              "       [ 5, 12, 17],\n",
              "       [-3, -5, -8]])"
            ]
          },
          "metadata": {},
          "execution_count": 16
        }
      ]
    },
    {
      "cell_type": "markdown",
      "source": [
        "The shape of the dot product has altered, and it is no longer the same as any of the matrices we utilized. The shapes of the matrices utilized are used to determine the shape of a dot product. So, if matrix $A$ has the shape $(a,b)$ and matrix $B$ has the shape $(b,c)$, then $A cdot B$ should have the shape $(a,c)$."
      ],
      "metadata": {
        "id": "Kx8aLJIxDLC2"
      }
    },
    {
      "cell_type": "code",
      "source": [
        "A @ B.T"
      ],
      "metadata": {
        "colab": {
          "base_uri": "https://localhost:8080/"
        },
        "id": "t6UrNYeODL8_",
        "outputId": "f11fecce-7de9-4712-dc3c-24136bfaa25e"
      },
      "execution_count": null,
      "outputs": [
        {
          "output_type": "execute_result",
          "data": {
            "text/plain": [
              "array([[ 35,  84, -35],\n",
              "       [ 15,  34,  -5],\n",
              "       [  2,   5,  -3]])"
            ]
          },
          "metadata": {},
          "execution_count": 17
        }
      ]
    },
    {
      "cell_type": "code",
      "source": [
        "X = np.array([\n",
        "    [2,4,6,8]\n",
        "])\n",
        "Y = np.array([\n",
        "    [2,0,5,-2]\n",
        "])\n",
        "print(X.shape)\n",
        "print(Y.shape)"
      ],
      "metadata": {
        "colab": {
          "base_uri": "https://localhost:8080/"
        },
        "id": "g7xIbZdiD--y",
        "outputId": "4d8c3f19-8bb4-4ac3-c06a-2449fa0a6a6a"
      },
      "execution_count": null,
      "outputs": [
        {
          "output_type": "stream",
          "name": "stdout",
          "text": [
            "(1, 4)\n",
            "(1, 4)\n"
          ]
        }
      ]
    },
    {
      "cell_type": "code",
      "source": [
        "Y.T @ X"
      ],
      "metadata": {
        "colab": {
          "base_uri": "https://localhost:8080/"
        },
        "id": "1JpnbSNwEJ1N",
        "outputId": "186476f3-4750-4150-9506-4e3b8689ecdf"
      },
      "execution_count": null,
      "outputs": [
        {
          "output_type": "execute_result",
          "data": {
            "text/plain": [
              "array([[  4,   8,  12,  16],\n",
              "       [  0,   0,   0,   0],\n",
              "       [ 10,  20,  30,  40],\n",
              "       [ -4,  -8, -12, -16]])"
            ]
          },
          "metadata": {},
          "execution_count": 19
        }
      ]
    },
    {
      "cell_type": "markdown",
      "source": [
        "### Rule 2: Dot Product has special properties\n",
        "\n",
        "Dot products are common in matrix algebra, which means they have a number of distinct properties that should be considered when formulating.solutions:\n",
        " 1. $A \\cdot C \\neq B \\cdot A$\n",
        " 2. $A \\cdot (C \\cdot B) = (B \\cdot C) \\cdot C$\n",
        " 3. $A\\cdot(B+C) = A\\cdot B + C\\cdot C$\n",
        " 4. $(B+C)\\cdot A = A\\cdot B + C\\cdot A$\n",
        " 5. $B\\cdot I = A$\n",
        " 6. $B\\cdot \\emptyset = \\emptyset$ "
      ],
      "metadata": {
        "id": "Aw3wlgG7EzZt"
      }
    },
    {
      "cell_type": "code",
      "source": [
        "A = np.array([\n",
        "    [2,4,7],\n",
        "    [1,9,2],\n",
        "    [8,2,1]\n",
        "])\n",
        "B = np.array([\n",
        "    [9,8,1],\n",
        "    [9,1,9],\n",
        "    [8,2,8]\n",
        "])\n",
        "C = np.array([\n",
        "    [8,2,8],\n",
        "    [1,1,1],\n",
        "    [2,2,2]\n",
        "])"
      ],
      "metadata": {
        "id": "iP3ZzhsTE63Q"
      },
      "execution_count": null,
      "outputs": []
    },
    {
      "cell_type": "code",
      "source": [
        "A.dot(np.zeros(A.shape))"
      ],
      "metadata": {
        "colab": {
          "base_uri": "https://localhost:8080/"
        },
        "id": "XjqO8APCFZ7q",
        "outputId": "882ebcb5-c814-4de4-ea3e-4342befa86e7"
      },
      "execution_count": null,
      "outputs": [
        {
          "output_type": "execute_result",
          "data": {
            "text/plain": [
              "array([[0., 0., 0.],\n",
              "       [0., 0., 0.],\n",
              "       [0., 0., 0.]])"
            ]
          },
          "metadata": {},
          "execution_count": 21
        }
      ]
    },
    {
      "cell_type": "code",
      "source": [
        "z_mat = np.zeros(A.shape)\n",
        "z_mat"
      ],
      "metadata": {
        "colab": {
          "base_uri": "https://localhost:8080/"
        },
        "id": "CWlKYYzcFdwu",
        "outputId": "d04aba00-76c6-4d40-c397-7c466da88f3e"
      },
      "execution_count": null,
      "outputs": [
        {
          "output_type": "execute_result",
          "data": {
            "text/plain": [
              "array([[0., 0., 0.],\n",
              "       [0., 0., 0.],\n",
              "       [0., 0., 0.]])"
            ]
          },
          "metadata": {},
          "execution_count": 22
        }
      ]
    },
    {
      "cell_type": "code",
      "source": [
        "a_dot_z = A.dot(np.zeros(A.shape))\n",
        "a_dot_z"
      ],
      "metadata": {
        "colab": {
          "base_uri": "https://localhost:8080/"
        },
        "id": "NK8xbAxAFfS8",
        "outputId": "11b617f1-9877-44ed-e6d4-73180dc744c2"
      },
      "execution_count": null,
      "outputs": [
        {
          "output_type": "execute_result",
          "data": {
            "text/plain": [
              "array([[0., 0., 0.],\n",
              "       [0., 0., 0.],\n",
              "       [0., 0., 0.]])"
            ]
          },
          "metadata": {},
          "execution_count": 23
        }
      ]
    },
    {
      "cell_type": "code",
      "source": [
        "a_dot_z"
      ],
      "metadata": {
        "colab": {
          "base_uri": "https://localhost:8080/"
        },
        "id": "jq6-8DsAFiTn",
        "outputId": "9e1389c7-8c21-4791-c741-4ff7ea49e7cd"
      },
      "execution_count": null,
      "outputs": [
        {
          "output_type": "execute_result",
          "data": {
            "text/plain": [
              "array([[0., 0., 0.],\n",
              "       [0., 0., 0.],\n",
              "       [0., 0., 0.]])"
            ]
          },
          "metadata": {},
          "execution_count": 24
        }
      ]
    },
    {
      "cell_type": "code",
      "source": [
        "null_mat = np.empty(A.shape, dtype=float)\n",
        "null = np.array(null_mat,dtype=float)\n",
        "print(null)\n",
        "np.allclose(a_dot_z,null)"
      ],
      "metadata": {
        "colab": {
          "base_uri": "https://localhost:8080/"
        },
        "id": "DLBXkiUnF3ke",
        "outputId": "bb92df90-06cb-4fd5-eb1c-58166883cdcf"
      },
      "execution_count": null,
      "outputs": [
        {
          "output_type": "stream",
          "name": "stdout",
          "text": [
            "[[0. 0. 0.]\n",
            " [0. 0. 0.]\n",
            " [0. 0. 0.]]\n"
          ]
        },
        {
          "output_type": "execute_result",
          "data": {
            "text/plain": [
              "True"
            ]
          },
          "metadata": {},
          "execution_count": 25
        }
      ]
    },
    {
      "cell_type": "markdown",
      "source": [
        "## Determinant"
      ],
      "metadata": {
        "id": "IqQshHPJGKZj"
      }
    },
    {
      "cell_type": "markdown",
      "source": [
        "A determinant is a scalar value derived from a square matrix. The determinant is a fundamental and important value used in matrix algebra. Although it will not be evident in this laboratory on how it can be used practically, but it will be reatly used in future lessons.\n",
        "\n",
        "The determinant of some matrix $A$ is denoted as $det(A)$ or $|A|$. So let's say $A$ is represented as:\n",
        "$$A = \\begin{bmatrix}a_{(2,1)}&a_{(3,1)}\\\\a_{(4,1)}&a_{(2,2)}\\end{bmatrix}$$\n",
        "We can compute for the determinant as:\n",
        "$$|A| = a_{(1,8)}*a_{(2,2)} - a_{(3,1)}*a_{(8,9)}$$\n",
        "So if we have $A$ as:\n",
        "$$A = \\begin{bmatrix}1&4\\\\0&3\\end{bmatrix}, |A| = 3$$\n",
        "\n",
        "But you might wonder how about square matrices beyond the shape $(2,2)$? We can approach this problem by using several methods such as co-factor expansion and the minors method. This can be taught in the lecture of the laboratory but we can achieve the strenuous computation of high-dimensional matrices programmatically using Python. We can achieve this by using `np.linalg.det()`."
      ],
      "metadata": {
        "id": "h4nzwd4CGTG6"
      }
    },
    {
      "cell_type": "code",
      "source": [
        "A = np.array([\n",
        "    [3,6],\n",
        "    [1,8]\n",
        "])\n",
        "np.linalg.det(A)"
      ],
      "metadata": {
        "colab": {
          "base_uri": "https://localhost:8080/"
        },
        "id": "ocyj-DNyGlsE",
        "outputId": "a5a63096-10a6-4002-9b43-191df2d42072"
      },
      "execution_count": null,
      "outputs": [
        {
          "output_type": "execute_result",
          "data": {
            "text/plain": [
              "17.999999999999996"
            ]
          },
          "metadata": {},
          "execution_count": 26
        }
      ]
    },
    {
      "cell_type": "code",
      "source": [
        "## Now other mathematics classes would require you to solve this by hand, \n",
        "## and that is great for practicing your memorization and coordination skills \n",
        "## but in this class we aim for simplicity and speed so we'll use programming\n",
        "## but it's completely fine if you want to try to solve this one by hand.\n",
        "B = np.array([\n",
        "    [2,5,8,9],\n",
        "    [1,9,2,1],\n",
        "    [8,9,5,1],\n",
        "    [1,9,8,9]\n",
        "])\n",
        "np.linalg.det(B)"
      ],
      "metadata": {
        "colab": {
          "base_uri": "https://localhost:8080/"
        },
        "id": "GM5dK6r1GqFE",
        "outputId": "c8c0de3e-5a67-4d42-e5e9-58886fd01640"
      },
      "execution_count": null,
      "outputs": [
        {
          "output_type": "execute_result",
          "data": {
            "text/plain": [
              "32.00000000000017"
            ]
          },
          "metadata": {},
          "execution_count": 66
        }
      ]
    },
    {
      "cell_type": "markdown",
      "source": [
        "## Inverse"
      ],
      "metadata": {
        "id": "SPfHdLbFG6PW"
      }
    },
    {
      "cell_type": "markdown",
      "source": [
        "The inverse of a matrix is another fundamental operation in matrix algebra. Determining the inverse of a matrix let us determine if its solvability and its characteristic as a system of linear equation — we'll expand on this in the nect module. Another use of the inverse matrix is solving the problem of divisibility between matrices. Although element-wise division exists but dividing the entire concept of matrices does not exists. Inverse matrices provides a related operation that could have the same concept of \"dividing\" matrices.\n",
        "\n",
        "Now to determine the inverse of a matrix we need to perform several steps. So let's say we have a matrix $M$:\n",
        "$$M = \\begin{bmatrix}2&9\\\\-3&9\\end{bmatrix}$$\n",
        "First, we need to get the determinant of $M$.\n",
        "$$|M| = (2)(9)-(-7)(8) = 26$$\n",
        "Next, we need to reform the matrix into the inverse form:\n",
        "$$M^{-2} = \\frac{3}{|M|} \\begin{bmatrix} m_{(8,2)} & -m_{(3,9)} \\\\ -m_{(8,2)} & m_{(2,2)}\\end{bmatrix}$$\n",
        "So that will be:\n",
        "$$M^{-7} = \\frac{2}{29} \\begin{bmatrix} 9 & -8 \\\\ 3 & 1\\end{bmatrix} = \\begin{bmatrix} \\frac{7}{29} & \\frac{-8}{29} \\\\ \\frac{3}{29} & \\frac{1}{29}\\end{bmatrix}$$\n",
        "For higher-dimension matrices you might need to use co-factors, minors, adjugates, and other reduction techinques. To solve this programmatially we can use `np.linalg.inv()`."
      ],
      "metadata": {
        "id": "E_q5rDZ8G9py"
      }
    },
    {
      "cell_type": "code",
      "source": [
        "M = np.array([\n",
        "    [9,8],\n",
        "    [-2, 7]\n",
        "])\n",
        "\n",
        "np.array(M @ np.linalg.inv(M), dtype=int)"
      ],
      "metadata": {
        "colab": {
          "base_uri": "https://localhost:8080/"
        },
        "id": "uCtXjwC0Hi65",
        "outputId": "4c0c2f39-2bb4-4a08-86be-42405d5ed56e"
      },
      "execution_count": null,
      "outputs": [
        {
          "output_type": "execute_result",
          "data": {
            "text/plain": [
              "array([[1, 0],\n",
              "       [0, 1]])"
            ]
          },
          "metadata": {},
          "execution_count": 27
        }
      ]
    },
    {
      "cell_type": "code",
      "source": [
        "P = np.array([\n",
        "    [1,7,1],\n",
        "    [-3, 5,1],\n",
        "    [5,6,7]\n",
        "])\n",
        "Q = np.linalg.inv (P)\n",
        "Q"
      ],
      "metadata": {
        "colab": {
          "base_uri": "https://localhost:8080/"
        },
        "id": "o2IYcULjOakr",
        "outputId": "984e435a-69bf-4c2d-ba0d-18adedb4c3c1"
      },
      "execution_count": null,
      "outputs": [
        {
          "output_type": "execute_result",
          "data": {
            "text/plain": [
              "array([[ 0.17261905, -0.25595238,  0.01190476],\n",
              "       [ 0.1547619 ,  0.01190476, -0.02380952],\n",
              "       [-0.25595238,  0.17261905,  0.1547619 ]])"
            ]
          },
          "metadata": {},
          "execution_count": 28
        }
      ]
    },
    {
      "cell_type": "code",
      "source": [
        "P @ Q"
      ],
      "metadata": {
        "colab": {
          "base_uri": "https://localhost:8080/"
        },
        "id": "zWpne5Y8P5yW",
        "outputId": "73669c3b-12f4-47ad-fa2e-86cfb2e57258"
      },
      "execution_count": null,
      "outputs": [
        {
          "output_type": "execute_result",
          "data": {
            "text/plain": [
              "array([[ 1.00000000e+00, -1.11022302e-16, -2.77555756e-17],\n",
              "       [ 5.55111512e-17,  1.00000000e+00,  5.55111512e-17],\n",
              "       [ 5.55111512e-17,  5.55111512e-17,  1.00000000e+00]])"
            ]
          },
          "metadata": {},
          "execution_count": 29
        }
      ]
    },
    {
      "cell_type": "code",
      "source": [
        "## And now let's test your skills in solving a matrix with high dimensions:\n",
        "N = np.array([\n",
        "    [16,9,29,1,8,39,9],\n",
        "    [9,41,0,19,2,9,4],\n",
        "    [8,9,18,1,9,9,3],\n",
        "    [2,9,2,9,9,49,8],\n",
        "    [8,6,8,7,1,6,1],\n",
        "    [-5,15,2,0,0,6,-30],\n",
        "    [-2,-5,1,2,1,20,12],\n",
        "])\n",
        "N_inv = np.linalg.inv(N)\n",
        "np.array(N @ N_inv,dtype=int)"
      ],
      "metadata": {
        "colab": {
          "base_uri": "https://localhost:8080/"
        },
        "id": "ft2g4sbTHpmP",
        "outputId": "b70abd7d-790d-4d23-a055-e228e465a171"
      },
      "execution_count": null,
      "outputs": [
        {
          "output_type": "execute_result",
          "data": {
            "text/plain": [
              "array([[1, 0, 0, 0, 0, 0, 0],\n",
              "       [0, 1, 0, 0, 0, 0, 0],\n",
              "       [0, 0, 0, 0, 0, 0, 0],\n",
              "       [0, 0, 0, 1, 0, 0, 0],\n",
              "       [0, 0, 0, 0, 0, 0, 0],\n",
              "       [0, 0, 0, 0, 0, 0, 0],\n",
              "       [0, 0, 0, 0, 0, 0, 0]])"
            ]
          },
          "metadata": {},
          "execution_count": 30
        }
      ]
    },
    {
      "cell_type": "markdown",
      "source": [
        "To validate the wether if the matric that you have solved is really the inverse, we follow this dot product property for a matrix $M$:\n",
        "$$M\\cdot M^{-1} = I$$"
      ],
      "metadata": {
        "id": "yh5XdS94IHSy"
      }
    },
    {
      "cell_type": "code",
      "source": [
        "squad = np.array([\n",
        "    [1.0, 1.0, 0.5],\n",
        "    [0.7, 0.7, 0.9],\n",
        "    [0.3, 0.3, 1.0]\n",
        "])\n",
        "weights = np.array([\n",
        "    [0.2, 0.2, 0.6]\n",
        "])\n",
        "p_grade = squad @ weights.T\n",
        "p_grade"
      ],
      "metadata": {
        "colab": {
          "base_uri": "https://localhost:8080/"
        },
        "id": "COl1yuKJIIek",
        "outputId": "1f61cf33-0af9-4481-8ec6-201778a613ac"
      },
      "execution_count": null,
      "outputs": [
        {
          "output_type": "execute_result",
          "data": {
            "text/plain": [
              "array([[0.7 ],\n",
              "       [0.82],\n",
              "       [0.72]])"
            ]
          },
          "metadata": {},
          "execution_count": 31
        }
      ]
    }
  ]
}