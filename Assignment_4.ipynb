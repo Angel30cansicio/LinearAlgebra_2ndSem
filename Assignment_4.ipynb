{
  "nbformat": 4,
  "nbformat_minor": 0,
  "metadata": {
    "colab": {
      "name": "Assignment 4.ipynb",
      "provenance": [],
      "collapsed_sections": [
        "aXNZM6eJBoQ5",
        "tn5ipqn9CM6h",
        "fX_YuC8-DFJR",
        "JUTF1rxfE47p",
        "W27DnmLBF1V7",
        "hkNlGbvbGhE4",
        "q3xUC1NbHG9k",
        "mnxq7RvXHbqp",
        "iGRZiAdhLHUT",
        "CH6gk5IlLW7i",
        "wjTeXfBpLovw",
        "BfuArObZg0Qn"
      ],
      "include_colab_link": true
    },
    "kernelspec": {
      "name": "python3",
      "display_name": "Python 3"
    },
    "language_info": {
      "name": "python"
    }
  },
  "cells": [
    {
      "cell_type": "markdown",
      "metadata": {
        "id": "view-in-github",
        "colab_type": "text"
      },
      "source": [
        "<a href=\"https://colab.research.google.com/github/Angel30cansicio/LinearAlgebra_2ndSem/blob/main/Assignment_4.ipynb\" target=\"_parent\"><img src=\"https://colab.research.google.com/assets/colab-badge.svg\" alt=\"Open In Colab\"/></a>"
      ]
    },
    {
      "cell_type": "code",
      "execution_count": null,
      "metadata": {
        "id": "reEds6aaxl6a"
      },
      "outputs": [],
      "source": [
        ""
      ]
    },
    {
      "cell_type": "markdown",
      "source": [
        "# Linear Algebra for CHE\n",
        "## Laboratory 4 Matrices"
      ],
      "metadata": {
        "id": "WDyeGd8nxrxs"
      }
    },
    {
      "cell_type": "markdown",
      "source": [
        "# Discussion"
      ],
      "metadata": {
        "id": "C9MbRrcsyENt"
      }
    },
    {
      "cell_type": "code",
      "source": [
        "import numpy as np\n",
        "import matplotlib.pyplot as plt\n",
        "import scipy.linalg as la\n",
        "%matplotlib inline"
      ],
      "metadata": {
        "id": "xBf9d21jyKPb"
      },
      "execution_count": 2,
      "outputs": []
    },
    {
      "cell_type": "markdown",
      "source": [
        "# Matrices\n",
        "\n",
        "The notation and use of matrices is probably one of the fundamentals of modern computing. Matrices are also handy representations of complex equations or multiple inter-related equations from 2-dimensional equations to even hundreds and thousands of them. A matrix is a type of two-dimensional array in which each data piece has the same size. As a result, every matrix is also a two-dimensional array, but not the other way around. Matrices are crucial data structures for a wide range of mathematical and scientific calculations."
      ],
      "metadata": {
        "id": "RPuQk2hYzUNO"
      }
    },
    {
      "cell_type": "markdown",
      "source": [
        ""
      ],
      "metadata": {
        "id": "PiIUT7NtzYdl"
      }
    },
    {
      "cell_type": "markdown",
      "source": [
        "$$\n",
        "A = \\left\\{\n",
        "    \\begin{array}\\\n",
        "        x + y \\\\ \n",
        "        4x - 10y\n",
        "    \\end{array}\n",
        "\\right. \\\\\n",
        "B = \\left\\{\n",
        "    \\begin{array}\\\n",
        "        x+y+z \\\\ \n",
        "        3x -2y -z \\\\\n",
        "        -x + 4y +2z\n",
        "    \\end{array}\n",
        "\\right. \\\\\n",
        "C = \\left\\{\n",
        "    \\begin{array}\\\n",
        "        w-2x+3y-4z \\\\\n",
        "        3w- x -2y +2 \\\\\n",
        "        2w -x + 3y - 2z\n",
        "    \\end{array}\n",
        "\\right. $$\n",
        "\n",
        "\n"
      ],
      "metadata": {
        "id": "COEpnWOhz44M"
      }
    },
    {
      "cell_type": "markdown",
      "source": [
        "A=\\begin{bmatrix} 1 & 1 \\\\ 4 & {-10}\\end{bmatrix} \\\\\n",
        "B=\\begin{bmatrix} 1 & 1 & 1 \\\\ 3 & -2 & -1 \\\\ -1 & 4 & 2\\end{bmatrix}\\\\\n",
        "C=\\begin{bmatrix}1 & -2 & 3 & -4 \\\\ 3 & -1 & -2 & 1 \\\\ 2 & -1 & 3 & -2\\end{bmatrix}\n",
        "$$"
      ],
      "metadata": {
        "id": "hw4Ah_OH1czh"
      }
    },
    {
      "cell_type": "markdown",
      "source": [
        "$$A=\\begin{bmatrix}\n",
        "a_{(0,0)}&a_{(0,1)}&\\dots&a_{(0,j-1)}\\\\\n",
        "a_{(1,0)}&a_{(1,1)}&\\dots&a_{(1,j-1)}\\\\\n",
        "\\vdots&\\vdots&\\ddots&\\vdots&\\\\\n",
        "a_{(i-1,0)}&a_{(i-1,1)}&\\dots&a_{(i-1,j-1)}\n",
        "\\end{bmatrix}\n",
        "$$\n"
      ],
      "metadata": {
        "id": "Q6MYIthy3eLI"
      }
    },
    {
      "cell_type": "code",
      "source": [
        "## since we'll keep on describing matrices. Let's make a function\n",
        "def describe_mat(matrix):\n",
        "  print(f'Matrix:\\n{matrix}\\n\\nShape:\\t{matrix.shape}\\nRank:\\t{matrix.ndim}\\n')"
      ],
      "metadata": {
        "id": "Yf9XpFV235jd"
      },
      "execution_count": 4,
      "outputs": []
    },
    {
      "cell_type": "code",
      "source": [
        "## Declaring a 2 x 2 matrix\n",
        "A = np.array ([\n",
        "    [1, 2],\n",
        "    [3, 1]\n",
        "])\n",
        "describe_mat(A)"
      ],
      "metadata": {
        "colab": {
          "base_uri": "https://localhost:8080/"
        },
        "id": "gNfPEsWBA1Ez",
        "outputId": "54f52a56-4dff-4aa7-d4ca-fb428d21e5d4"
      },
      "execution_count": 5,
      "outputs": [
        {
          "output_type": "stream",
          "name": "stdout",
          "text": [
            "Matrix:\n",
            "[[1 2]\n",
            " [3 1]]\n",
            "\n",
            "Shape:\t(2, 2)\n",
            "Rank:\t2\n",
            "\n"
          ]
        }
      ]
    },
    {
      "cell_type": "code",
      "source": [
        "## Declaring a 3 x 2 matrix\n",
        "B = np.array ([\n",
        "    [1, 2],\n",
        "    [3, 1],\n",
        "    [5, 8]\n",
        "])\n",
        "describe_mat(B)"
      ],
      "metadata": {
        "colab": {
          "base_uri": "https://localhost:8080/"
        },
        "id": "ILJSKv9UBIOk",
        "outputId": "a106801a-3b7f-4a52-dee0-ed01ec3b5082"
      },
      "execution_count": 6,
      "outputs": [
        {
          "output_type": "stream",
          "name": "stdout",
          "text": [
            "Matrix:\n",
            "[[1 2]\n",
            " [3 1]\n",
            " [5 8]]\n",
            "\n",
            "Shape:\t(3, 2)\n",
            "Rank:\t2\n",
            "\n"
          ]
        }
      ]
    },
    {
      "cell_type": "markdown",
      "source": [
        "## Categorizing Matrices\n",
        "Row and Column Matrices\n",
        "\n",
        "We define a row and column matrix in this code by using np.array, which adds strong data structures to Python that ensure rapid calculations with arrays and matrices, as well as a large library of high-level mathematical functions that operate on these arrays and matrices. A matrix can be implemented as a nested list in Python (list inside a list). Each element is regarded as a matrix row. Columns are the designations we assign to the two dimensions of a matrix or more by convention."
      ],
      "metadata": {
        "id": "cL9OMGrE-tZk"
      }
    },
    {
      "cell_type": "code",
      "source": [
        "## Declaring a Row Matrix\n",
        "\n",
        "row_mat_1D = np.array ([\n",
        "    1, 3, 2\n",
        "]) ## this is a 1-D Matrix with a shape of (3,), it's not really considered as a row matrix\n",
        "row_mat_2D = np.array ([\n",
        "    [1,2,3,-4]\n",
        "]) ## this is a 2\n",
        "describe_mat(row_mat_1D)\n",
        "describe_mat(row_mat_2D)"
      ],
      "metadata": {
        "colab": {
          "base_uri": "https://localhost:8080/"
        },
        "id": "b9es99MxBQ59",
        "outputId": "7333584f-009a-42a5-b9ab-666840aed2d1"
      },
      "execution_count": 7,
      "outputs": [
        {
          "output_type": "stream",
          "name": "stdout",
          "text": [
            "Matrix:\n",
            "[1 3 2]\n",
            "\n",
            "Shape:\t(3,)\n",
            "Rank:\t1\n",
            "\n",
            "Matrix:\n",
            "[[ 1  2  3 -4]]\n",
            "\n",
            "Shape:\t(1, 4)\n",
            "Rank:\t2\n",
            "\n"
          ]
        }
      ]
    },
    {
      "cell_type": "code",
      "source": [
        "## Declaring a Column Matrix\n",
        "\n",
        "col_mat = np.array ([\n",
        "    [3], \n",
        "    [5], \n",
        "    [1]\n",
        "]) ## this is a 2-D Matrix with a shape of (3,1)\n",
        "describe_mat(col_mat)"
      ],
      "metadata": {
        "colab": {
          "base_uri": "https://localhost:8080/"
        },
        "id": "1nZa_Y-hBHna",
        "outputId": "fbafe27d-6c27-42b0-c5ec-297917790137"
      },
      "execution_count": 8,
      "outputs": [
        {
          "output_type": "stream",
          "name": "stdout",
          "text": [
            "Matrix:\n",
            "[[3]\n",
            " [5]\n",
            " [1]]\n",
            "\n",
            "Shape:\t(3, 1)\n",
            "Rank:\t2\n",
            "\n"
          ]
        }
      ]
    },
    {
      "cell_type": "markdown",
      "source": [
        "## Square Matrices\n",
        "A matrix is a rectangular data or number structure. It's a rectangular array of data or numbers, in other words. In a matrix, the horizontal entries are referred to as 'rows,' while the vertical elements are referred to as 'columns.'\n"
      ],
      "metadata": {
        "id": "aXNZM6eJBoQ5"
      }
    },
    {
      "cell_type": "code",
      "source": [
        "def describe_mat(matrix):\n",
        "    is_square = True if matrix.shape[0] == matrix.shape[1] else False\n",
        "    print(f'Matrix:\\n{matrix}\\n\\nShape:\\t{matrix.shape}\\nRank:\\t{matrix.ndim}\\nIs square: {is_square}\\n')"
      ],
      "metadata": {
        "id": "zcKYZbiG97kK"
      },
      "execution_count": 9,
      "outputs": []
    },
    {
      "cell_type": "code",
      "source": [
        "square_mat = np.array ([\n",
        "   [3,5,1],\n",
        "   [1,2,3],\n",
        "   [1,5,9]                     \n",
        "])\n",
        "\n",
        "non_square_mat = np.array ([\n",
        "   [3,5,2],\n",
        "   [1,2,4]                   \n",
        "])\n",
        "describe_mat(square_mat)\n",
        "describe_mat(non_square_mat)"
      ],
      "metadata": {
        "colab": {
          "base_uri": "https://localhost:8080/"
        },
        "id": "3uZhECowCB8S",
        "outputId": "7fc36b47-6206-4730-8905-c0880bd38d2b"
      },
      "execution_count": 10,
      "outputs": [
        {
          "output_type": "stream",
          "name": "stdout",
          "text": [
            "Matrix:\n",
            "[[3 5 1]\n",
            " [1 2 3]\n",
            " [1 5 9]]\n",
            "\n",
            "Shape:\t(3, 3)\n",
            "Rank:\t2\n",
            "Is square: True\n",
            "\n",
            "Matrix:\n",
            "[[3 5 2]\n",
            " [1 2 4]]\n",
            "\n",
            "Shape:\t(2, 3)\n",
            "Rank:\t2\n",
            "Is square: False\n",
            "\n"
          ]
        }
      ]
    },
    {
      "cell_type": "markdown",
      "source": [
        "## Null Matrix\n",
        "In a relational database, a null value is used when a column's value is unknown or missing. A null value is neither an empty string nor a zero value (for character or datetime data types) (for numeric data types). It's a unique object that symbolizes the lack of a value. A None is returned by any function that does not return anything."
      ],
      "metadata": {
        "id": "tn5ipqn9CM6h"
      }
    },
    {
      "cell_type": "code",
      "source": [
        "def describe_mat(matrix):\n",
        "    if matrix.size > 0:\n",
        "      is_square = True if matrix.shape[0] == matrix.shape[1] else False\n",
        "      print(f'Matrix:\\n{matrix}\\n\\nShape:\\t{matrix.shape}\\nRank:\\t{matrix.ndim}\\nIs Square: {is_square}\\n')\n",
        "    else:\n",
        "      print('Matrix is Null')"
      ],
      "metadata": {
        "id": "QtyzLBVzCmff"
      },
      "execution_count": 11,
      "outputs": []
    },
    {
      "cell_type": "code",
      "source": [
        "null_mat = np.array([])\n",
        "describe_mat(null_mat)"
      ],
      "metadata": {
        "colab": {
          "base_uri": "https://localhost:8080/"
        },
        "id": "0A-xmAH_FJei",
        "outputId": "750a2efb-11a2-426f-80f0-102845c68245"
      },
      "execution_count": 12,
      "outputs": [
        {
          "output_type": "stream",
          "name": "stdout",
          "text": [
            "Matrix is Null\n"
          ]
        }
      ]
    },
    {
      "cell_type": "markdown",
      "source": [
        "## Zero Matrix\n",
        "Simple solutions to algebraic equations involving matrices are possible with Zero Matrices. The zero matrix, for example, can be defined as an additive group, making it a useful variable in situations when an unknown matrix must be solved.\n"
      ],
      "metadata": {
        "id": "fX_YuC8-DFJR"
      }
    },
    {
      "cell_type": "code",
      "source": [
        "zero_mat_row = np.zeros ((1,2))\n",
        "zero_mat_sqr = np.zeros ((2,2))\n",
        "zero_mat_rct = np.zeros ((3,2))\n",
        "\n",
        "print(f'Zero Row Matrix: \\n{zero_mat_row}')\n",
        "print(f'Zero Square Matrix: \\n{zero_mat_sqr}')\n",
        "print(f'Zero Rectangle Matrix: \\n{zero_mat_rct}')"
      ],
      "metadata": {
        "colab": {
          "base_uri": "https://localhost:8080/"
        },
        "id": "x9Ant5YHDIiy",
        "outputId": "d70742f6-9c22-4717-869d-ac7873145ddc"
      },
      "execution_count": 13,
      "outputs": [
        {
          "output_type": "stream",
          "name": "stdout",
          "text": [
            "Zero Row Matrix: \n",
            "[[0. 0.]]\n",
            "Zero Square Matrix: \n",
            "[[0. 0.]\n",
            " [0. 0.]]\n",
            "Zero Rectangle Matrix: \n",
            "[[0. 0.]\n",
            " [0. 0.]\n",
            " [0. 0.]]\n"
          ]
        }
      ]
    },
    {
      "cell_type": "code",
      "source": [
        "ones_mat_row =np.ones ((2,3))\n",
        "ones_mat_sqr= np.ones((3,3,))\n",
        "ones_mat_rct=np.ones ((4,3))\n",
        "\n",
        "print(f'Ones Row Matrix: \\n{ones_mat_row}')\n",
        "print(f'Ones Square Matrix: \\n{ones_mat_sqr}')\n",
        "print(f'Ones Rectangle Matrix: \\n{ones_mat_row}')"
      ],
      "metadata": {
        "colab": {
          "base_uri": "https://localhost:8080/"
        },
        "outputId": "1b532f05-6e95-4c4e-de39-d3e4a7688e37",
        "id": "B3HLQia5D7S_"
      },
      "execution_count": 14,
      "outputs": [
        {
          "output_type": "stream",
          "name": "stdout",
          "text": [
            "Ones Row Matrix: \n",
            "[[1. 1. 1.]\n",
            " [1. 1. 1.]]\n",
            "Ones Square Matrix: \n",
            "[[1. 1. 1.]\n",
            " [1. 1. 1.]\n",
            " [1. 1. 1.]]\n",
            "Ones Rectangle Matrix: \n",
            "[[1. 1. 1.]\n",
            " [1. 1. 1.]]\n"
          ]
        }
      ]
    },
    {
      "cell_type": "markdown",
      "source": [
        "## Diagonal Matrix\n",
        "Many parts of linear algebra use diagonal matrices. Because of the above-mentioned straightforward description of the matrix operation and eigenvalues/eigenvectors, a diagonal matrix is commonly used to describe a given matrix or linear map. We can extract a diagonal element from a matrix and output it as a one-dimensional matrix."
      ],
      "metadata": {
        "id": "JUTF1rxfE47p"
      }
    },
    {
      "cell_type": "code",
      "source": [
        "np.array ([\n",
        "  [3,5,1],\n",
        "  [0,3,1],\n",
        "  [7,8,9]         \n",
        "])"
      ],
      "metadata": {
        "colab": {
          "base_uri": "https://localhost:8080/"
        },
        "id": "vczZzxjCFV9f",
        "outputId": "4b31657b-f309-45ac-f866-42a07c136b8e"
      },
      "execution_count": 15,
      "outputs": [
        {
          "output_type": "execute_result",
          "data": {
            "text/plain": [
              "array([[3, 5, 1],\n",
              "       [0, 3, 1],\n",
              "       [7, 8, 9]])"
            ]
          },
          "metadata": {},
          "execution_count": 15
        }
      ]
    },
    {
      "cell_type": "code",
      "source": [
        "d = np.diag([2,3,4,5])\n",
        "d.shape[0]==d.shape[1]\n",
        "d"
      ],
      "metadata": {
        "colab": {
          "base_uri": "https://localhost:8080/"
        },
        "id": "2EoGw9nLFoLN",
        "outputId": "60c0d483-fcb0-4721-b748-167b73c95551"
      },
      "execution_count": 16,
      "outputs": [
        {
          "output_type": "execute_result",
          "data": {
            "text/plain": [
              "array([[2, 0, 0, 0],\n",
              "       [0, 3, 0, 0],\n",
              "       [0, 0, 4, 0],\n",
              "       [0, 0, 0, 5]])"
            ]
          },
          "metadata": {},
          "execution_count": 16
        }
      ]
    },
    {
      "cell_type": "markdown",
      "source": [
        "## Identity Matrix\n",
        "A squared matrix (infinite ratio of rows and columns) with all diagonal values equal to 1 is an identity matrix. All of the other spots, on the other hand, have a value of 0. The NumPy identity() method assists us with this and delivers an identity matrix as asked."
      ],
      "metadata": {
        "id": "W27DnmLBF1V7"
      }
    },
    {
      "cell_type": "code",
      "source": [
        "np.eye (3)"
      ],
      "metadata": {
        "colab": {
          "base_uri": "https://localhost:8080/"
        },
        "id": "-AwvFhtbF3_C",
        "outputId": "5a157f0e-a874-4f36-d1ed-e74fde33853d"
      },
      "execution_count": 17,
      "outputs": [
        {
          "output_type": "execute_result",
          "data": {
            "text/plain": [
              "array([[1., 0., 0.],\n",
              "       [0., 1., 0.],\n",
              "       [0., 0., 1.]])"
            ]
          },
          "metadata": {},
          "execution_count": 17
        }
      ]
    },
    {
      "cell_type": "code",
      "source": [
        "np.identity(5)"
      ],
      "metadata": {
        "colab": {
          "base_uri": "https://localhost:8080/"
        },
        "id": "3MBxz2C1GWEw",
        "outputId": "e92aa1be-9b15-4ff1-db30-f594aa1fcdf3"
      },
      "execution_count": 18,
      "outputs": [
        {
          "output_type": "execute_result",
          "data": {
            "text/plain": [
              "array([[1., 0., 0., 0., 0.],\n",
              "       [0., 1., 0., 0., 0.],\n",
              "       [0., 0., 1., 0., 0.],\n",
              "       [0., 0., 0., 1., 0.],\n",
              "       [0., 0., 0., 0., 1.]])"
            ]
          },
          "metadata": {},
          "execution_count": 18
        }
      ]
    },
    {
      "cell_type": "markdown",
      "source": [
        "## Upper Triangular Matrix\n",
        "All entries below the significant diagonal are zero in the upper triangular matrix. A suitable triangular matrix is the upper triangular matrix, whereas a left triangular matrix is the lower triangular matrix."
      ],
      "metadata": {
        "id": "hkNlGbvbGhE4"
      }
    },
    {
      "cell_type": "code",
      "source": [
        "np.array([\n",
        "  [2,3,4,5],\n",
        "  [1,1,8,1],\n",
        "  [0,0,8,0],\n",
        "  [0,0,0,3]\n",
        "])"
      ],
      "metadata": {
        "colab": {
          "base_uri": "https://localhost:8080/"
        },
        "id": "LiiKL37DGm4r",
        "outputId": "445147e3-a438-417a-f354-7633d18e3f0e"
      },
      "execution_count": 19,
      "outputs": [
        {
          "output_type": "execute_result",
          "data": {
            "text/plain": [
              "array([[2, 3, 4, 5],\n",
              "       [1, 1, 8, 1],\n",
              "       [0, 0, 8, 0],\n",
              "       [0, 0, 0, 3]])"
            ]
          },
          "metadata": {},
          "execution_count": 19
        }
      ]
    },
    {
      "cell_type": "markdown",
      "source": [
        "## Lower Triangular Matrix\n",
        "A lower triangular matrix has entries that are zero above the main diagonal. Lower triangular matrices are also known as left triangular matrices. Lower triangular matrices are square matrices with zero entries above the main diagonal."
      ],
      "metadata": {
        "id": "q3xUC1NbHG9k"
      }
    },
    {
      "cell_type": "code",
      "source": [
        "np.array([\n",
        "    [1,0,0],\n",
        "    [5,3,0],\n",
        "    [3,5,1]      \n",
        "\n",
        "])"
      ],
      "metadata": {
        "colab": {
          "base_uri": "https://localhost:8080/"
        },
        "id": "7wwQZKbqfp50",
        "outputId": "5fb52116-b3f3-4c64-a864-931cab189953"
      },
      "execution_count": 20,
      "outputs": [
        {
          "output_type": "execute_result",
          "data": {
            "text/plain": [
              "array([[1, 0, 0],\n",
              "       [5, 3, 0],\n",
              "       [3, 5, 1]])"
            ]
          },
          "metadata": {},
          "execution_count": 20
        }
      ]
    },
    {
      "cell_type": "code",
      "source": [
        "np.array([\n",
        "    [1,0,0],\n",
        "    [5,3,0],\n",
        "    [3,5,1]      \n",
        "\n",
        "])"
      ],
      "metadata": {
        "colab": {
          "base_uri": "https://localhost:8080/"
        },
        "id": "ymTEAqjRgeWd",
        "outputId": "7229b242-46ce-4e6b-f1c8-0a240282aa42"
      },
      "execution_count": 21,
      "outputs": [
        {
          "output_type": "execute_result",
          "data": {
            "text/plain": [
              "array([[1, 0, 0],\n",
              "       [5, 3, 0],\n",
              "       [3, 5, 1]])"
            ]
          },
          "metadata": {},
          "execution_count": 21
        }
      ]
    },
    {
      "cell_type": "markdown",
      "source": [
        "## Practice 1\n",
        "1. Given the linear combination below, try to create a corresponding matrix representing it."
      ],
      "metadata": {
        "id": "mnxq7RvXHbqp"
      }
    },
    {
      "cell_type": "markdown",
      "source": [
        ":$$\\theta = 5x + 3y - z$$\n"
      ],
      "metadata": {
        "id": "L0i7vLEWJ01e"
      }
    },
    {
      "cell_type": "markdown",
      "source": [
        "\n",
        "$$\n",
        "\\theta = \\begin{bmatrix} 5  &  3 & -1\\end{bmatrix} \\\\\n",
        "$$\n",
        "\n",
        "```\n",
        "\n"
      ],
      "metadata": {
        "id": "McEbjrIELqHf"
      }
    },
    {
      "cell_type": "code",
      "source": [
        "def describe_mat (matrix):\n",
        " print(f'Matrix:\\n{matrix}\\n\\nShape:\\t{matrix.shape}\\nRank:\\t{matrix.ndim}\\n')"
      ],
      "metadata": {
        "id": "IAn4cXvTPSbJ"
      },
      "execution_count": 22,
      "outputs": []
    },
    {
      "cell_type": "code",
      "source": [
        "theta = np.array ([\n",
        "  [5,3,-1]\n",
        "])\n",
        "describe_mat (theta)"
      ],
      "metadata": {
        "id": "SHkKSOhKPRw3",
        "colab": {
          "base_uri": "https://localhost:8080/"
        },
        "outputId": "e2d7caaa-9a94-4e12-c29f-1e9673b9fb41"
      },
      "execution_count": 23,
      "outputs": [
        {
          "output_type": "stream",
          "name": "stdout",
          "text": [
            "Matrix:\n",
            "[[ 5  3 -1]]\n",
            "\n",
            "Shape:\t(1, 3)\n",
            "Rank:\t2\n",
            "\n"
          ]
        }
      ]
    },
    {
      "cell_type": "markdown",
      "source": [
        "2. Given the system of linear combinations below, try to encode it is amatrix. Also describe the matrix."
      ],
      "metadata": {
        "id": "KQVZUXaoHt-A"
      }
    },
    {
      "cell_type": "markdown",
      "source": [
        "$$\n",
        "A = \\left\\{\\begin{array}\n",
        "5x_1 + 2x_2 +x_3\\\\\n",
        "4x_2 - x_3\\\\\n",
        "10x_3\n",
        "\\end{array}\\right.\n",
        "$$\n"
      ],
      "metadata": {
        "id": "dSFAGg6FKIeW"
      }
    },
    {
      "cell_type": "code",
      "source": [
        "import numpy as np\n",
        "import matplotlib.pyplot as plt\n",
        "import scipy.linalg as la\n",
        "%matplotlib inline"
      ],
      "metadata": {
        "id": "mju-EsLFOK6P"
      },
      "execution_count": 24,
      "outputs": []
    },
    {
      "cell_type": "code",
      "source": [
        "def describe_mat(matrix):\n",
        "    is_square = True if matrix.shape[0] == matrix.shape[1] else False\n",
        "    print(f'Matrix:\\n{matrix}\\n\\nShape:\\t{matrix.shape}\\nRank:\\t{matrix.ndim}\\nIs square: {is_square}\\n')"
      ],
      "metadata": {
        "id": "VL7OLFnUNiWP"
      },
      "execution_count": 25,
      "outputs": []
    },
    {
      "cell_type": "code",
      "source": [
        "A = np.array ([\n",
        "   [1,2,1],\n",
        "   [0,4,-1],\n",
        "   [0,0,10]                     \n",
        "])\n",
        "\n",
        "describe_mat(A)"
      ],
      "metadata": {
        "colab": {
          "base_uri": "https://localhost:8080/"
        },
        "id": "ug7mvc5tNj4n",
        "outputId": "f76380a5-543f-45b4-fe5f-686d78abc099"
      },
      "execution_count": 26,
      "outputs": [
        {
          "output_type": "stream",
          "name": "stdout",
          "text": [
            "Matrix:\n",
            "[[ 1  2  1]\n",
            " [ 0  4 -1]\n",
            " [ 0  0 10]]\n",
            "\n",
            "Shape:\t(3, 3)\n",
            "Rank:\t2\n",
            "Is square: True\n",
            "\n"
          ]
        }
      ]
    },
    {
      "cell_type": "markdown",
      "source": [
        "3. Given the matrix below, express it as a linear combination in a markdown and a LaTeX markdown\n",
        "\n"
      ],
      "metadata": {
        "id": "Ab7_FjkvH8FG"
      }
    },
    {
      "cell_type": "code",
      "source": [
        "G = np.array([\n",
        "    [1,7,8],\n",
        "    [2,2,2],\n",
        "    [4,6,7]\n",
        "])"
      ],
      "metadata": {
        "id": "bcOflwqSK4uH"
      },
      "execution_count": 27,
      "outputs": []
    },
    {
      "cell_type": "markdown",
      "source": [
        "$$\n",
        "G = \\begin{bmatrix} 1 & 7 & 8 \\\\ 2 & 2 & 2 \\\\ 4 & 6 & 7\\end{bmatrix}\n",
        "$$"
      ],
      "metadata": {
        "id": "lhurVH18PkYb"
      }
    },
    {
      "cell_type": "markdown",
      "source": [
        "$$\n",
        "G = \\left\\{\n",
        "    \\begin{array}\\\n",
        "        1 + 7 + 8 \\\\\n",
        "        2 + 2 + 2 \\\\\n",
        "        4 + 6 + 7 \\\\\n",
        "    \\end{array}\n",
        "\\right. \\\\\n",
        " $$"
      ],
      "metadata": {
        "id": "RQIStnsjPoYa"
      }
    },
    {
      "cell_type": "markdown",
      "source": [
        "4. Given the matrix below, display the output as a LaTeX markdown also express it as a system of linear combinations.\n"
      ],
      "metadata": {
        "id": "_uwNRM-VJK4y"
      }
    },
    {
      "cell_type": "code",
      "source": [
        "H = np.tril(G)\n",
        "H"
      ],
      "metadata": {
        "id": "p8pQ1TdPSZPr",
        "colab": {
          "base_uri": "https://localhost:8080/"
        },
        "outputId": "f3f03b1b-ef2a-4d81-c4fc-b8a6e120a753"
      },
      "execution_count": 28,
      "outputs": [
        {
          "output_type": "execute_result",
          "data": {
            "text/plain": [
              "array([[1, 0, 0],\n",
              "       [2, 2, 0],\n",
              "       [4, 6, 7]])"
            ]
          },
          "metadata": {},
          "execution_count": 28
        }
      ]
    },
    {
      "cell_type": "code",
      "source": [
        "([[1,0,0],\n",
        "  [2,2,0],\n",
        "  [4,6,7]])"
      ],
      "metadata": {
        "colab": {
          "base_uri": "https://localhost:8080/"
        },
        "id": "k8weE6YdSBNV",
        "outputId": "7241a3b4-4e01-4f44-8bae-8b5c98631f50"
      },
      "execution_count": 29,
      "outputs": [
        {
          "output_type": "execute_result",
          "data": {
            "text/plain": [
              "[[1, 0, 0], [2, 2, 0], [4, 6, 7]]"
            ]
          },
          "metadata": {},
          "execution_count": 29
        }
      ]
    },
    {
      "cell_type": "markdown",
      "source": [
        "$$\n",
        "H = \\begin{bmatrix} 1 & 0 & 0 \\\\ 2 & 2 & 0 \\\\ 4 & 6 & 7\\end{bmatrix}\n",
        "$$"
      ],
      "metadata": {
        "id": "drahQWJfSgEH"
      }
    },
    {
      "cell_type": "markdown",
      "source": [
        "$$\n",
        "H = \\left\\{\n",
        "    \\begin{array}\\\n",
        "        1 + 0 + 0 \\\\\n",
        "        2 + 2 + 0 \\\\\n",
        "        4 + 6 + 7 \\\\\n",
        "    \\end{array}\n",
        "\\right. \\\\\n",
        " $$"
      ],
      "metadata": {
        "id": "zuGuHVaCSrgI"
      }
    },
    {
      "cell_type": "markdown",
      "source": [
        "## Matrix Algebra\n",
        "Addition\n",
        "They are adding two matrices by adding the corresponding elements together, known as matrix addition in mathematics. However, other operations for matrices, such as the direct sum and the Kronecker sum, can also be termed addition."
      ],
      "metadata": {
        "id": "iGRZiAdhLHUT"
      }
    },
    {
      "cell_type": "code",
      "source": [
        "A = np.array([\n",
        "    [1,2],\n",
        "    [3,4],           \n",
        "    [6,7]\n",
        "])\n",
        "B = np.array([\n",
        "    [2,2],\n",
        "    [0,4],           \n",
        "    [5,1]              \n",
        "])\n",
        "A+B"
      ],
      "metadata": {
        "colab": {
          "base_uri": "https://localhost:8080/"
        },
        "id": "fQCqHMZRLK-z",
        "outputId": "23e416e9-3ea3-4e17-b987-332463d03bc9"
      },
      "execution_count": 30,
      "outputs": [
        {
          "output_type": "execute_result",
          "data": {
            "text/plain": [
              "array([[ 3,  4],\n",
              "       [ 3,  8],\n",
              "       [11,  8]])"
            ]
          },
          "metadata": {},
          "execution_count": 30
        }
      ]
    },
    {
      "cell_type": "code",
      "source": [
        "3+A ##Broadcasting"
      ],
      "metadata": {
        "colab": {
          "base_uri": "https://localhost:8080/"
        },
        "id": "REhCCNxVLV1a",
        "outputId": "38f06b8b-0fb9-4d04-ab91-bbd239cf5caa"
      },
      "execution_count": 31,
      "outputs": [
        {
          "output_type": "execute_result",
          "data": {
            "text/plain": [
              "array([[ 4,  5],\n",
              "       [ 6,  7],\n",
              "       [ 9, 10]])"
            ]
          },
          "metadata": {},
          "execution_count": 31
        }
      ]
    },
    {
      "cell_type": "markdown",
      "source": [
        "## Subtraction\n",
        "If two matrices have the same order or dimensions, they can be subtracted. To subtract two or more matrices, they must each have the same number of rows and columns. If the elements of two matrices are in the same order, subtracting one from the other is feasible."
      ],
      "metadata": {
        "id": "CH6gk5IlLW7i"
      }
    },
    {
      "cell_type": "code",
      "source": [
        "A = np.array([\n",
        "    [1,2],\n",
        "    [3,4],           \n",
        "    [6,7]\n",
        "])\n",
        "B = np.array([\n",
        "    [2,2],\n",
        "    [0,4],           \n",
        "    [5,1]              \n",
        "])\n",
        "A-B"
      ],
      "metadata": {
        "colab": {
          "base_uri": "https://localhost:8080/"
        },
        "id": "2C6z9QBBLcSm",
        "outputId": "e97111ce-9a41-4511-ada4-ecbfce8bd339"
      },
      "execution_count": 32,
      "outputs": [
        {
          "output_type": "execute_result",
          "data": {
            "text/plain": [
              "array([[-1,  0],\n",
              "       [ 3,  0],\n",
              "       [ 1,  6]])"
            ]
          },
          "metadata": {},
          "execution_count": 32
        }
      ]
    },
    {
      "cell_type": "code",
      "source": [
        "6-B ##Broadcasting"
      ],
      "metadata": {
        "colab": {
          "base_uri": "https://localhost:8080/"
        },
        "id": "1nIx1laVLhuf",
        "outputId": "d0b0024f-3c87-49e7-f578-95f1af549b07"
      },
      "execution_count": 33,
      "outputs": [
        {
          "output_type": "execute_result",
          "data": {
            "text/plain": [
              "array([[4, 4],\n",
              "       [6, 2],\n",
              "       [1, 5]])"
            ]
          },
          "metadata": {},
          "execution_count": 33
        }
      ]
    },
    {
      "cell_type": "markdown",
      "source": [
        "## Element-wise Multiplication\n",
        "Elements of the first matrix are multiplied by the corresponding component of the second matrix in element-wise matrix multiplication (also known as Hadamard Product). Each matrix must be of the exact dimensions when doing element-wise matrix multiplication."
      ],
      "metadata": {
        "id": "wjTeXfBpLovw"
      }
    },
    {
      "cell_type": "code",
      "source": [
        "A*B"
      ],
      "metadata": {
        "colab": {
          "base_uri": "https://localhost:8080/"
        },
        "id": "rJ8c81Z_LsWF",
        "outputId": "45bbef44-9736-4151-a06e-33483abb22a5"
      },
      "execution_count": 34,
      "outputs": [
        {
          "output_type": "execute_result",
          "data": {
            "text/plain": [
              "array([[ 2,  4],\n",
              "       [ 0, 16],\n",
              "       [30,  7]])"
            ]
          },
          "metadata": {},
          "execution_count": 34
        }
      ]
    },
    {
      "cell_type": "code",
      "source": [
        "4*A"
      ],
      "metadata": {
        "colab": {
          "base_uri": "https://localhost:8080/"
        },
        "id": "YQs25MdaLvjY",
        "outputId": "0855da7e-db99-4c06-963f-97299cdcf914"
      },
      "execution_count": 35,
      "outputs": [
        {
          "output_type": "execute_result",
          "data": {
            "text/plain": [
              "array([[ 4,  8],\n",
              "       [12, 16],\n",
              "       [24, 28]])"
            ]
          },
          "metadata": {},
          "execution_count": 35
        }
      ]
    },
    {
      "cell_type": "markdown",
      "source": [
        "## Activity 2\n"
      ],
      "metadata": {
        "id": "BfuArObZg0Qn"
      }
    },
    {
      "cell_type": "markdown",
      "source": [
        "## Task 1"
      ],
      "metadata": {
        "id": "7DKLZmD6g8wi"
      }
    },
    {
      "cell_type": "markdown",
      "source": [
        "Create a function named `mat_desc()` that througouhly describes a matrix, it should: <br>\n",
        "1. Displays the shape, size, and rank of the matrix. <br>\n",
        "2. Displays whether the matrix is square or non-square. <br>\n",
        "3. Displays whether the matrix is an empty matrix. <br>\n",
        "4. Displays if the matrix is an identity, ones, or zeros matrix <br>\n",
        "   \n",
        "Use 3 sample matrices in which their shapes are not lower than $(3,3)$.\n",
        "In your methodology, create a flowchart discuss the functions and methods you have done. Present your results in the results section showing the description of each matrix you have declared."
      ],
      "metadata": {
        "id": "Yy2q9ECEg_Uc"
      }
    },
    {
      "cell_type": "code",
      "source": [
        "import numpy as np\n",
        "X = int(input(\"Number of rows:\"))\n",
        "Y = int(input(\"Number of columns:\")) \n",
        "print(\"Elements per row (values will be separatade by space): \")  \n",
        "entries = list(map(int, input().split()))\n",
        "matrix = np.array(entries).reshape(X, Y)\n",
        "def describe_mat(matrix):\n",
        "  is_square = True if matrix.shape[0] == matrix.shape[1] else False\n",
        "  print(f'\\nMatrix:\\n{matrix}\\n\\nShape:\\t{matrix.shape}\\nRank:\\t{matrix.ndim}\\nIs Square: {is_square}')\n",
        "describe_mat(matrix)\n",
        "is_empty = matrix == 0\n",
        "if False:\n",
        "  print('The matrix is empty')\n",
        "else:\n",
        "   print('The matrix is not empty')\n",
        "\n",
        "point=0\n",
        "for m in range(len(matrix)):\n",
        "    for s in range(len(matrix[0])):\n",
        "        if m == s and matrix[m][s] != 1:\n",
        "            point=1\n",
        "            break\n",
        "        elif m!=s and matrix[m][s]!=0:\n",
        "            point=1\n",
        "            break\n",
        "arr = matrix\n",
        "is_all_zero = np.all((arr == 0))\n",
        "if is_all_zero:\n",
        "    print('The matrix only have 0')\n",
        "else:\n",
        "    print('The matrix has non-zero items')\n",
        "\n",
        "arr = matrix\n",
        "is_all_zero = np.all((arr == 1))\n",
        "if is_all_zero:\n",
        "    print('The matrix only have 1')\n",
        "else:\n",
        "    print('The matrix non-ones items')"
      ],
      "metadata": {
        "id": "fh4Nd-k7oysq",
        "colab": {
          "base_uri": "https://localhost:8080/"
        },
        "outputId": "e38f1e18-3d60-46bd-f943-5beda636b406"
      },
      "execution_count": 36,
      "outputs": [
        {
          "output_type": "stream",
          "name": "stdout",
          "text": [
            "Number of rows:1\n",
            "Number of columns:1\n",
            "Elements per row (values will be separatade by space): \n",
            "1\n",
            "\n",
            "Matrix:\n",
            "[[1]]\n",
            "\n",
            "Shape:\t(1, 1)\n",
            "Rank:\t2\n",
            "Is Square: True\n",
            "The matrix is not empty\n",
            "The matrix has non-zero items\n",
            "The matrix only have 1\n"
          ]
        }
      ]
    },
    {
      "cell_type": "markdown",
      "source": [
        "## Function"
      ],
      "metadata": {
        "id": "-SVuUDpdhL2k"
      }
    },
    {
      "cell_type": "code",
      "source": [
        "## Function"
      ],
      "metadata": {
        "id": "dyzL9n8UhK0c"
      },
      "execution_count": null,
      "outputs": []
    },
    {
      "cell_type": "code",
      "source": [
        "## Matrix Declarations"
      ],
      "metadata": {
        "id": "xlrXdfcRhhIp"
      },
      "execution_count": null,
      "outputs": []
    },
    {
      "cell_type": "code",
      "source": [
        "## Test Areas"
      ],
      "metadata": {
        "id": "R_9NYbGlhlsR"
      },
      "execution_count": null,
      "outputs": []
    },
    {
      "cell_type": "markdown",
      "source": [
        "## Task 2"
      ],
      "metadata": {
        "id": "y9w9cAV4hpMn"
      }
    },
    {
      "cell_type": "markdown",
      "source": [
        "Create a function named mat_operations() that takes in two matrices a input parameters it should:\n",
        "\n",
        "Determines if the matrices are viable for operation and returns your own error message if they are not viable.\n",
        "Returns the sum of the matrices.\n",
        "Returns the differen of the matrices.\n",
        "Returns the element-wise multiplication of the matrices.\n",
        "Returns the element-wise division of the matrices.\n",
        "Use 3 sample matrices in which their shapes are not lower than  (3,3) . In your methodology, create a flowchart discuss the functions and methods you have done. Present your results in the results section showing the description of each matrix you have declared."
      ],
      "metadata": {
        "id": "NnOV4vXxhrng"
      }
    },
    {
      "cell_type": "code",
      "source": [
        "import numpy as np\n",
        "def mat_operation(a,b):\n",
        "  r1=len(a)\n",
        "  r2=len(b)\n",
        "  c1=len(a[0])\n",
        "  c2=len(b[0])\n",
        "  if r1!=r2 and c1!=c2 :\n",
        "    return \"Operation not possible\"\n",
        "  #Compute the sum of the array\n",
        "  s=[[0]*c1]*r1\n",
        "  d=[[0]*c1]*r1\n",
        "  p=[[0]*c1]*r1\n",
        "  d=[[0]*c1]*r1\n",
        "  for i in range(r1):\n",
        "    for j in range(c1):\n",
        "      s[i][j]=a[i][j]+b[i][j]\n",
        "      d[i][j]=a[i][j]-b[i][j]\n",
        "      p[i][j]=a[i][j]*b[i][j]\n",
        "      d[i][j]=a[i][j]/b[i][j]\n",
        "  return [s,d,p,d]\n",
        "#generate the 2 random matrices\n",
        "x =  np.random.randint(100, size=(3, 3))\n",
        "y =  np.random.randint(100, size=(3, 3))\n",
        "print(\"x= \",x)\n",
        "print(\"y= \",y)\n",
        "[s,d,p,d]=mat_operation(x,y)\n",
        "print(\"x+y\",s)\n",
        "print(\"x-y\",d)\n",
        "print(\"x*y\",p)\n",
        "print(\"x/y\",d)"
      ],
      "metadata": {
        "colab": {
          "base_uri": "https://localhost:8080/"
        },
        "id": "q7iWviTZIDTG",
        "outputId": "fc59e5b7-21db-43fd-e789-fd49e056ecf4"
      },
      "execution_count": 37,
      "outputs": [
        {
          "output_type": "stream",
          "name": "stdout",
          "text": [
            "x=  [[56 66  9]\n",
            " [89 37 27]\n",
            " [20 33 46]]\n",
            "y=  [[36 15 41]\n",
            " [78 92 48]\n",
            " [ 6 94 22]]\n",
            "x+y [[26, 127, 68], [26, 127, 68], [26, 127, 68]]\n",
            "x-y [[3.3333333333333335, 0.35106382978723405, 2.090909090909091], [3.3333333333333335, 0.35106382978723405, 2.090909090909091], [3.3333333333333335, 0.35106382978723405, 2.090909090909091]]\n",
            "x*y [[120, 3102, 1012], [120, 3102, 1012], [120, 3102, 1012]]\n",
            "x/y [[3.3333333333333335, 0.35106382978723405, 2.090909090909091], [3.3333333333333335, 0.35106382978723405, 2.090909090909091], [3.3333333333333335, 0.35106382978723405, 2.090909090909091]]\n"
          ]
        }
      ]
    },
    {
      "cell_type": "markdown",
      "source": [
        "## Conclusion"
      ],
      "metadata": {
        "id": "zxDEp1hYhy-V"
      }
    },
    {
      "cell_type": "markdown",
      "source": [
        "For your conclusion synthesize the concept and application of the laboratory. Briefly discuss what you have learned and achieved in this activity. Also answer the question: \"How can matrix operations solve problems in technology?\""
      ],
      "metadata": {
        "id": "xYCr5zJ2h1mN"
      }
    }
  ]
}