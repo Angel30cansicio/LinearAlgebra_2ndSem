{
  "nbformat": 4,
  "nbformat_minor": 0,
  "metadata": {
    "colab": {
      "name": " Assignment 10_CANSICIO,HERNANDEZ.ipynb",
      "provenance": [],
      "collapsed_sections": [],
      "include_colab_link": true
    },
    "kernelspec": {
      "name": "python3",
      "display_name": "Python 3"
    },
    "language_info": {
      "name": "python"
    }
  },
  "cells": [
    {
      "cell_type": "markdown",
      "metadata": {
        "id": "view-in-github",
        "colab_type": "text"
      },
      "source": [
        "<a href=\"https://colab.research.google.com/github/Angel30cansicio/LinearAlgebra_2ndSem/blob/main/Assignment_10_CANSICIO%2CHERNANDEZ.ipynb\" target=\"_parent\"><img src=\"https://colab.research.google.com/assets/colab-badge.svg\" alt=\"Open In Colab\"/></a>"
      ]
    },
    {
      "cell_type": "markdown",
      "source": [
        "#Linear Algebra for ChE"
      ],
      "metadata": {
        "id": "SA25YAd7Y42i"
      }
    },
    {
      "cell_type": "markdown",
      "source": [
        "#Assignment 10 : Linear Combination and Vector Spaces"
      ],
      "metadata": {
        "id": "L0xQpNLERTXi"
      }
    },
    {
      "cell_type": "markdown",
      "source": [
        "Now that you have a fundamental knowledge about linear combination, we'll try to visualize it using scientific programming.\n",
        "\n"
      ],
      "metadata": {
        "id": "G4FcLaQZRUyH"
      }
    },
    {
      "cell_type": "markdown",
      "source": [
        "##Objectives"
      ],
      "metadata": {
        "id": "CPmQ5vWzRWN0"
      }
    },
    {
      "cell_type": "markdown",
      "source": [
        "At the end of this activity you will be able to:\n",
        "1.   Be familiar with representing linear combinations in the 2-dimensional plane.\n",
        "2.   Visualize spans using vector fields in Python.\n",
        "3. Perform vector fields operations using scientific programming.\n",
        "\n",
        "\n"
      ],
      "metadata": {
        "id": "9NqWTQT-RZqJ"
      }
    },
    {
      "cell_type": "markdown",
      "source": [
        "#Discussion"
      ],
      "metadata": {
        "id": "iQDiTBpjRkyt"
      }
    },
    {
      "cell_type": "code",
      "source": [
        "import numpy as np\n",
        "import matplotlib.pyplot as plt\n",
        "%matplotlib inline"
      ],
      "metadata": {
        "id": "V8HJLxyPRm3b"
      },
      "execution_count": 9,
      "outputs": []
    },
    {
      "cell_type": "markdown",
      "source": [
        "# Linear Combination\n"
      ],
      "metadata": {
        "id": "kRPjJkkeR6f_"
      }
    },
    {
      "cell_type": "markdown",
      "source": [
        "A linear combination of vectors is defined as one vector being equal to the sum of scalar multiples of other vectors.\n",
        "\n",
        "For example, suppose 2a = 3b + 4c, as shown below.\n",
        "\n"
      ],
      "metadata": {
        "id": "iMKZAyhLR81T"
      }
    },
    {
      "cell_type": "markdown",
      "source": [
        "$$ X = \\begin{bmatrix} 2 \\\\ 5\\end{bmatrix} , Y = \\begin{bmatrix} 7 \\\\ 9\\end{bmatrix}$$\n",
        "\n",
        "\n"
      ],
      "metadata": {
        "id": "u9em9LjmR_n-"
      }
    },
    {
      "cell_type": "code",
      "source": [
        "vectX =  np.array([2,5])\n",
        "vectY =  np.array([7,9])"
      ],
      "metadata": {
        "id": "19prKuTm8I2d"
      },
      "execution_count": 18,
      "outputs": []
    },
    {
      "cell_type": "markdown",
      "source": [
        "Note that 3b is a scalar multiple and 4c is a scalar multiple. Thus, 2a is a linear combination of b and c.\n",
        "\n"
      ],
      "metadata": {
        "id": "vAhbIoO2WdCy"
      }
    },
    {
      "cell_type": "markdown",
      "source": [
        "###Span of single vectors\n",
        "It is the collection of all number vector linear combinations. It can be represented by a line span. \n",
        "\n",
        "One vector with a scalar is ALWAYS on the same line, no matter how much it expands or shrinks, because the direction or slope does not change. A LINE IS ONE VECTOR'S SPAN.\n",
        "\n",
        "For example,\n",
        "\n"
      ],
      "metadata": {
        "id": "VblD6FQdSUZr"
      }
    },
    {
      "cell_type": "markdown",
      "source": [
        "$$ X=c \\cdot \\begin{bmatrix} 2 \\\\ 5\\end{bmatrix}$$"
      ],
      "metadata": {
        "id": "j3X96EU7SheV"
      }
    },
    {
      "cell_type": "markdown",
      "source": [
        "The graphical representations of the coded single vectors are shown below. The scripts employed distinct single vectors per program, with the goal of creating an instance of ndarray with regularly spaced values and returning the reference to it. Additionally, the code used 'plt.xlim' and 'plt.ylim' to establish and obtain X- and Y-axis limits, respectively. Additionally, the axes coordinates are drawn using the 'plt.axhline' and 'plt.axvline' functions. Finally, 'plt.grid' and 'plt.show' were incoded, resulting in a graph with grid lines that displayed all open figures.\n"
      ],
      "metadata": {
        "id": "Ibu9svsZbd4w"
      }
    },
    {
      "cell_type": "code",
      "source": [
        "c = np.arange(-10,10,0.25)\n",
        "\n",
        "plt.scatter(c*vectX[0],c*vectX[1])\n",
        "\n",
        "\n",
        "plt.xlim(-10,10)\n",
        "plt.ylim(-10,10)\n",
        "plt.axhline(y=0, color='k')\n",
        "plt.axvline(x=0, color='k')\n",
        "plt.grid()\n",
        "plt.show()"
      ],
      "metadata": {
        "colab": {
          "base_uri": "https://localhost:8080/",
          "height": 269
        },
        "id": "nfgK3vWAS6Jn",
        "outputId": "48a2f640-5b6d-478f-d716-1b2ac5b99d78"
      },
      "execution_count": 19,
      "outputs": [
        {
          "output_type": "display_data",
          "data": {
            "text/plain": [
              "<Figure size 432x288 with 1 Axes>"
            ],
            "image/png": "[encoded data removed]"
          },
          "metadata": {
            "needs_background": "light"
          }
        }
      ]
    },
    {
      "cell_type": "code",
      "source": [
        "vectY =  np.array([7,9])\n",
        "\n",
        "c = np.arange(-6,6,0.6)\n",
        "\n",
        "plt.scatter(c*vectY[1],c*vectY[0])\n",
        "\n",
        "plt.xlim(-10,5)\n",
        "plt.ylim(-10,5)\n",
        "plt.axhline(y=0, color='k')\n",
        "plt.axvline(x=0, color='k')\n",
        "plt.grid()\n",
        "plt.show()"
      ],
      "metadata": {
        "colab": {
          "base_uri": "https://localhost:8080/",
          "height": 265
        },
        "id": "ggoCVO_LiDvR",
        "outputId": "5d5cb3b2-47da-4d1c-baff-fe0ec28b936c"
      },
      "execution_count": 20,
      "outputs": [
        {
          "output_type": "display_data",
          "data": {
            "text/plain": [
              "<Figure size 432x288 with 1 Axes>"
            ],
            "image/png": "[encoded data removed]"
          },
          "metadata": {
            "needs_background": "light"
          }
        }
      ]
    },
    {
      "cell_type": "markdown",
      "source": [
        "### Span of a linear combination of vectors\n",
        "Span of a vectors refers to all the linear combination of a number present in a vector. In other words, it is a set of all the linear combination or the multiples. It is just the basis of the ful llist of linear combinations that can be created from the elements present that wll be multiplied by a set of scalars.\n",
        "\n",
        "\n"
      ],
      "metadata": {
        "id": "830LLzQFTAlQ"
      }
    },
    {
      "cell_type": "markdown",
      "source": [
        "$$ X=\\begin{Bmatrix}c_{1} \\cdot \\begin{bmatrix} 1 \\\\ 0\\end{bmatrix},c_{2} \\cdot \\begin{bmatrix} 1 \\\\ -10\\end{bmatrix}\\end{Bmatrix}$$\n"
      ],
      "metadata": {
        "id": "WGqabF7dTHsL"
      }
    },
    {
      "cell_type": "code",
      "source": [
        "vectA = np.array([1,0])\n",
        "vectB = np.array([1,-1])\n",
        "R = np.arange(-10,10,1)\n",
        "c1, c2 = np.meshgrid(R,R)\n",
        "vectR = vectA + vectB\n",
        "spanRx = c1*vectA[0] + c2*vectB[0]\n",
        "spanRy = c1*vectA[1] + c2*vectB[1]\n",
        "plt.scatter(spanRx,spanRy, s=5, alpha=0.75)\n",
        "\n",
        "plt.axhline(y=0, color='k')\n",
        "plt.axvline(x=0, color='k')\n",
        "plt.grid()\n",
        "plt.show()"
      ],
      "metadata": {
        "colab": {
          "base_uri": "https://localhost:8080/",
          "height": 265
        },
        "id": "KORELMorVNWf",
        "outputId": "b67df801-d823-442e-ef85-d85c8fff3dc2"
      },
      "execution_count": 12,
      "outputs": [
        {
          "output_type": "display_data",
          "data": {
            "text/plain": [
              "<Figure size 432x288 with 1 Axes>"
            ],
            "image/png": "[encoded data removed]"
          },
          "metadata": {
            "needs_background": "light"
          }
        }
      ]
    },
    {
      "cell_type": "markdown",
      "source": [
        "The graphical representation of the given vectors is shown on the graphs below. Variables A and B represent two sets of vectors. The command \"np.arange\" returns the reference after creating an array with evenly spaced values. The operation \"np.meshgrid\" is used to generate a rectangular grid from two one-dimensional arrays on a Cartesian plane. Adding the provided vectors yields the resultant vector. The commands \"spanRx\" and \"spanRy,\" on the other hand, are used to express a finite list of elements. To exhibit data points and values in a scattered location, use the command \"plt.scatter.\" To create horizontal and vertical lines across the origin, use the commands \"plt.axhline\" and \"plt.axvline.\""
      ],
      "metadata": {
        "id": "PeEXPLbI81X-"
      }
    },
    {
      "cell_type": "code",
      "source": [
        "vectP = np.array([7,4])\n",
        "vectQ = np.array([6,9])\n",
        "\n",
        "R = np.arange(-8,11,1)\n",
        "\n",
        "c1, c2 = np.meshgrid(R,R)\n",
        "\n",
        "vectR = vectP + vectQ\n",
        "spanRx = c1*vectP[0] + c2*vectQ[0]\n",
        "spanRy = c1*vectP[1] + c2*vectQ[1]\n",
        "#plt.scatter(R*vectA[0],R*vectA[1])\n",
        "#plt.scatter(R*vectB[0],R*vectB[1])\n",
        "plt.scatter(spanRx,spanRy, s=6, alpha=0.75)\n",
        "\n",
        "plt.axhline(y=0, color='k')\n",
        "plt.axvline(x=0, color='k')\n",
        "plt.grid()\n",
        "plt.show()"
      ],
      "metadata": {
        "colab": {
          "base_uri": "https://localhost:8080/",
          "height": 265
        },
        "id": "1BdGQhDT84Lb",
        "outputId": "6a0ca43c-454b-4a6d-c517-e1cf30da7f5e"
      },
      "execution_count": 21,
      "outputs": [
        {
          "output_type": "display_data",
          "data": {
            "text/plain": [
              "<Figure size 432x288 with 1 Axes>"
            ],
            "image/png": "[encoded data removed]"
          },
          "metadata": {
            "needs_background": "light"
          }
        }
      ]
    },
    {
      "cell_type": "markdown",
      "source": [
        "Take note that if vectors are seen to be as a 2-dimensional span we can say it has a Rank of 2 or $\\mathbb{R}^2$. But if the span of the linear combination of vectors are seen to be like a line, they are said to be <b> linearly dependent </b> and they have a rank of 1 or $\\mathbb{R}^1$."
      ],
      "metadata": {
        "id": "yoypnc7IVQD4"
      }
    },
    {
      "cell_type": "markdown",
      "source": [
        "#Activity"
      ],
      "metadata": {
        "id": "pmO3d6TlWplg"
      }
    },
    {
      "cell_type": "markdown",
      "source": [
        "##Task 1\n",
        "Try different linear combinations using different scalar values. In your methodology discuss the different functions that you have used, the linear equation and vector form of the linear combination, and the flowchart for declaring and displaying linear combinations. Please make sure that your flowchart has only few words and not putting the entire code as it is bad practice. In your results, display and discuss the linear combination visualization you made. You should use the cells below for displaying the equation markdows using LaTeX and your code.\n",
        "\n"
      ],
      "metadata": {
        "id": "KeGCq-QZXp2c"
      }
    },
    {
      "cell_type": "markdown",
      "source": [
        "$$S = \\begin{bmatrix} 7\\\\10 \\\\\\end{bmatrix} , L = \\begin{bmatrix} 11\\\\9\\\\\\end{bmatrix} $$\n"
      ],
      "metadata": {
        "id": "jMAuhI-kXtSQ"
      }
    },
    {
      "cell_type": "code",
      "source": [
        "vectX =  np.array([7,11])\n",
        "vectY =  np.array([10,9])"
      ],
      "metadata": {
        "id": "106B7AYd5I-g"
      },
      "execution_count": 22,
      "outputs": []
    },
    {
      "cell_type": "markdown",
      "source": [
        "###Span of single vectors"
      ],
      "metadata": {
        "id": "cg_S4B0Y2Tkq"
      }
    },
    {
      "cell_type": "markdown",
      "source": [
        "$$S = t\\cdot \\begin{bmatrix} 9\\\\12 \\\\\\end{bmatrix} $$\n"
      ],
      "metadata": {
        "id": "KSlhNnQMx3ud"
      }
    },
    {
      "cell_type": "code",
      "source": [
        "t = np.arange(-9,9,0.189)\n",
        "\n",
        "plt.scatter(t*vectS[0],t*vectS[1], color='pink')\n",
        "plt.xlim(-5,5)\n",
        "plt.ylim(-5,5)\n",
        "plt.axhline(y=0, color='fuchsia')\n",
        "plt.axvline(x=0, color='fuchsia')\n",
        "plt.grid()\n",
        "plt.show()"
      ],
      "metadata": {
        "colab": {
          "base_uri": "https://localhost:8080/",
          "height": 265
        },
        "id": "MncY2Bvdx8Hf",
        "outputId": "75a09f6f-7cce-4102-a546-cfc70898c96c"
      },
      "execution_count": 23,
      "outputs": [
        {
          "output_type": "display_data",
          "data": {
            "text/plain": [
              "<Figure size 432x288 with 1 Axes>"
            ],
            "image/png": "[encoded data removed]"
          },
          "metadata": {
            "needs_background": "light"
          }
        }
      ]
    },
    {
      "cell_type": "code",
      "source": [
        "t = np.arange(-4,8,0.5)\n",
        "\n",
        "plt.scatter(t*vectL[0],t*vectL[1], color='pink')\n",
        "plt.xlim(-12,12)\n",
        "plt.ylim(-12,12)\n",
        "plt.axhline(y=0, color='fuchsia')\n",
        "plt.axvline(x=0, color='fuchsia')\n",
        "plt.grid()\n",
        "plt.show()"
      ],
      "metadata": {
        "colab": {
          "base_uri": "https://localhost:8080/",
          "height": 265
        },
        "id": "Sn1qa3VV2hsp",
        "outputId": "923d163a-cc5f-4159-8df8-ee0b52f6658c"
      },
      "execution_count": 25,
      "outputs": [
        {
          "output_type": "display_data",
          "data": {
            "text/plain": [
              "<Figure size 432x288 with 1 Axes>"
            ],
            "image/png": "[encoded data removed]"
          },
          "metadata": {
            "needs_background": "light"
          }
        }
      ]
    },
    {
      "cell_type": "markdown",
      "source": [
        "###Span of a linear combination of vectors"
      ],
      "metadata": {
        "id": "enUvgrhk2JfI"
      }
    },
    {
      "cell_type": "markdown",
      "source": [
        "$$S = \\begin{Bmatrix} c_1 \\cdot\\begin{bmatrix}6\\\\12 \\\\\\end{bmatrix}, \n",
        "c_2 \\cdot \\begin{bmatrix} 8\\\\9 \\\\\\end{bmatrix}\\end{Bmatrix} $$"
      ],
      "metadata": {
        "id": "ExSJD5PU2IHT"
      }
    },
    {
      "cell_type": "code",
      "source": [
        "K = np.arange(-12,12,.189)\n",
        "\n",
        "c1, c2 = np.meshgrid(K,K)\n",
        "\n",
        "vectK = vectS + vectL\n",
        "spanKx = c1*vectS[0] + c2*vectL[0]\n",
        "spanKy = c1*vectS[1] + c2*vectL[1]\n",
        "\n",
        "plt.scatter(spanKx,spanKy, s=10, alpha=0.75)\n",
        "plt.xlim(-10,10)\n",
        "plt.ylim(-10,10)\n",
        "plt.axhline(y=0, color='fuchsia')\n",
        "plt.axvline(x=0, color='fuchsia')\n",
        "plt.grid()\n",
        "plt.show()"
      ],
      "metadata": {
        "colab": {
          "base_uri": "https://localhost:8080/",
          "height": 269
        },
        "id": "oMp-XrNJzeaE",
        "outputId": "925dd323-99ec-4196-ff8e-f12a19757497"
      },
      "execution_count": 26,
      "outputs": [
        {
          "output_type": "display_data",
          "data": {
            "text/plain": [
              "<Figure size 432x288 with 1 Axes>"
            ],
            "image/png": "[encoded data removed]"
          },
          "metadata": {
            "needs_background": "light"
          }
        }
      ]
    }
  ]
}